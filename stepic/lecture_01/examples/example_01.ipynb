{
 "cells": [
  {
   "cell_type": "code",
   "execution_count": 41,
   "metadata": {
    "collapsed": false
   },
   "outputs": [],
   "source": [
    "import numpy as np\n",
    "import numpy.random as npr\n",
    "import scipy.stats as ss\n",
    "import sklearn.svm as svm"
   ]
  },
  {
   "cell_type": "code",
   "execution_count": 69,
   "metadata": {
    "collapsed": false
   },
   "outputs": [],
   "source": [
    "rs = npr.RandomState(41)\n",
    "good_price = np.round(rs.normal(500, 200, 10))\n",
    "bad_price = np.round(rs.normal(400, 50, 10))"
   ]
  },
  {
   "cell_type": "code",
   "execution_count": 76,
   "metadata": {
    "collapsed": false
   },
   "outputs": [
    {
     "name": "stdout",
     "output_type": "stream",
     "text": [
      "446 & 521 & 550 & 315 & 613 & 292 & 469 & 658 & 255 & 310\n",
      "372 & 351 & 361 & 398 & 348 & 457 & 370 & 473 & 475 & 435\n"
     ]
    }
   ],
   "source": [
    "print \" & \".join(map(lambda s: \"%.0f\" % s, good_price))\n",
    "print \" & \".join(map(lambda s: \"%.0f\" % s, bad_price))"
   ]
  },
  {
   "cell_type": "code",
   "execution_count": 77,
   "metadata": {
    "collapsed": false
   },
   "outputs": [
    {
     "name": "stdout",
     "output_type": "stream",
     "text": [
      "m_r=443 sigma_r=136\n",
      "m_a=404 sigma_a=49\n"
     ]
    }
   ],
   "source": [
    "print \"m_r=%.0f sigma_r=%.0f\" % ss.norm.fit(good_price)\n",
    "print \"m_a=%.0f sigma_a=%.0f\" % ss.norm.fit(bad_price)"
   ]
  },
  {
   "cell_type": "code",
   "execution_count": 86,
   "metadata": {
    "collapsed": false
   },
   "outputs": [
    {
     "name": "stdout",
     "output_type": "stream",
     "text": [
      "[ 3.67938931]\n",
      "[[-0.00763359]]\n",
      "[[ 482.]]\n"
     ]
    }
   ],
   "source": [
    "svc = svm.SVC(kernel='linear', C=0.001)\n",
    "svc.fit(np.array([good_price, bad_price]).reshape(20, 1), np.arange(20, dtype=int) / 10)\n",
    "print svc.intercept_\n",
    "print svc.coef_\n",
    "print - svc.intercept_ / svc.coef_"
   ]
  },
  {
   "cell_type": "code",
   "execution_count": null,
   "metadata": {
    "collapsed": true
   },
   "outputs": [],
   "source": []
  }
 ],
 "metadata": {
  "kernelspec": {
   "display_name": "Python 2",
   "language": "python",
   "name": "python2"
  },
  "language_info": {
   "codemirror_mode": {
    "name": "ipython",
    "version": 2
   },
   "file_extension": ".py",
   "mimetype": "text/x-python",
   "name": "python",
   "nbconvert_exporter": "python",
   "pygments_lexer": "ipython2",
   "version": "2.7.9"
  }
 },
 "nbformat": 4,
 "nbformat_minor": 0
}
