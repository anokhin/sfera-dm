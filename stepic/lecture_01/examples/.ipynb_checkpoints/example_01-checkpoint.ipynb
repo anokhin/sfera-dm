{
 "metadata": {
  "name": "",
  "signature": "sha256:2e06b5747e65e15b9f67f810666505e4d5b6ed12bb7aa55176c533c445185090"
 },
 "nbformat": 3,
 "nbformat_minor": 0,
 "worksheets": [
  {
   "cells": [
    {
     "cell_type": "code",
     "collapsed": false,
     "input": [
      "import pandas as pd\n",
      "import numpy as np\n",
      "import scipy.cluster.hierarchy as hc\n",
      "import scipy.spatial.distance as sd\n",
      "import pylab as pl\n",
      "#import simplemapplot\n",
      "\n",
      "%pylab inline\n",
      "\n",
      "import scipy.stats as ss\n",
      "import sklearn.svm as svm"
     ],
     "language": "python",
     "metadata": {},
     "outputs": [
      {
       "output_type": "stream",
       "stream": "stdout",
       "text": [
        "Populating the interactive namespace from numpy and matplotlib\n"
       ]
      },
      {
       "output_type": "stream",
       "stream": "stderr",
       "text": [
        "WARNING: pylab import has clobbered these variables: ['shuffle']\n",
        "`%matplotlib` prevents importing * from pylab and numpy\n"
       ]
      }
     ],
     "prompt_number": 84
    },
    {
     "cell_type": "code",
     "collapsed": false,
     "input": [
      "white_ds = pd.read_csv(\"white.csv\", sep=\";\")\n",
      "red_ds = pd.read_csv(\"red.csv\", sep=\";\")\n",
      "\n",
      "wine_ds = pd.concat([white_ds, red_ds])\n",
      "good_ds = wine_ds[wine_ds[\"quality\"] >= 8]\n",
      "bad_ds = wine_ds[wine_ds[\"quality\"] <= 4]\n",
      "\n",
      "def shuffle(df):\n",
      "    index = list(df.index)\n",
      "    random.shuffle(index)\n",
      "    df = df.ix[index]\n",
      "    df.reset_index()\n",
      "    return df"
     ],
     "language": "python",
     "metadata": {},
     "outputs": [],
     "prompt_number": 85
    },
    {
     "cell_type": "code",
     "collapsed": false,
     "input": [
      "shuffle(good_ds[[\"alcohol\", \"quality\"]]).head(10)"
     ],
     "language": "python",
     "metadata": {},
     "outputs": [
      {
       "html": [
        "<div style=\"max-height:1000px;max-width:1500px;overflow:auto;\">\n",
        "<table border=\"1\" class=\"dataframe\">\n",
        "  <thead>\n",
        "    <tr style=\"text-align: right;\">\n",
        "      <th></th>\n",
        "      <th>alcohol</th>\n",
        "      <th>quality</th>\n",
        "    </tr>\n",
        "  </thead>\n",
        "  <tbody>\n",
        "    <tr>\n",
        "      <th>4065</th>\n",
        "      <td> 12.9</td>\n",
        "      <td> 8</td>\n",
        "    </tr>\n",
        "    <tr>\n",
        "      <th>2857</th>\n",
        "      <td> 12.6</td>\n",
        "      <td> 8</td>\n",
        "    </tr>\n",
        "    <tr>\n",
        "      <th>672 </th>\n",
        "      <td> 12.5</td>\n",
        "      <td> 8</td>\n",
        "    </tr>\n",
        "    <tr>\n",
        "      <th>1306</th>\n",
        "      <td> 12.8</td>\n",
        "      <td> 8</td>\n",
        "    </tr>\n",
        "    <tr>\n",
        "      <th>2873</th>\n",
        "      <td> 12.4</td>\n",
        "      <td> 8</td>\n",
        "    </tr>\n",
        "    <tr>\n",
        "      <th>3070</th>\n",
        "      <td> 12.5</td>\n",
        "      <td> 8</td>\n",
        "    </tr>\n",
        "    <tr>\n",
        "      <th>17  </th>\n",
        "      <td> 12.8</td>\n",
        "      <td> 8</td>\n",
        "    </tr>\n",
        "    <tr>\n",
        "      <th>3484</th>\n",
        "      <td> 13.4</td>\n",
        "      <td> 8</td>\n",
        "    </tr>\n",
        "    <tr>\n",
        "      <th>3480</th>\n",
        "      <td> 12.6</td>\n",
        "      <td> 8</td>\n",
        "    </tr>\n",
        "    <tr>\n",
        "      <th>1797</th>\n",
        "      <td> 11.3</td>\n",
        "      <td> 8</td>\n",
        "    </tr>\n",
        "  </tbody>\n",
        "</table>\n",
        "</div>"
       ],
       "metadata": {},
       "output_type": "pyout",
       "prompt_number": 86,
       "text": [
        "      alcohol  quality\n",
        "4065     12.9        8\n",
        "2857     12.6        8\n",
        "672      12.5        8\n",
        "1306     12.8        8\n",
        "2873     12.4        8\n",
        "3070     12.5        8\n",
        "17       12.8        8\n",
        "3484     13.4        8\n",
        "3480     12.6        8\n",
        "1797     11.3        8"
       ]
      }
     ],
     "prompt_number": 86
    },
    {
     "cell_type": "code",
     "collapsed": false,
     "input": [
      "shuffle(bad_ds[[\"alcohol\", \"quality\"]]).head(10)"
     ],
     "language": "python",
     "metadata": {},
     "outputs": [
      {
       "html": [
        "<div style=\"max-height:1000px;max-width:1500px;overflow:auto;\">\n",
        "<table border=\"1\" class=\"dataframe\">\n",
        "  <thead>\n",
        "    <tr style=\"text-align: right;\">\n",
        "      <th></th>\n",
        "      <th>alcohol</th>\n",
        "      <th>quality</th>\n",
        "    </tr>\n",
        "  </thead>\n",
        "  <tbody>\n",
        "    <tr>\n",
        "      <th>1505</th>\n",
        "      <td>  9.95</td>\n",
        "      <td> 3</td>\n",
        "    </tr>\n",
        "    <tr>\n",
        "      <th>4774</th>\n",
        "      <td> 11.20</td>\n",
        "      <td> 4</td>\n",
        "    </tr>\n",
        "    <tr>\n",
        "      <th>1293</th>\n",
        "      <td> 11.60</td>\n",
        "      <td> 4</td>\n",
        "    </tr>\n",
        "    <tr>\n",
        "      <th>1293</th>\n",
        "      <td>  9.70</td>\n",
        "      <td> 4</td>\n",
        "    </tr>\n",
        "    <tr>\n",
        "      <th>1469</th>\n",
        "      <td>  9.70</td>\n",
        "      <td> 3</td>\n",
        "    </tr>\n",
        "    <tr>\n",
        "      <th>207 </th>\n",
        "      <td>  9.90</td>\n",
        "      <td> 4</td>\n",
        "    </tr>\n",
        "    <tr>\n",
        "      <th>1781</th>\n",
        "      <td> 10.50</td>\n",
        "      <td> 4</td>\n",
        "    </tr>\n",
        "    <tr>\n",
        "      <th>496 </th>\n",
        "      <td>  8.60</td>\n",
        "      <td> 4</td>\n",
        "    </tr>\n",
        "    <tr>\n",
        "      <th>3662</th>\n",
        "      <td> 10.40</td>\n",
        "      <td> 4</td>\n",
        "    </tr>\n",
        "    <tr>\n",
        "      <th>282 </th>\n",
        "      <td> 10.50</td>\n",
        "      <td> 4</td>\n",
        "    </tr>\n",
        "  </tbody>\n",
        "</table>\n",
        "</div>"
       ],
       "metadata": {},
       "output_type": "pyout",
       "prompt_number": 87,
       "text": [
        "      alcohol  quality\n",
        "1505     9.95        3\n",
        "4774    11.20        4\n",
        "1293    11.60        4\n",
        "1293     9.70        4\n",
        "1469     9.70        3\n",
        "207      9.90        4\n",
        "1781    10.50        4\n",
        "496      8.60        4\n",
        "3662    10.40        4\n",
        "282     10.50        4"
       ]
      }
     ],
     "prompt_number": 87
    },
    {
     "cell_type": "code",
     "collapsed": false,
     "input": [
      "good_count, bins = np.histogram(good_ds[\"alcohol\"], bins=50, range=(5, 15))\n",
      "bad_count, bins = np.histogram(bad_ds[\"alcohol\"], bins=50, range=(5, 15))\n",
      "#red_counts, bins = np.histogram(red_ds[\"alcohol\"], bins=100, range=(5, 15))\n",
      "\n",
      "pl.figure(figsize=(12, 10))\n",
      "pl.bar(bins[:-1], good_count, (bins[1]-bins[0])*0.4, color=\"red\", alpha=0.6, label=\"good\", ec=\"none\")\n",
      "pl.bar(bins[:-1] + (bins[1]-bins[0])*0.5, bad_count, (bins[1]-bins[0])*0.4, color=\"blue\", alpha=0.4, label=\"bad\", ec=\"none\")\n",
      "pl.xlim(7, 15)\n",
      "pl.xlabel(\"Alcohol by volume, %\", fontsize=20)\n",
      "pl.ylabel(\"Number of observations\", fontsize=20)\n",
      "pl.tick_params(axis='both', which='major', labelsize=20)\n",
      "pl.legend(prop={'size':20}, frameon=False)\n",
      "pl.show()"
     ],
     "language": "python",
     "metadata": {},
     "outputs": [
      {
       "metadata": {},
       "output_type": "display_data",
       "png": "[encoded data removed]",
       "text": [
        "<matplotlib.figure.Figure at 0x294518d0>"
       ]
      }
     ],
     "prompt_number": 88
    },
    {
     "cell_type": "code",
     "collapsed": false,
     "input": [
      "print \"m_r=%.1f sigma_r=%.1f\" % ss.norm.fit(good_ds[\"alcohol\"])\n",
      "print \"m_a=%.1f sigma_a=%.1f\" % ss.norm.fit(bad_ds[\"alcohol\"])"
     ],
     "language": "python",
     "metadata": {},
     "outputs": [
      {
       "output_type": "stream",
       "stream": "stdout",
       "text": [
        "m_r=11.7 sigma_r=1.3\n",
        "m_a=10.2 sigma_a=1.0\n"
       ]
      }
     ],
     "prompt_number": 92
    },
    {
     "cell_type": "code",
     "collapsed": false,
     "input": [
      "x = np.zeros((good_ds.shape[0] + bad_ds.shape[0], 1))\n",
      "x[:good_ds.shape[0], 0] = good_ds[\"alcohol\"]\n",
      "x[good_ds.shape[0]:, 0] = bad_ds[\"alcohol\"]\n",
      "\n",
      "y = np.zeros(good_ds.shape[0] + bad_ds.shape[0])\n",
      "y[:good_ds.shape[0]] = 1\n",
      "\n",
      "svc = svm.SVC(kernel='linear', C=1)\n",
      "svc.fit(x, y)\n",
      "print svc.intercept_\n",
      "print svc.coef_\n",
      "print - svc.intercept_ / svc.coef_"
     ],
     "language": "python",
     "metadata": {},
     "outputs": [
      {
       "output_type": "stream",
       "stream": "stdout",
       "text": [
        "[-9.78274867]\n",
        "[[ 0.86957929]]\n",
        "[[ 11.24997889]]\n"
       ]
      }
     ],
     "prompt_number": 96
    },
    {
     "cell_type": "code",
     "collapsed": false,
     "input": [
      "pl.figure(figsize=(12, 10))\n",
      "pl.bar(bins[:-1], good_count, (bins[1]-bins[0])*0.4, color=\"red\", alpha=0.6, label=\"good\", ec=\"none\")\n",
      "pl.bar(bins[:-1] + (bins[1]-bins[0])*0.5, bad_count, (bins[1]-bins[0])*0.4, color=\"blue\", alpha=0.4, label=\"bad\", ec=\"none\")\n",
      "pl.xlim(7, 15)\n",
      "pl.xlabel(\"Alcohol by volume, %\", fontsize=20)\n",
      "pl.ylabel(\"Number of observations\", fontsize=20)\n",
      "pl.tick_params(axis='both', which='major', labelsize=20)\n",
      "pl.legend(prop={'size':20}, frameon=False)\n",
      "pl.axvline(- svc.intercept_ / svc.coef_, 0, 0.97, color=\"black\", lw=4, ls=\"--\", alpha=0.7)\n",
      "pl.show()"
     ],
     "language": "python",
     "metadata": {},
     "outputs": [
      {
       "metadata": {},
       "output_type": "display_data",
       "png": "[encoded data removed]",
       "text": [
        "<matplotlib.figure.Figure at 0x29f0b048>"
       ]
      }
     ],
     "prompt_number": 117
    },
    {
     "cell_type": "code",
     "collapsed": false,
     "input": [],
     "language": "python",
     "metadata": {},
     "outputs": []
    }
   ],
   "metadata": {}
  }
 ]
}