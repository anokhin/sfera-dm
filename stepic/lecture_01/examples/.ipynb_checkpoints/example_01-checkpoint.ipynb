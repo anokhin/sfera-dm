{
 "cells": [
  {
   "cell_type": "code",
   "execution_count": 1,
   "metadata": {
    "collapsed": false
   },
   "outputs": [
    {
     "name": "stdout",
     "output_type": "stream",
     "text": [
      "Populating the interactive namespace from numpy and matplotlib\n"
     ]
    }
   ],
   "source": [
    "import pandas as pd\n",
    "import numpy as np\n",
    "import scipy.cluster.hierarchy as hc\n",
    "import scipy.spatial.distance as sd\n",
    "import pylab as pl\n",
    "#import simplemapplot\n",
    "\n",
    "%pylab inline\n",
    "\n",
    "import scipy.stats as ss\n",
    "import sklearn.svm as svm"
   ]
  },
  {
   "cell_type": "code",
   "execution_count": 3,
   "metadata": {
    "collapsed": false
   },
   "outputs": [],
   "source": [
    "white_ds = pd.read_csv(\"white.csv\", sep=\";\")\n",
    "red_ds = pd.read_csv(\"red.csv\", sep=\";\")\n",
    "\n",
    "wine_ds = pd.concat([white_ds, red_ds])\n",
    "good_ds = wine_ds[wine_ds[\"quality\"] >= 8]\n",
    "bad_ds = wine_ds[wine_ds[\"quality\"] <= 4]\n",
    "\n",
    "def shuffle(df):\n",
    "    index = list(df.index)\n",
    "    random.shuffle(index)\n",
    "    df = df.ix[index]\n",
    "    df.reset_index()\n",
    "    return df"
   ]
  },
  {
   "cell_type": "code",
   "execution_count": 4,
   "metadata": {
    "collapsed": false
   },
   "outputs": [
    {
     "data": {
      "text/html": [
       "<div style=\"max-height:1000px;max-width:1500px;overflow:auto;\">\n",
       "<table border=\"1\" class=\"dataframe\">\n",
       "  <thead>\n",
       "    <tr style=\"text-align: right;\">\n",
       "      <th></th>\n",
       "      <th>alcohol</th>\n",
       "      <th>quality</th>\n",
       "    </tr>\n",
       "  </thead>\n",
       "  <tbody>\n",
       "    <tr>\n",
       "      <th>2333</th>\n",
       "      <td>12.6</td>\n",
       "      <td>8</td>\n",
       "    </tr>\n",
       "    <tr>\n",
       "      <th>1493</th>\n",
       "      <td>12.3</td>\n",
       "      <td>8</td>\n",
       "    </tr>\n",
       "    <tr>\n",
       "      <th>3932</th>\n",
       "      <td>11.5</td>\n",
       "      <td>8</td>\n",
       "    </tr>\n",
       "    <tr>\n",
       "      <th>4332</th>\n",
       "      <td>8.8</td>\n",
       "      <td>8</td>\n",
       "    </tr>\n",
       "    <tr>\n",
       "      <th>1715</th>\n",
       "      <td>11.5</td>\n",
       "      <td>8</td>\n",
       "    </tr>\n",
       "    <tr>\n",
       "      <th>2803</th>\n",
       "      <td>11.5</td>\n",
       "      <td>8</td>\n",
       "    </tr>\n",
       "    <tr>\n",
       "      <th>3386</th>\n",
       "      <td>12.5</td>\n",
       "      <td>8</td>\n",
       "    </tr>\n",
       "    <tr>\n",
       "      <th>1187</th>\n",
       "      <td>11.1</td>\n",
       "      <td>8</td>\n",
       "    </tr>\n",
       "    <tr>\n",
       "      <th>845</th>\n",
       "      <td>11.0</td>\n",
       "      <td>8</td>\n",
       "    </tr>\n",
       "    <tr>\n",
       "      <th>3030</th>\n",
       "      <td>12.0</td>\n",
       "      <td>8</td>\n",
       "    </tr>\n",
       "  </tbody>\n",
       "</table>\n",
       "</div>"
      ],
      "text/plain": [
       "      alcohol  quality\n",
       "2333     12.6        8\n",
       "1493     12.3        8\n",
       "3932     11.5        8\n",
       "4332      8.8        8\n",
       "1715     11.5        8\n",
       "2803     11.5        8\n",
       "3386     12.5        8\n",
       "1187     11.1        8\n",
       "845      11.0        8\n",
       "3030     12.0        8"
      ]
     },
     "execution_count": 4,
     "metadata": {},
     "output_type": "execute_result"
    }
   ],
   "source": [
    "shuffle(good_ds[[\"alcohol\", \"quality\"]]).head(10)"
   ]
  },
  {
   "cell_type": "code",
   "execution_count": 5,
   "metadata": {
    "collapsed": false
   },
   "outputs": [
    {
     "data": {
      "text/html": [
       "<div style=\"max-height:1000px;max-width:1500px;overflow:auto;\">\n",
       "<table border=\"1\" class=\"dataframe\">\n",
       "  <thead>\n",
       "    <tr style=\"text-align: right;\">\n",
       "      <th></th>\n",
       "      <th>alcohol</th>\n",
       "      <th>quality</th>\n",
       "    </tr>\n",
       "  </thead>\n",
       "  <tbody>\n",
       "    <tr>\n",
       "      <th>780</th>\n",
       "      <td>11.20</td>\n",
       "      <td>4</td>\n",
       "    </tr>\n",
       "    <tr>\n",
       "      <th>3770</th>\n",
       "      <td>12.00</td>\n",
       "      <td>4</td>\n",
       "    </tr>\n",
       "    <tr>\n",
       "      <th>2119</th>\n",
       "      <td>10.30</td>\n",
       "      <td>4</td>\n",
       "    </tr>\n",
       "    <tr>\n",
       "      <th>459</th>\n",
       "      <td>9.00</td>\n",
       "      <td>3</td>\n",
       "    </tr>\n",
       "    <tr>\n",
       "      <th>3307</th>\n",
       "      <td>11.00</td>\n",
       "      <td>3</td>\n",
       "    </tr>\n",
       "    <tr>\n",
       "      <th>4483</th>\n",
       "      <td>9.55</td>\n",
       "      <td>4</td>\n",
       "    </tr>\n",
       "    <tr>\n",
       "      <th>2318</th>\n",
       "      <td>8.90</td>\n",
       "      <td>4</td>\n",
       "    </tr>\n",
       "    <tr>\n",
       "      <th>4222</th>\n",
       "      <td>9.20</td>\n",
       "      <td>4</td>\n",
       "    </tr>\n",
       "    <tr>\n",
       "      <th>4774</th>\n",
       "      <td>11.20</td>\n",
       "      <td>4</td>\n",
       "    </tr>\n",
       "    <tr>\n",
       "      <th>1558</th>\n",
       "      <td>9.00</td>\n",
       "      <td>4</td>\n",
       "    </tr>\n",
       "  </tbody>\n",
       "</table>\n",
       "</div>"
      ],
      "text/plain": [
       "      alcohol  quality\n",
       "780     11.20        4\n",
       "3770    12.00        4\n",
       "2119    10.30        4\n",
       "459      9.00        3\n",
       "3307    11.00        3\n",
       "4483     9.55        4\n",
       "2318     8.90        4\n",
       "4222     9.20        4\n",
       "4774    11.20        4\n",
       "1558     9.00        4"
      ]
     },
     "execution_count": 5,
     "metadata": {},
     "output_type": "execute_result"
    }
   ],
   "source": [
    "shuffle(bad_ds[[\"alcohol\", \"quality\"]]).head(10)"
   ]
  },
  {
   "cell_type": "code",
   "execution_count": 6,
   "metadata": {
    "collapsed": false
   },
   "outputs": [
    {
     "data": {
      "image/png": "[encoded data removed]",
      "text/plain": [
       "<matplotlib.figure.Figure at 0x11245cf90>"
      ]
     },
     "metadata": {},
     "output_type": "display_data"
    }
   ],
   "source": [
    "good_count, bins = np.histogram(good_ds[\"alcohol\"], bins=50, range=(5, 15))\n",
    "bad_count, bins = np.histogram(bad_ds[\"alcohol\"], bins=50, range=(5, 15))\n",
    "#red_counts, bins = np.histogram(red_ds[\"alcohol\"], bins=100, range=(5, 15))\n",
    "\n",
    "pl.figure(figsize=(12, 10))\n",
    "pl.bar(bins[:-1], good_count, (bins[1]-bins[0])*0.4, color=\"red\", alpha=0.6, label=\"good\", ec=\"none\")\n",
    "pl.bar(bins[:-1] + (bins[1]-bins[0])*0.5, bad_count, (bins[1]-bins[0])*0.4, color=\"blue\", alpha=0.4, label=\"bad\", ec=\"none\")\n",
    "pl.xlim(7, 15)\n",
    "pl.xlabel(\"Alcohol by volume, %\", fontsize=20)\n",
    "pl.ylabel(\"Number of observations\", fontsize=20)\n",
    "pl.tick_params(axis='both', which='major', labelsize=20)\n",
    "pl.legend(prop={'size':20}, frameon=False)\n",
    "pl.show()"
   ]
  },
  {
   "cell_type": "code",
   "execution_count": 7,
   "metadata": {
    "collapsed": false
   },
   "outputs": [
    {
     "name": "stdout",
     "output_type": "stream",
     "text": [
      "m_r=11.7 sigma_r=1.3\n",
      "m_a=10.2 sigma_a=1.0\n"
     ]
    }
   ],
   "source": [
    "print \"m_r=%.1f sigma_r=%.1f\" % ss.norm.fit(good_ds[\"alcohol\"])\n",
    "print \"m_a=%.1f sigma_a=%.1f\" % ss.norm.fit(bad_ds[\"alcohol\"])\n",
    "\n",
    "def plot_gauss(mean, variance, m, M, c):    \n",
    "    sigma = \n",
    "    x = np.linspace(m, M, 1000)\n",
    "    pl.plot(x,mlab.normpdf(x, mean, math.sqrt(variance)))    \n",
    "\n",
    "pl.figure(figsize=(12, 10))\n",
    "pl.bar(bins[:-1], good_count, (bins[1]-bins[0])*0.4, color=\"red\", alpha=0.6, label=\"good\", ec=\"none\")\n",
    "pl.bar(bins[:-1] + (bins[1]-bins[0])*0.5, bad_count, (bins[1]-bins[0])*0.4, color=\"blue\", alpha=0.4, label=\"bad\", ec=\"none\")\n",
    "pl.xlim(7, 15)\n",
    "pl.xlabel(\"Alcohol by volume, %\", fontsize=20)\n",
    "pl.ylabel(\"Number of observations\", fontsize=20)\n",
    "pl.tick_params(axis='both', which='major', labelsize=20)\n",
    "pl.legend(prop={'size':20}, frameon=False)\n",
    "pl.show()"
   ]
  },
  {
   "cell_type": "code",
   "execution_count": 8,
   "metadata": {
    "collapsed": false
   },
   "outputs": [
    {
     "name": "stdout",
     "output_type": "stream",
     "text": [
      "[-9.78274867]\n",
      "[[ 0.86957929]]\n",
      "[[ 11.24997889]]\n"
     ]
    }
   ],
   "source": [
    "x = np.zeros((good_ds.shape[0] + bad_ds.shape[0], 1))\n",
    "x[:good_ds.shape[0], 0] = good_ds[\"alcohol\"]\n",
    "x[good_ds.shape[0]:, 0] = bad_ds[\"alcohol\"]\n",
    "\n",
    "y = np.zeros(good_ds.shape[0] + bad_ds.shape[0])\n",
    "y[:good_ds.shape[0]] = 1\n",
    "\n",
    "svc = svm.SVC(kernel='linear', C=1)\n",
    "svc.fit(x, y)\n",
    "print svc.intercept_\n",
    "print svc.coef_\n",
    "print - svc.intercept_ / svc.coef_"
   ]
  },
  {
   "cell_type": "code",
   "execution_count": 9,
   "metadata": {
    "collapsed": false
   },
   "outputs": [
    {
     "data": {
      "image/png": "[encoded data removed]",
      "text/plain": [
       "<matplotlib.figure.Figure at 0x1155d7090>"
      ]
     },
     "metadata": {},
     "output_type": "display_data"
    }
   ],
   "source": [
    "pl.figure(figsize=(12, 10))\n",
    "pl.bar(bins[:-1], good_count, (bins[1]-bins[0])*0.4, color=\"red\", alpha=0.6, label=\"good\", ec=\"none\")\n",
    "pl.bar(bins[:-1] + (bins[1]-bins[0])*0.5, bad_count, (bins[1]-bins[0])*0.4, color=\"blue\", alpha=0.4, label=\"bad\", ec=\"none\")\n",
    "pl.xlim(7, 15)\n",
    "pl.xlabel(\"Alcohol by volume, %\", fontsize=20)\n",
    "pl.ylabel(\"Number of observations\", fontsize=20)\n",
    "pl.tick_params(axis='both', which='major', labelsize=20)\n",
    "pl.legend(prop={'size':20}, frameon=False)\n",
    "pl.axvline(- svc.intercept_ / svc.coef_, 0, 0.97, color=\"black\", lw=4, ls=\"--\", alpha=0.7)\n",
    "pl.show()"
   ]
  },
  {
   "cell_type": "code",
   "execution_count": null,
   "metadata": {
    "collapsed": false
   },
   "outputs": [],
   "source": []
  }
 ],
 "metadata": {
  "kernelspec": {
   "display_name": "Python 2",
   "language": "python",
   "name": "python2"
  },
  "language_info": {
   "codemirror_mode": {
    "name": "ipython",
    "version": 2
   },
   "file_extension": ".py",
   "mimetype": "text/x-python",
   "name": "python",
   "nbconvert_exporter": "python",
   "pygments_lexer": "ipython2",
   "version": "2.7.9"
  }
 },
 "nbformat": 4,
 "nbformat_minor": 0
}
