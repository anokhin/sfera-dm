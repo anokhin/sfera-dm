{
 "cells": [
  {
   "cell_type": "markdown",
   "metadata": {},
   "source": [
    "# Домашнее задание 5. Линейные модели"
   ]
  },
  {
   "cell_type": "code",
   "execution_count": 1,
   "metadata": {
    "collapsed": false
   },
   "outputs": [
    {
     "name": "stderr",
     "output_type": "stream",
     "text": [
      "/home/stroykova/.local/lib/python2.7/site-packages/sklearn/utils/sparsetools/__init__.py:3: RuntimeWarning: numpy.dtype size changed, may indicate binary incompatibility\n",
      "  from ._min_spanning_tree import minimum_spanning_tree\n",
      "/home/stroykova/.local/lib/python2.7/site-packages/sklearn/utils/sparsetools/_graph_validation.py:5: RuntimeWarning: numpy.dtype size changed, may indicate binary incompatibility\n",
      "  from ._graph_tools import csgraph_to_dense, csgraph_from_dense,\\\n",
      "/home/stroykova/.local/lib/python2.7/site-packages/sklearn/utils/sparsetools/__init__.py:4: RuntimeWarning: numpy.dtype size changed, may indicate binary incompatibility\n",
      "  from ._traversal import connected_components\n",
      "/usr/lib/python2.7/dist-packages/scipy/spatial/__init__.py:90: RuntimeWarning: numpy.dtype size changed, may indicate binary incompatibility\n",
      "  from .ckdtree import *\n",
      "/usr/lib/python2.7/dist-packages/scipy/spatial/__init__.py:91: RuntimeWarning: numpy.dtype size changed, may indicate binary incompatibility\n",
      "  from .qhull import *\n",
      "/home/stroykova/.local/lib/python2.7/site-packages/sklearn/utils/extmath.py:20: RuntimeWarning: numpy.dtype size changed, may indicate binary incompatibility\n",
      "  from ._logistic_sigmoid import _log_logistic_sigmoid\n",
      "/home/stroykova/.local/lib/python2.7/site-packages/sklearn/utils/extmath.py:22: RuntimeWarning: numpy.dtype size changed, may indicate binary incompatibility\n",
      "  from .sparsefuncs_fast import csr_row_norms\n",
      "/usr/lib/python2.7/dist-packages/scipy/stats/distributions.py:35: RuntimeWarning: numpy.dtype size changed, may indicate binary incompatibility\n",
      "  from . import vonmises_cython\n"
     ]
    },
    {
     "name": "stdout",
     "output_type": "stream",
     "text": [
      "Populating the interactive namespace from numpy and matplotlib\n"
     ]
    },
    {
     "name": "stderr",
     "output_type": "stream",
     "text": [
      "/usr/lib/python2.7/dist-packages/scipy/stats/stats.py:252: RuntimeWarning: numpy.dtype size changed, may indicate binary incompatibility\n",
      "  from ._rank import rankdata, tiecorrect\n",
      "/home/stroykova/.local/lib/python2.7/site-packages/sklearn/metrics/cluster/supervised.py:18: RuntimeWarning: numpy.dtype size changed, may indicate binary incompatibility\n",
      "  from .expected_mutual_info_fast import expected_mutual_information\n",
      "/home/stroykova/.local/lib/python2.7/site-packages/sklearn/metrics/pairwise.py:56: RuntimeWarning: numpy.dtype size changed, may indicate binary incompatibility\n",
      "  from .pairwise_fast import _chi2_kernel_fast, _sparse_manhattan\n"
     ]
    }
   ],
   "source": [
    "import random as pr\n",
    "import numpy as np\n",
    "import pandas as pd\n",
    "import matplotlib.pylab as pl\n",
    "import sklearn.cross_validation as cv\n",
    "import sklearn.metrics as sm\n",
    "\n",
    "# Plotting config\n",
    "%pylab inline"
   ]
  },
  {
   "cell_type": "markdown",
   "metadata": {},
   "source": [
    "Зачитываем результат 4 домашки"
   ]
  },
  {
   "cell_type": "code",
   "execution_count": 2,
   "metadata": {
    "collapsed": false,
    "scrolled": true
   },
   "outputs": [],
   "source": [
    "data = np.load(\"files/out_4.dat.npz\")\n",
    "users = data[\"users\"]\n",
    "X = data[\"data\"].reshape(1,)[0]"
   ]
  },
  {
   "cell_type": "markdown",
   "metadata": {},
   "source": [
    "Зачитываем категории пользователей"
   ]
  },
  {
   "cell_type": "code",
   "execution_count": 5,
   "metadata": {
    "collapsed": false
   },
   "outputs": [],
   "source": [
    "TRAINING_SET_URL = \"twitter_train.csv\"\n",
    "df_users = pd.read_csv(TRAINING_SET_URL, sep=\",\", header=0, names=[\"twitter_id\", \"is_1\", \"is_2\", \"is_3\"], dtype={\"twitter_id\": str, \"is_1\": int, 'is_2': int, \"is_3\": int})\n",
    "df_users.set_index(\"twitter_id\", inplace=True)"
   ]
  },
  {
   "cell_type": "markdown",
   "metadata": {},
   "source": [
    "Формируем целевую переменную: Делаем join списка пользователей из ДЗ4 с обучающей выборкой. (Этого бы не пришлось делать, если бы мы в 4 домашке сохранили целевую -- надо учесть на будущее)."
   ]
  },
  {
   "cell_type": "code",
   "execution_count": 6,
   "metadata": {
    "collapsed": false
   },
   "outputs": [
    {
     "name": "stdout",
     "output_type": "stream",
     "text": [
      "Resulting training set for 1 class: (3001x70832) feature matrix, 3001 target vector\n",
      "Resulting training set for 2 class: (3001x70832) feature matrix, 3001 target vector\n",
      "Resulting training set for 3 class: (3001x70832) feature matrix, 3001 target vector\n"
     ]
    }
   ],
   "source": [
    "Y_1 = df_users.ix[users.astype(str)][\"is_1\"].values\n",
    "Y_2 = df_users.ix[users.astype(str)][\"is_2\"].values\n",
    "Y_3 = df_users.ix[users.astype(str)][\"is_3\"].values\n",
    "print \"Resulting training set for 1 class: (%dx%d) feature matrix, %d target vector\" % (X.shape[0], X.shape[1], Y_1.shape[0])\n",
    "print \"Resulting training set for 2 class: (%dx%d) feature matrix, %d target vector\" % (X.shape[0], X.shape[1], Y_2.shape[0])\n",
    "print \"Resulting training set for 3 class: (%dx%d) feature matrix, %d target vector\" % (X.shape[0], X.shape[1], Y_3.shape[0])"
   ]
  },
  {
   "cell_type": "markdown",
   "metadata": {},
   "source": [
    "Чтобы исследовать, как ведут себя признаки, построим распределение количества ненулевых признаков у пользователей, чтобы убедиться, что он удовлетворяет закону Ципфа."
   ]
  },
  {
   "cell_type": "code",
   "execution_count": 31,
   "metadata": {
    "collapsed": false
   },
   "outputs": [
    {
     "name": "stdout",
     "output_type": "stream",
     "text": [
      "[     0     21     26 ..., 838524 838525 838526]\n",
      "[21  5  1 ...,  2  1  1]\n",
      "70832\n",
      "70832\n",
      "[    0 42339  7844 ...,     0     0     1]\n"
     ]
    },
    {
     "data": {
      "image/png": "[encoded data removed]",
      "text/plain": [
       "<matplotlib.figure.Figure at 0x7f519bbf6e90>"
      ]
     },
     "metadata": {},
     "output_type": "display_data"
    }
   ],
   "source": [
    "col_counts = np.diff(X.tocsc().indptr)\n",
    "print X.tocsc().indptr\n",
    "print col_counts\n",
    "print len(col_counts)\n",
    "print X.shape[1]\n",
    "bin_counts = np.bincount(col_counts)\n",
    "print bin_counts\n",
    "pl.plot(np.arange(bin_counts.shape[0]), bin_counts, \".\")\n",
    "ax = plt.gca()\n",
    "# ax.set_xscale('log')\n",
    "# ax.set_yscale('log')"
   ]
  },
  {
   "cell_type": "markdown",
   "metadata": {},
   "source": [
    "Проведем отбор признаков. В самом простом случае просто удаляем признаки, имеющие ненулевое значение у менее, чем 100 пользователей."
   ]
  },
  {
   "cell_type": "code",
   "execution_count": 8,
   "metadata": {
    "collapsed": false
   },
   "outputs": [],
   "source": [
    "X1 = X.tocsc()[:, col_counts > 100].toarray()"
   ]
  },
  {
   "cell_type": "markdown",
   "metadata": {},
   "source": [
    "Вариант задания генерируется на основании вашего ника в техносфере."
   ]
  },
  {
   "cell_type": "code",
   "execution_count": 9,
   "metadata": {
    "collapsed": false
   },
   "outputs": [
    {
     "name": "stdout",
     "output_type": "stream",
     "text": [
      "My homework 5 algorithm is: Logistic regression with L2 regularization optimized by Newton method\n"
     ]
    }
   ],
   "source": [
    "USER_NAME = \"n.anokhin\"\n",
    "OPTIMIZATION_ALGORITHMS = [\"stochastic gradient descent\", \"Newton method\"]\n",
    "REGULARIZATIONS = [\"L1\", \"L2\"]\n",
    "\n",
    "print \"My homework 5 algorithm is: Logistic regression with %s regularization optimized by %s\" % (\n",
    "    REGULARIZATIONS[hash(USER_NAME) % 2],\n",
    "    OPTIMIZATION_ALGORITHMS[hash(USER_NAME[::-1]) % 2]\n",
    ")"
   ]
  },
  {
   "cell_type": "markdown",
   "metadata": {},
   "source": [
    "Реализуем выбранный алгоритм"
   ]
  },
  {
   "cell_type": "code",
   "execution_count": 10,
   "metadata": {
    "collapsed": false
   },
   "outputs": [],
   "source": [
    "class LogisticRegression():\n",
    "    \n",
    "    def fit(self, X, Y=None):\n",
    "        return self\n",
    "    \n",
    "    def predict_proba(self, X):\n",
    "        import numpy.random as nr\n",
    "        return nr.random((X.shape[0], 2))"
   ]
  },
  {
   "cell_type": "markdown",
   "metadata": {},
   "source": [
    "Реализуем метрику качества, используемую в соревновании: площадь под ROC кривой"
   ]
  },
  {
   "cell_type": "code",
   "execution_count": 11,
   "metadata": {
    "collapsed": true
   },
   "outputs": [],
   "source": [
    "def auroc(y_prob, y_true):\n",
    "    return 0.5"
   ]
  },
  {
   "cell_type": "markdown",
   "metadata": {},
   "source": [
    "Разделим выборку с помощью методики кросс-валидации для того, чтобы настроить параметр регуляризации $C$"
   ]
  },
  {
   "cell_type": "code",
   "execution_count": 12,
   "metadata": {
    "collapsed": false
   },
   "outputs": [
    {
     "name": "stdout",
     "output_type": "stream",
     "text": [
      "0 0.5\n",
      "1 0.5\n",
      "2 0.5\n",
      "3 0.5\n",
      "4 0.5\n",
      "5 0.5\n",
      "6 0.5\n",
      "7 0.5\n"
     ]
    },
    {
     "name": "stderr",
     "output_type": "stream",
     "text": [
      "/home/stroykova/.local/lib/python2.7/site-packages/sklearn/cross_validation.py:413: Warning: The least populated class in y has only 1 members, which is too few. The minimum number of labels for any class cannot be less than n_folds=8.\n",
      "  % (min_labels, self.n_folds)), Warning)\n"
     ]
    }
   ],
   "source": [
    "C = [0.0, 0.01, 0.1, 1, 10, 100, 1000, 10000]\n",
    "skf = cv.StratifiedKFold(Y_1, len(C))\n",
    "for i, (train, test) in enumerate(skf):\n",
    "    X_train, Y_train = X1[train], Y_1[train]\n",
    "    X_test, Y_test = X1[test], Y_1[test]\n",
    "    model = LogisticRegression().fit(X_train, Y_train)\n",
    "    print i, auroc(model.predict_proba(X_test)[:, 0], Y_test)"
   ]
  },
  {
   "cell_type": "markdown",
   "metadata": {},
   "source": [
    "Выбираем наилучшее значение $C$, и классифицируем неизвестных пользователей и строим ROC-кривую"
   ]
  },
  {
   "cell_type": "code",
   "execution_count": 16,
   "metadata": {
    "collapsed": false
   },
   "outputs": [
    {
     "name": "stdout",
     "output_type": "stream",
     "text": [
      "[ 1.  0.  1.  1.  1.  0.  0.  1.  1.  1.  1.  1.  1.  1.  0.  1.  0.  0.\n",
      "  0.  0.  1.  0.  0.  1.  1.  0.  0.  0.  1.  1.  0.  0.  0.  1.  1.  0.\n",
      "  1.  0.  1.  0.  0.  0.  1.  1.  1.  0.  0.  1.  1.  1.  1.  1.  0.  1.\n",
      "  0.  1.  0.  1.  0.  0.  1.  1.  1.  1.  1.  0.  0.  0.  1.  0.  1.  0.\n",
      "  0.  0.  0.  0.  0.  0.  1.  0.  0.  1.  1.  1.  1.  0.  1.  1.  0.  0.\n",
      "  0.  0.  0.  0.  0.  0.  0.  0.  1.  1.  1.  1.  1.  0.  0.  0.  1.  0.\n",
      "  1.  0.  0.  0.  1.  0.  1.  1.  0.  1.  0.  0.  1.  0.  1.  0.  0.  0.\n",
      "  0.  1.  1.  0.  1.  0.  0.  1.  1.  0.  0.  1.  0.  1.  1.  1.  1.  1.\n",
      "  0.  1.  1.  0.  0.  1.  0.  0.  1.  0.  1.  1.  0.  0.  1.  0.  0.  1.\n",
      "  1.  0.  1.  0.  0.  0.  1.  1.  0.  0.  1.  1.  0.  1.  0.  1.  1.  1.\n",
      "  0.  0.  0.  1.  1.  0.  0.  1.  0.  1.  1.  1.  0.  0.  0.  0.  1.  0.\n",
      "  1.  0.  0.  0.  0.  0.  0.  1.  0.  0.  0.  0.  0.  1.  0.  1.  0.  1.\n",
      "  0.  1.  0.  0.  0.  1.  1.  1.  0.  0.  1.  0.  0.  1.  1.  0.  1.  1.\n",
      "  0.  1.  0.  0.  0.  0.  0.  1.  1.  1.  1.  0.  0.  1.  0.  1.  0.  1.\n",
      "  0.  1.  0.  1.  0.  0.  0.  0.  1.  0.  0.  1.  1.  1.  1.  0.  1.  0.\n",
      "  1.  0.  1.  1.  1.  1.  0.  1.  0.  0.  0.  1.  1.  1.  1.  0.  1.  1.\n",
      "  0.  1.  1.  0.  1.  0.  1.  1.  0.  0.  1.  1.  0.  0.  1.  0.  0.  0.\n",
      "  1.  0.  1.  1.  0.  1.  0.  0.  0.  0.  0.  0.  1.  0.  0.  0.  1.  1.\n",
      "  0.  0.  0.  0.  0.  0.  1.  0.  0.  0.  0.  0.  1.  0.  0.  1.  0.  0.\n",
      "  1.  0.  1.  0.  1.  0.  0.  0.  1.  0.  1.  1.  0.  0.  1.  1.  1.  0.\n",
      "  0.  0.  1.  1.  0.  1.  0.  0.  0.  1.  0.  0.  1.  0.  1.  1.  0.  0.\n",
      "  1.  0.  1.  0.  0.  1.  1.  1.  1.  0.  1.  0.  1.  0.  1.  1.  1.  0.\n",
      "  1.  0.  0.  0.  1.  0.  0.  1.  0.  1.  1.  0.  1.  0.  0.  1.  0.  0.\n",
      "  1.  1.  1.  0.  1.  1.  1.  0.  0.  0.  1.  1.  1.  0.  1.  0.  0.  0.\n",
      "  0.  1.  1.  1.  1.  0.  0.  1.  0.  0.  0.  0.  0.  0.  1.  0.  1.  1.\n",
      "  0.  0.  0.  1.  1.  1.  0.  1.  1.  0.  1.  0.  0.  0.  0.  0.  0.  1.\n",
      "  1.  0.  0.  1.  1.  0.  1.  0.  0.  1.  0.  1.  0.  1.  1.  1.  1.  1.\n",
      "  1.  0.  1.  0.  1.  1.  1.  0.  1.  0.  0.  0.  1.  1.  1.  0.  0.  1.\n",
      "  0.  1.  0.  1.  0.  1.  0.  0.  1.  1.  0.  1.  0.  0.  1.  0.  1.  0.\n",
      "  0.  1.  1.  1.  1.  0.  1.  0.  0.  1.  1.  0.  1.  1.  0.  0.  1.  0.\n",
      "  0.  1.  0.  0.  1.  0.  0.  1.  0.  1.  1.  0.  1.  0.  1.  0.  0.  0.\n",
      "  1.  1.  0.  0.  1.  0.  1.  0.  0.  1.  1.  0.  0.  1.  0.  1.  0.  1.\n",
      "  0.  1.  1.  1.  0.  1.  0.  0.  0.  0.  1.  1.  0.  0.  1.  0.  0.  0.\n",
      "  1.  0.  1.  0.  0.  0.  0.  1.  0.  0.  0.  0.  1.  1.  0.  1.  1.  0.\n",
      "  1.  0.  0.  0.  1.  0.  0.  1.  0.  1.  0.  0.  1.  0.  0.  0.  0.  0.\n",
      "  1.  1.  0.  0.  0.  1.  0.  1.  1.  0.  0.  1.  0.  1.  1.  0.  1.  1.\n",
      "  1.  1.  0.  0.  1.  0.  0.  1.  0.  0.  0.  0.  0.  1.  0.  0.  0.  0.\n",
      "  0.  0.  0.  0.  0.  0.  1.  0.  1.  0.  0.  1.  1.  1.  1.  1.  1.  0.\n",
      "  0.  0.  0.  1.  1.  0.  0.  0.  1.  0.  1.  0.  0.  1.  0.  0.  1.  1.\n",
      "  0.  0.  0.  1.  0.  0.  1.  0.  0.  0.  0.  1.  0.  0.  1.  1.  1.  1.\n",
      "  1.  1.  1.  0.  0.  0.  1.  0.  0.  0.  0.  1.  1.  1.  0.  0.  1.  0.\n",
      "  0.  0.  1.  0.  0.  0.  0.  0.  0.  0.  0.  0.  0.  0.  1.  1.  0.  0.\n",
      "  0.  0.  1.  0.  0.  0.  1.  0.  0.  1.  1.  1.  1.  1.  0.  0.  0.  1.\n",
      "  1.  1.  1.  1.  1.  0.  1.  1.  1.  1.  0.  0.  1.  1.  0.  1.  0.  0.\n",
      "  1.  0.  0.  1.  0.  0.  1.  0.  0.  1.  1.  1.  0.  1.  0.  1.  0.  0.\n",
      "  0.  0.  1.  1.  0.  0.  1.  1.  0.  1.  0.  0.  1.  0.  1.  1.  0.  1.\n",
      "  1.  0.  0.  0.  1.  0.  1.  0.  1.  1.  1.  1.  0.  1.  1.  1.  1.  0.\n",
      "  1.  1.  0.  0.  0.  1.  1.  1.  1.  0.  0.  1.  0.  0.  0.  0.  1.  1.\n",
      "  1.  0.  1.  1.  0.  0.  0.  0.  1.  1.  1.  0.  1.  0.  0.  0.  1.  1.\n",
      "  0.  0.  0.  1.  0.  1.  1.  0.  0.  0.  0.  0.  1.  1.  1.  1.  1.  0.\n",
      "  1.]\n",
      "Area under the ROC curve : 0.501569\n"
     ]
    },
    {
     "data": {
      "image/png": "[encoded data removed]",
      "text/plain": [
       "<matplotlib.figure.Figure at 0x7f519d65d590>"
      ]
     },
     "metadata": {},
     "output_type": "display_data"
    }
   ],
   "source": [
    "X_train, X_test, Y_train, Y_test = cv.train_test_split(X1, Y_1, test_size=0.3)\n",
    "Y_prob = LogisticRegression().fit(X_train, Y_train).predict_proba(X_test)\n",
    "fpr, tpr, thresholds = sm.roc_curve(Y_test, Y_prob[:, 1])\n",
    "roc_auc = sm.auc(fpr, tpr)\n",
    "print \"Area under the ROC curve : %f\" % roc_auc\n",
    "\n",
    "# Plot ROC curve\n",
    "pl.clf()\n",
    "pl.plot(fpr, tpr, label='ROC curve (area = %0.2f)' % roc_auc)\n",
    "pl.plot([0, 1], [0, 1], 'k--')\n",
    "pl.xlim([0.0, 1.0])\n",
    "pl.ylim([0.0, 1.0])\n",
    "pl.xlabel('False Positive Rate')\n",
    "pl.ylabel('True Positive Rate')\n",
    "pl.title('Receiver operating characteristic example')\n",
    "pl.legend(loc=\"lower right\")\n",
    "pl.show()"
   ]
  },
  {
   "cell_type": "markdown",
   "metadata": {},
   "source": [
    "С помощью полученной модели предсказываем категории для неизвестных пользователей из соревнования и загружаем на kaggle в нужном формате."
   ]
  },
  {
   "cell_type": "code",
   "execution_count": 17,
   "metadata": {
    "collapsed": false
   },
   "outputs": [
    {
     "name": "stdout",
     "output_type": "stream",
     "text": [
      "0 0.5\n",
      "1 0.5\n",
      "2 0.5\n",
      "3 0.5\n",
      "4 0.5\n",
      "5 0.5\n",
      "6 0.5\n",
      "7 0.5\n",
      "Area under the ROC curve : 0.464777\n"
     ]
    },
    {
     "data": {
      "image/png": "[encoded data removed]",
      "text/plain": [
       "<matplotlib.figure.Figure at 0x7f5197581450>"
      ]
     },
     "metadata": {},
     "output_type": "display_data"
    }
   ],
   "source": [
    "C = [0.0, 0.01, 0.1, 1, 10, 100, 1000, 10000]\n",
    "skf = cv.StratifiedKFold(Y_2, len(C))\n",
    "for i, (train, test) in enumerate(skf):\n",
    "    X_train, Y_train = X1[train], Y_2[train]\n",
    "    X_test, Y_test = X1[test], Y_2[test]\n",
    "    model = LogisticRegression().fit(X_train, Y_train)\n",
    "    print i, auroc(model.predict_proba(X_test)[:, 0], Y_test)\n",
    "    \n",
    "X_train, X_test, Y_train, Y_test = cv.train_test_split(X1, Y_2, test_size=0.3)\n",
    "Y_prob = LogisticRegression().fit(X_train, Y_train).predict_proba(X_test)\n",
    "fpr, tpr, thresholds = sm.roc_curve(Y_test, Y_prob[:, 1])\n",
    "roc_auc = sm.auc(fpr, tpr)\n",
    "print \"Area under the ROC curve : %f\" % roc_auc\n",
    "\n",
    "# Plot ROC curve\n",
    "pl.clf()\n",
    "pl.plot(fpr, tpr, label='ROC curve (area = %0.2f)' % roc_auc)\n",
    "pl.plot([0, 1], [0, 1], 'k--')\n",
    "pl.xlim([0.0, 1.0])\n",
    "pl.ylim([0.0, 1.0])\n",
    "pl.xlabel('False Positive Rate')\n",
    "pl.ylabel('True Positive Rate')\n",
    "pl.title('Receiver operating characteristic example')\n",
    "pl.legend(loc=\"lower right\")\n",
    "pl.show()"
   ]
  },
  {
   "cell_type": "code",
   "execution_count": 18,
   "metadata": {
    "collapsed": false
   },
   "outputs": [
    {
     "name": "stdout",
     "output_type": "stream",
     "text": [
      "0 0.5\n",
      "1 0.5\n",
      "2 0.5\n",
      "3 0.5\n",
      "4 0.5\n",
      "5 0.5\n",
      "6 0.5\n",
      "7 0.5\n",
      "Area under the ROC curve : 0.494275\n"
     ]
    },
    {
     "data": {
      "image/png": "[encoded data removed]",
      "text/plain": [
       "<matplotlib.figure.Figure at 0x7f519bb2c250>"
      ]
     },
     "metadata": {},
     "output_type": "display_data"
    }
   ],
   "source": [
    "C = [0.0, 0.01, 0.1, 1, 10, 100, 1000, 10000]\n",
    "skf = cv.StratifiedKFold(Y_3, len(C))\n",
    "for i, (train, test) in enumerate(skf):\n",
    "    X_train, Y_train = X1[train], Y_3[train]\n",
    "    X_test, Y_test = X1[test], Y_3[test]\n",
    "    model = LogisticRegression().fit(X_train, Y_train)\n",
    "    print i, auroc(model.predict_proba(X_test)[:, 0], Y_test)\n",
    "\n",
    "\n",
    "X_train, X_test, Y_train, Y_test = cv.train_test_split(X1, Y_3, test_size=0.3)\n",
    "Y_prob = LogisticRegression().fit(X_train, Y_train).predict_proba(X_test)\n",
    "fpr, tpr, thresholds = sm.roc_curve(Y_test, Y_prob[:, 1])\n",
    "roc_auc = sm.auc(fpr, tpr)\n",
    "print \"Area under the ROC curve : %f\" % roc_auc\n",
    "\n",
    "# Plot ROC curve\n",
    "pl.clf()\n",
    "pl.plot(fpr, tpr, label='ROC curve (area = %0.2f)' % roc_auc)\n",
    "pl.plot([0, 1], [0, 1], 'k--')\n",
    "pl.xlim([0.0, 1.0])\n",
    "pl.ylim([0.0, 1.0])\n",
    "pl.xlabel('False Positive Rate')\n",
    "pl.ylabel('True Positive Rate')\n",
    "pl.title('Receiver operating characteristic example')\n",
    "pl.legend(loc=\"lower right\")\n",
    "pl.show()"
   ]
  },
  {
   "cell_type": "code",
   "execution_count": null,
   "metadata": {
    "collapsed": true
   },
   "outputs": [],
   "source": []
  }
 ],
 "metadata": {
  "kernelspec": {
   "display_name": "Python 2",
   "language": "python",
   "name": "python2"
  },
  "language_info": {
   "codemirror_mode": {
    "name": "ipython",
    "version": 2
   },
   "file_extension": ".py",
   "mimetype": "text/x-python",
   "name": "python",
   "nbconvert_exporter": "python",
   "pygments_lexer": "ipython2",
   "version": "2.7.6"
  }
 },
 "nbformat": 4,
 "nbformat_minor": 0
}
