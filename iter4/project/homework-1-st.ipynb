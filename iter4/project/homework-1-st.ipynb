{
 "cells": [
  {
   "cell_type": "markdown",
   "metadata": {},
   "source": [
    "# Домашнее задание 1. Сбор данных"
   ]
  },
  {
   "cell_type": "markdown",
   "metadata": {},
   "source": [
    "При решении реальных задач мы почти никогда не имеем дело с \"хорошими\" исходными данными, уже подготовленными для обработки и анализа. Как правило на входе имеются неструкткрированные данные в \"грязном\" виде, например необработанные тексты, изображения или аудио файлы. Иногда нет даже этого, и данные приходится собирать из разных доступных источников: разнообразных баз данных, внешних сервисов и даже электронных таблиц. После того, как данные получены, их унифицируют, очищают от шума, преобразовывают в нужный вид и сохраняют для дальнейшего анализа. В одном из традиционных подходов к [Data Mining](http://www.wikiwand.com/en/Online_analytical_processing) этот процесс называется Extract-Transform-Load ([ETL](http://www.wikiwand.com/en/Extract,_transform,_load)).\n",
    "\n",
    "Цель этого задания собрать первые данные о пользователях из обучающей выборки и провести простейший качественный анализ. В ходе решения будут использованы:\n",
    "1. [numpy](http://www.numpy.org/) -- библиотека для работы с многомерными массивами\n",
    "2. [pandas](http://pandas.pydata.org/) -- библиотека, позволяющая удобно работать с различными типами данных\n",
    "3. [requests](http://docs.python-requests.org/en/latest/) -- библиотека, которую можно использовать для вызова HTTP запросов\n",
    "4. [python-twitter](https://github.com/bear/python-twitter/tree/master/twitter) -- обертка для Twitter API\n",
    "5. [matplotlib](http://matplotlib.org/) -- библиотека для рисования графиков в python\n",
    "\n",
    "Первым делом импортируем необходимые библиотеки и убеждаемся, что все установлено."
   ]
  },
  {
   "cell_type": "code",
   "execution_count": 1,
   "metadata": {
    "collapsed": false
   },
   "outputs": [
    {
     "name": "stdout",
     "output_type": "stream",
     "text": [
      "Populating the interactive namespace from numpy and matplotlib\n"
     ]
    }
   ],
   "source": [
    "import pandas as pd\n",
    "import numpy as np\n",
    "import pylab as pl\n",
    "import mpl_toolkits.basemap as bm\n",
    "import twitter\n",
    "import requests\n",
    "import datetime\n",
    "import dateutil\n",
    "import csv\n",
    "\n",
    "# Plotting config\n",
    "%pylab inline"
   ]
  },
  {
   "cell_type": "markdown",
   "metadata": {},
   "source": [
    "## Чтение исходных данных из файла"
   ]
  },
  {
   "cell_type": "markdown",
   "metadata": {},
   "source": [
    "Считываем исходные данные из файла в data frame библиотеки pandas. Полученный data frame должен иметь целочисленный ключ и две колонки:\n",
    "1. twitter_id -- идентификатор пользователя\n",
    "2. class -- числовой номер класса"
   ]
  },
  {
   "cell_type": "code",
   "execution_count": 2,
   "metadata": {
    "collapsed": false
   },
   "outputs": [
    {
     "data": {
      "text/html": [
       "<div style=\"max-height:1000px;max-width:1500px;overflow:auto;\">\n",
       "<table border=\"1\" class=\"dataframe\">\n",
       "  <thead>\n",
       "    <tr style=\"text-align: right;\">\n",
       "      <th></th>\n",
       "      <th>twitter_id</th>\n",
       "      <th>is_1</th>\n",
       "      <th>is_2</th>\n",
       "      <th>is_3</th>\n",
       "    </tr>\n",
       "  </thead>\n",
       "  <tbody>\n",
       "    <tr>\n",
       "      <th>0</th>\n",
       "      <td>66412773</td>\n",
       "      <td>0</td>\n",
       "      <td>0</td>\n",
       "      <td>1</td>\n",
       "    </tr>\n",
       "    <tr>\n",
       "      <th>1</th>\n",
       "      <td>10143902</td>\n",
       "      <td>0</td>\n",
       "      <td>0</td>\n",
       "      <td>1</td>\n",
       "    </tr>\n",
       "    <tr>\n",
       "      <th>2</th>\n",
       "      <td>73701917</td>\n",
       "      <td>0</td>\n",
       "      <td>0</td>\n",
       "      <td>1</td>\n",
       "    </tr>\n",
       "    <tr>\n",
       "      <th>3</th>\n",
       "      <td>82209363</td>\n",
       "      <td>0</td>\n",
       "      <td>0</td>\n",
       "      <td>1</td>\n",
       "    </tr>\n",
       "    <tr>\n",
       "      <th>4</th>\n",
       "      <td>47063951</td>\n",
       "      <td>0</td>\n",
       "      <td>0</td>\n",
       "      <td>1</td>\n",
       "    </tr>\n",
       "  </tbody>\n",
       "</table>\n",
       "</div>"
      ],
      "text/plain": [
       "   twitter_id  is_1  is_2  is_3\n",
       "0    66412773     0     0     1\n",
       "1    10143902     0     0     1\n",
       "2    73701917     0     0     1\n",
       "3    82209363     0     0     1\n",
       "4    47063951     0     0     1"
      ]
     },
     "execution_count": 2,
     "metadata": {},
     "output_type": "execute_result"
    }
   ],
   "source": [
    "TRAINING_SET_URL = \"twitter_train.csv\"\n",
    "df_users = pd.read_csv(TRAINING_SET_URL, sep=\",\")\n",
    "df_users.head()"
   ]
  },
  {
   "cell_type": "markdown",
   "metadata": {},
   "source": [
    "Построим распределение по классам. Требуется получить [barchart](http://www.wikiwand.com/en/Bar_chart), в котором высота столбика, соответствующего каждому из классов, пропорциональна количеству пользователей этого класса. По горизонтальной оси отложены классы (1, 2 и 3), а по вертикальной -- количество пользователей."
   ]
  },
  {
   "cell_type": "code",
   "execution_count": 6,
   "metadata": {
    "collapsed": false
   },
   "outputs": [
    {
     "name": "stdout",
     "output_type": "stream",
     "text": [
      "[1270, 479, 1251]\n"
     ]
    },
    {
     "data": {
      "image/png": "[encoded data removed]",
      "text/plain": [
       "<matplotlib.figure.Figure at 0x7f02aecf5e90>"
      ]
     },
     "metadata": {},
     "output_type": "display_data"
    }
   ],
   "source": [
    "# Compute the distribution of the target variable\n",
    "\n",
    "counts = [sum(df_users[\"is_1\"]), sum(df_users[\"is_2\"]), sum(df_users[\"is_3\"])]\n",
    "bins = [0, 1, 2]\n",
    "print counts\n",
    "\n",
    "# Plot the distribution\n",
    "pl.figure(figsize=(6,6))\n",
    "pl.bar(bins, counts, width=0.5, alpha=0.4)\n",
    "pl.xticks([b + 0.3 for b in bins], [\"is_1\", \"is_2\", \"is_3\"])\n",
    "pl.xlim(bins[0] - 0.5, bins[-1] + 1)\n",
    "pl.ylabel(\"Number of users\")\n",
    "pl.title(\"Target variable distribution\")\n",
    "pl.show()"
   ]
  },
  {
   "cell_type": "markdown",
   "metadata": {},
   "source": [
    "## Сбор данных"
   ]
  },
  {
   "cell_type": "markdown",
   "metadata": {},
   "source": [
    "Для того чтобы разработать модель, которая предсказывает значение целевой переменной для произвольного пользователя, недостаточно знать только значения идентификаторов пользоватей. Причина в том, что user_id для пользователя никак не зависит от целевой переменной -- идентификатор генерируется на основании времени регистрации, сервера, обрабатывающего запрос, и номера пользователя ([подробности](https://dev.twitter.com/overview/api/twitter-ids-json-and-snowflake)).\n",
    "\n",
    "Поэтому нам потребуется загрузить дополнительную информацию о каждом пользователе, иначе говоря провести сбор данных (data collection). Наиболее важную информацию можно загрузить из [Twitter](https://dev.twitter.com/rest/public) [API](http://www.wikiwand.com/en/Representational_state_transfer). При желании можно воспользоваться и другими источниками -- об этом ниже.\n",
    "\n",
    "Для того, чтобы получить доступ к API прежде всего необходимо зарегистрироваться в Twitter в качестве разработчика и создать свое [приложение](https://apps.twitter.com/). После создания приложения будет доступен набор ключей, которые мы будем использовать для аутентификации. Эти ключи необходимо скопировать в соответствующие константы ниже. Подробнее о том, как работает аутентификация в Twitter API можно почитать [по ссылке](https://dev.twitter.com/oauth/application-only), хотя это нужно скорее для ознакомления: библиотека обращения с API позаботится о механизме аутентификации за нас."
   ]
  },
  {
   "cell_type": "code",
   "execution_count": 4,
   "metadata": {
    "collapsed": false
   },
   "outputs": [],
   "source": [
    "CONSUMER_KEY = \"your_key\"\n",
    "CONSUMER_SECRET = \"your_secret\"\n",
    "\n",
    "ACCESS_TOKEN_KEY = \"your_token_key\"\n",
    "ACCESS_TOKEN_SECRET = \"your_token_secret\"\n",
    "\n",
    "api = twitter.Api(consumer_key=CONSUMER_KEY, \n",
    "                  consumer_secret=CONSUMER_SECRET, \n",
    "                  access_token_key=ACCESS_TOKEN_KEY, \n",
    "                  access_token_secret=ACCESS_TOKEN_SECRET)"
   ]
  },
  {
   "cell_type": "markdown",
   "metadata": {},
   "source": [
    "Twitter API предоставляет информацию о местонахождении пользователя, но эта информация представлена в текстовом виде, например так:\n",
    "```\n",
    "\"location\": \"San Francisco, CA\"\n",
    "```\n",
    "Такие текстовый описания не слишком удобны для анализа, поэтому наша цель -- получить более структурированную информацию, такую как географические координаты, страна, город и т.д. Для этого удобно использовать геоинформационный сервис, например [GeoNames](http://www.geonames.org/export/web-services.html). Для его использования также необходимо зарегистрироваться, подтвердить регистрацию и включить поддержку API. После этого можно будет посылать запросы для нахождения нужной информации. Например на запрос\n",
    "```\n",
    "http://api.geonames.org/search?q=\"San Francisco, CA\"&maxRows=10&username=demo\n",
    "```\n",
    "возвращается результат,\n",
    "```javascript\n",
    "{\n",
    "    \"totalResultsCount\": 2112,\n",
    "    \"geonames\": [\n",
    "        {\n",
    "            \"countryId\": \"6252001\",\n",
    "            \"adminCode1\": \"CA\",\n",
    "            \"countryName\": \"United States\",\n",
    "            \"fclName\": \"city, village,...\",\n",
    "            \"countryCode\": \"US\",\n",
    "            \"lng\": \"-122.41942\",\n",
    "            \"fcodeName\": \"seat of a second-order administrative division\",\n",
    "            \"toponymName\": \"San Francisco\",\n",
    "            \"fcl\": \"P\",\n",
    "            \"name\": \"San Francisco\",\n",
    "            \"fcode\": \"PPLA2\",\n",
    "            \"geonameId\": 5391959,\n",
    "            \"lat\": \"37.77493\",\n",
    "            \"adminName1\": \"California\",\n",
    "            \"population\": 805235\n",
    "        },\n",
    "        {\n",
    "            \"countryId\": \"6252001\",\n",
    "            \"adminCode1\": \"CA\",\n",
    "            \"countryName\": \"United States\",\n",
    "            \"fclName\": \"spot, building, farm\",\n",
    "            \"countryCode\": \"US\",\n",
    "            \"lng\": \"-122.3758\",\n",
    "            \"fcodeName\": \"airport\",\n",
    "            \"toponymName\": \"San Francisco International Airport\",\n",
    "            \"fcl\": \"S\",\n",
    "            \"name\": \"San Francisco International Airport\",\n",
    "            \"fcode\": \"AIRP\",\n",
    "            \"geonameId\": 5391989,\n",
    "            \"lat\": \"37.61882\",\n",
    "            \"adminName1\": \"California\",\n",
    "            \"population\": 0\n",
    "        }\n",
    "    ]\n",
    "}\n",
    "```\n",
    "из которого легко извлечь нужную информацию.\n",
    "\n",
    "**Замечание: для запросов необходимо использовать своего пользователя. Кроме того, количество запросов ограничено 30к в день**.\n",
    "\n",
    "Первым делом нам понадобится функция, которая возвращает информацию о местоположении для данного текстового запроса. Требуется реализовать функцию `get_coordinates_by_location`, принимающую на вход строку с местоположением и возвращает кортеж вида (долгота, широта, город)."
   ]
  },
  {
   "cell_type": "code",
   "execution_count": 1,
   "metadata": {
    "collapsed": false
   },
   "outputs": [],
   "source": [
    "# Input your user name\n",
    "GEO_USER_NAME = \"your-user-name\"\n",
    "\n",
    "def get_coordinates_by_location(location):\n",
    "    \"\"\"\n",
    "    This function gets geographic coordinates and city name\n",
    "    form external web service GeoNames using 'location' string.\n",
    "    \n",
    "    NOTE: the returned value is FAKE. It's only used to show\n",
    "    NOTE: correct output format.\n",
    "    \"\"\"\n",
    "    # your code here\n",
    "    return (55.75222, 37.61556, u'Russia')"
   ]
  },
  {
   "cell_type": "markdown",
   "metadata": {},
   "source": [
    "Следующий шаг -- вызов Twitter API для сбора данных и сохранения их в data frame. После чего data frame c собранными данными совмещается с data frame, содержащим данные исходной обучающей выборки. \n",
    "\n",
    "В этой части задания нужно реализовать функцию `get_user_records`, которая принимает на вход прочитанный из файла `data frame` и возвращает список словарей, каждый из которых представляет данные одного пользователя. Для того, чтобы получить из объекта класса [`User`](https://github.com/bear/python-twitter/blob/master/twitter/user.py) словарь в правильном формате, нужно использовать функцию `twitter_user_to_dataframe_record` (5 баллов)."
   ]
  },
  {
   "cell_type": "code",
   "execution_count": 13,
   "metadata": {
    "collapsed": false
   },
   "outputs": [],
   "source": [
    "ts_parser = lambda date_str: dateutil.parser.parse(date_str) if pd.notnull(date_str) else None\n",
    "\n",
    "def twitter_user_to_dataframe_record(user):\n",
    "    record = {\n",
    "        \"twitter_id\": user.id,\n",
    "        \"name\": user.name,\n",
    "        \"screen_name\": user.screen_name,        \n",
    "        \"created_at\": ts_parser(user.created_at),        \n",
    "        \"followers_count\": user.followers_count,\n",
    "        \"friends_count\": user.friends_count,\n",
    "        \"statuses_count\": user.statuses_count,\n",
    "        \"favourites_count\": user.favourites_count,\n",
    "        \"listed_count\": user.listed_count,\n",
    "        \"verified\": user.verified\n",
    "    }\n",
    "    \n",
    "    if user.description is not None and user.description.strip() != \"\":\n",
    "        record[\"description\"] = user.description\n",
    "        \n",
    "    if user.location is not None and user.location.strip() != \"\":\n",
    "        record[\"location\"] = user.location\n",
    "        record[\"lat\"], record[\"lon\"], record[\"country\"] = get_coordinates_by_location(user.location)\n",
    "    \n",
    "    return record\n",
    "\n",
    "def get_user_records(df):\n",
    "    # your code here\n",
    "    # some_downloaded_user = get_user_from_api\n",
    "    # return [twitter_user_to_dataframe_record(some_downloaded_user)]\n",
    "\n",
    "\n",
    "# Maximum number of user IDs returned by Twitter's user lookup\n",
    "\n",
    "user_records = get_user_records(df_users)\n",
    "        \n",
    "print \"Creating data frame from loaded data\"\n",
    "df_records = pd.DataFrame(user_records, columns=[\"twitter_id\", \"name\", \"screen_name\", \"description\", \"verified\", \"location\", \"lat\", \"lon\", \"country\", \"created_at\", \"followers_count\", \"friends_count\", \"statuses_count\", \"favourites_count\", \"listed_count\"])\n",
    "print \"Merging data frame with the training set\"\n",
    "df_full = pd.merge(df_users, df_records, on=\"twitter_id\", how=\"left\")\n",
    "print \"Finished building data frame\""
   ]
  },
  {
   "cell_type": "markdown",
   "metadata": {},
   "source": [
    "## Exploratory Data Analysis"
   ]
  },
  {
   "cell_type": "markdown",
   "metadata": {},
   "source": [
    "Для того, чтобы лучше понять, как устроена наша обучающая выборка, построим несколько графиков. Сначала построим долю пользователей каждого класса в зависимости от дня создания аккаунта. По горизонтальной оси отложим день создания аккаунта, а по вертикальной -- долю пользователей класса ([подсказка](http://anokhin.github.io/img/hw1_distr.png)). Необходимо дописать код функции count_users. В функции необходимо посчитать пользователей в каждой группе (2 балла)."
   ]
  },
  {
   "cell_type": "code",
   "execution_count": 15,
   "metadata": {
    "collapsed": false
   },
   "outputs": [],
   "source": [
    "def count_users(grouped):\n",
    "    \"\"\"\n",
    "    Counts number of positive and negative users\n",
    "    created at each date.\n",
    "    \n",
    "    Returns:\n",
    "        count_1 -- 1D numpy array with the counts of is_1 users created at each date\n",
    "        count_2 -- 1D numpy array with the counts of is_2 users created at each date\n",
    "        count_3 -- 1D numpy array with the counts of is_3 users created at each date\n",
    "        dts -- a list of date strings, e.g. ['2014-10-11', '2014-10-12', ...]\n",
    "    \"\"\"\n",
    "    dts = []\n",
    "    count_1, count_2, count_3 = np.zeros(len(grouped)), np.zeros(len(grouped)), np.zeros(len(grouped))\n",
    "    # your code here \n",
    "    return count_1, count_2, count_3, dts\n",
    "\n",
    "\n",
    "grouped = df_full.groupby(map(lambda dt: dt.strftime(\"%Y-%m\") if pd.notnull(dt) else \"NA\", df_full[\"created_at\"]))\n",
    "count_1, count_2, count_3, dts = count_users(grouped)\n",
    "    \n",
    "total = (count_1 + count_2 + count_3 + 1e-10)\n",
    "fraction_1 = count_1 / total\n",
    "fraction_2 = count_2 / total\n",
    "fraction_3 = count_3 / total\n",
    "\n",
    "sort_ind = np.argsort(dts)\n",
    "    \n",
    "pl.figure(figsize=(20, 3))\n",
    "pl.bar(np.arange(len(dts)), fraction_1[sort_ind], width=1.0, color='red', alpha=0.6, linewidth=0, label=\"1\")\n",
    "pl.bar(np.arange(len(dts)), fraction_2[sort_ind], bottom=fraction_1[sort_ind], width=1.0, color='green', alpha=0.6, linewidth=0, label=\"2\")\n",
    "pl.bar(np.arange(len(dts)), fraction_3[sort_ind], bottom=fraction_2[sort_ind], width=1.0, color='blue', alpha=0.6, linewidth=0, label=\"3\")\n",
    "\n",
    "pl.xticks(np.arange(len(dts)) + 0.4, sorted(dts), rotation=90)\n",
    "pl.title(\"Class distribution by account creation month\")\n",
    "pl.xlim(0, len(dts))\n",
    "pl.legend()\n",
    "pl.show()"
   ]
  },
  {
   "cell_type": "markdown",
   "metadata": {},
   "source": [
    "Посмотрим, где живут пользователи каждой категории. Для этого отметим на карте каждого пользователя первого класса красным, второго - зеленым, третьего - синим цветом ([подсказка](http://anokhin.github.io/img/hw1_map.png)). Необходимо реализовать функцию plot_points_on_map. В функции необходимо отобразить на карте пользователей из разных классов (3 балла)."
   ]
  },
  {
   "cell_type": "code",
   "execution_count": 16,
   "metadata": {
    "collapsed": false
   },
   "outputs": [],
   "source": [
    "pl.figure(figsize=(20,12))\n",
    "\n",
    "m = bm.Basemap(projection='cyl', llcrnrlat=-90, urcrnrlat=90, llcrnrlon=-180, urcrnrlon=180, resolution='c')\n",
    "\n",
    "m.drawcountries(linewidth=0.2)\n",
    "m.fillcontinents(color='lavender', lake_color='#000040')\n",
    "m.drawmapboundary(linewidth=0.2, fill_color='#000040')\n",
    "m.drawparallels(np.arange(-90,90,30),labels=[0,0,0,0], color='white', linewidth=0.5)\n",
    "m.drawmeridians(np.arange(0,360,30),labels=[0,0,0,0], color='white', linewidth=0.5)\n",
    "\n",
    "def plot_points_on_map(df_full):\n",
    "    \"\"\"\n",
    "    Plot points on the map. Be creative.\n",
    "    \"\"\"\n",
    "    # your code here\n",
    "    return\n",
    "\n",
    "plot_points_on_map(df_full)\n",
    "\n",
    "pl.title(\"Geospatial distribution of twitter users\")\n",
    "pl.legend()\n",
    "pl.show()"
   ]
  },
  {
   "cell_type": "markdown",
   "metadata": {},
   "source": [
    "В последней картинке есть проблема: сервис геоинформации определяет координаты с точностью до города, поэтому точки, соответствующте нескольким пользователям, могут накладываться. Предложите и реализуйте способ, позволяющий справиться с этой проблемой.\n",
    "\n",
    "Смотрим на полученный data frame и сохраняем его в .csv файл."
   ]
  },
  {
   "cell_type": "code",
   "execution_count": 13,
   "metadata": {
    "collapsed": false
   },
   "outputs": [
    {
     "name": "stdout",
     "output_type": "stream",
     "text": [
      "Saving output data frame to files/hw1_out.csv\n"
     ]
    },
    {
     "data": {
      "text/html": [
       "<div style=\"max-height:1000px;max-width:1500px;overflow:auto;\">\n",
       "<table border=\"1\" class=\"dataframe\">\n",
       "  <thead>\n",
       "    <tr style=\"text-align: right;\">\n",
       "      <th></th>\n",
       "      <th>user_id</th>\n",
       "      <th>class</th>\n",
       "      <th>name</th>\n",
       "      <th>screen_name</th>\n",
       "      <th>description</th>\n",
       "      <th>verified</th>\n",
       "      <th>location</th>\n",
       "      <th>lat</th>\n",
       "      <th>lon</th>\n",
       "      <th>country</th>\n",
       "      <th>created_at</th>\n",
       "      <th>followers_count</th>\n",
       "      <th>friends_count</th>\n",
       "      <th>statuses_count</th>\n",
       "      <th>favourites_count</th>\n",
       "      <th>listed_count</th>\n",
       "    </tr>\n",
       "  </thead>\n",
       "  <tbody>\n",
       "    <tr>\n",
       "      <th>0</th>\n",
       "      <td>  984121344</td>\n",
       "      <td> 0</td>\n",
       "      <td>   Ramona Flowers</td>\n",
       "      <td>   ciarradical</td>\n",
       "      <td> ☯Ciarra m.j.☯ |XV | religion free | music is m...</td>\n",
       "      <td> False</td>\n",
       "      <td> florida</td>\n",
       "      <td> -33.83333</td>\n",
       "      <td> -55.91667</td>\n",
       "      <td>       Uruguay</td>\n",
       "      <td> 2012-12-02 07:46:25+00:00</td>\n",
       "      <td> 210</td>\n",
       "      <td> 517</td>\n",
       "      <td> 5092</td>\n",
       "      <td>  2995</td>\n",
       "      <td> 3</td>\n",
       "    </tr>\n",
       "    <tr>\n",
       "      <th>1</th>\n",
       "      <td>  601849857</td>\n",
       "      <td> 0</td>\n",
       "      <td>   Akanksha Singh</td>\n",
       "      <td>  Akankshayein</td>\n",
       "      <td> A big foodie who loves travelling, writing &amp; r...</td>\n",
       "      <td> False</td>\n",
       "      <td>   India</td>\n",
       "      <td>        22</td>\n",
       "      <td>        79</td>\n",
       "      <td>         India</td>\n",
       "      <td> 2012-06-07 10:55:20+00:00</td>\n",
       "      <td>  86</td>\n",
       "      <td> 746</td>\n",
       "      <td>  917</td>\n",
       "      <td>     2</td>\n",
       "      <td> 1</td>\n",
       "    </tr>\n",
       "    <tr>\n",
       "      <th>2</th>\n",
       "      <td>  351429761</td>\n",
       "      <td> 0</td>\n",
       "      <td>  Carolina Garcia</td>\n",
       "      <td> latinaaboooty</td>\n",
       "      <td>                                               NaN</td>\n",
       "      <td> False</td>\n",
       "      <td>     NaN</td>\n",
       "      <td>       NaN</td>\n",
       "      <td>       NaN</td>\n",
       "      <td>           NaN</td>\n",
       "      <td> 2011-08-09 07:11:35+00:00</td>\n",
       "      <td> 473</td>\n",
       "      <td> 606</td>\n",
       "      <td> 9487</td>\n",
       "      <td> 13132</td>\n",
       "      <td> 0</td>\n",
       "    </tr>\n",
       "    <tr>\n",
       "      <th>3</th>\n",
       "      <td> 2792643764</td>\n",
       "      <td> 0</td>\n",
       "      <td>      Nalrashed04</td>\n",
       "      <td>   nalrashed04</td>\n",
       "      <td>              VINE:Nalrashed INSTAGRAM:Nalrashed68</td>\n",
       "      <td> False</td>\n",
       "      <td>     NaN</td>\n",
       "      <td>       NaN</td>\n",
       "      <td>       NaN</td>\n",
       "      <td>           NaN</td>\n",
       "      <td> 2014-09-05 21:38:24+00:00</td>\n",
       "      <td>  32</td>\n",
       "      <td> 399</td>\n",
       "      <td>  110</td>\n",
       "      <td>   107</td>\n",
       "      <td> 1</td>\n",
       "    </tr>\n",
       "    <tr>\n",
       "      <th>4</th>\n",
       "      <td>  215056389</td>\n",
       "      <td> 0</td>\n",
       "      <td> Brigid Stinehart</td>\n",
       "      <td>    Digginit95</td>\n",
       "      <td> My fashion sense is a little whack and my frie...</td>\n",
       "      <td> False</td>\n",
       "      <td>     LFK</td>\n",
       "      <td>  31.23408</td>\n",
       "      <td> -94.75021</td>\n",
       "      <td> United States</td>\n",
       "      <td> 2010-11-12 22:05:53+00:00</td>\n",
       "      <td> 364</td>\n",
       "      <td> 505</td>\n",
       "      <td>  626</td>\n",
       "      <td>  1734</td>\n",
       "      <td> 0</td>\n",
       "    </tr>\n",
       "  </tbody>\n",
       "</table>\n",
       "</div>"
      ],
      "text/plain": [
       "      user_id  class              name    screen_name  \\\n",
       "0   984121344      0    Ramona Flowers    ciarradical   \n",
       "1   601849857      0    Akanksha Singh   Akankshayein   \n",
       "2   351429761      0   Carolina Garcia  latinaaboooty   \n",
       "3  2792643764      0       Nalrashed04    nalrashed04   \n",
       "4   215056389      0  Brigid Stinehart     Digginit95   \n",
       "\n",
       "                                         description verified location  \\\n",
       "0  ☯Ciarra m.j.☯ |XV | religion free | music is m...    False  florida   \n",
       "1  A big foodie who loves travelling, writing & r...    False    India   \n",
       "2                                                NaN    False      NaN   \n",
       "3               VINE:Nalrashed INSTAGRAM:Nalrashed68    False      NaN   \n",
       "4  My fashion sense is a little whack and my frie...    False      LFK   \n",
       "\n",
       "         lat        lon        country                 created_at  \\\n",
       "0  -33.83333  -55.91667        Uruguay  2012-12-02 07:46:25+00:00   \n",
       "1         22         79          India  2012-06-07 10:55:20+00:00   \n",
       "2        NaN        NaN            NaN  2011-08-09 07:11:35+00:00   \n",
       "3        NaN        NaN            NaN  2014-09-05 21:38:24+00:00   \n",
       "4   31.23408  -94.75021  United States  2010-11-12 22:05:53+00:00   \n",
       "\n",
       "   followers_count  friends_count  statuses_count  favourites_count  \\\n",
       "0              210            517            5092              2995   \n",
       "1               86            746             917                 2   \n",
       "2              473            606            9487             13132   \n",
       "3               32            399             110               107   \n",
       "4              364            505             626              1734   \n",
       "\n",
       "   listed_count  \n",
       "0             3  \n",
       "1             1  \n",
       "2             0  \n",
       "3             1  \n",
       "4             0  "
      ]
     },
     "execution_count": 13,
     "metadata": {},
     "output_type": "execute_result"
    }
   ],
   "source": [
    "OUT_FILE_PATH = \"files/hw1_out.csv\"\n",
    "print \"Saving output data frame to %s\" % OUT_FILE_PATH\n",
    "df_full.to_csv(OUT_FILE_PATH, sep=\"\\t\", index=False, encoding=\"utf-8\", quoting=csv.QUOTE_NONNUMERIC)\n",
    "df_full.head()"
   ]
  },
  {
   "cell_type": "code",
   "execution_count": 9,
   "metadata": {
    "collapsed": false
   },
   "outputs": [],
   "source": []
  }
 ],
 "metadata": {
  "kernelspec": {
   "display_name": "Python 2",
   "language": "python",
   "name": "python2"
  },
  "language_info": {
   "codemirror_mode": {
    "name": "ipython",
    "version": 2
   },
   "file_extension": ".py",
   "mimetype": "text/x-python",
   "name": "python",
   "nbconvert_exporter": "python",
   "pygments_lexer": "ipython2",
   "version": "2.7.6"
  }
 },
 "nbformat": 4,
 "nbformat_minor": 0
}
