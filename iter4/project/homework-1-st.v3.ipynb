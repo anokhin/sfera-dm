{
 "metadata": {
  "kernelspec": {
   "display_name": "Python 2",
   "language": "python",
   "name": "python2"
  },
  "language_info": {
   "codemirror_mode": {
    "name": "ipython",
    "version": 2
   },
   "file_extension": ".py",
   "mimetype": "text/x-python",
   "name": "python",
   "nbconvert_exporter": "python",
   "pygments_lexer": "ipython2",
   "version": "2.7.9"
  },
  "name": ""
 },
 "nbformat": 3,
 "nbformat_minor": 0,
 "worksheets": [
  {
   "cells": [
    {
     "cell_type": "heading",
     "level": 1,
     "metadata": {},
     "source": [
      "\u0414\u043e\u043c\u0430\u0448\u043d\u0435\u0435 \u0437\u0430\u0434\u0430\u043d\u0438\u0435 1. \u0421\u0431\u043e\u0440 \u0434\u0430\u043d\u043d\u044b\u0445"
     ]
    },
    {
     "cell_type": "markdown",
     "metadata": {},
     "source": [
      "\u041f\u0440\u0438 \u0440\u0435\u0448\u0435\u043d\u0438\u0438 \u0440\u0435\u0430\u043b\u044c\u043d\u044b\u0445 \u0437\u0430\u0434\u0430\u0447 \u043c\u044b \u043f\u043e\u0447\u0442\u0438 \u043d\u0438\u043a\u043e\u0433\u0434\u0430 \u043d\u0435 \u0438\u043c\u0435\u0435\u043c \u0434\u0435\u043b\u043e \u0441 \"\u0445\u043e\u0440\u043e\u0448\u0438\u043c\u0438\" \u0438\u0441\u0445\u043e\u0434\u043d\u044b\u043c\u0438 \u0434\u0430\u043d\u043d\u044b\u043c\u0438, \u0443\u0436\u0435 \u043f\u043e\u0434\u0433\u043e\u0442\u043e\u0432\u043b\u0435\u043d\u043d\u044b\u043c\u0438 \u0434\u043b\u044f \u043e\u0431\u0440\u0430\u0431\u043e\u0442\u043a\u0438 \u0438 \u0430\u043d\u0430\u043b\u0438\u0437\u0430. \u041a\u0430\u043a \u043f\u0440\u0430\u0432\u0438\u043b\u043e \u043d\u0430 \u0432\u0445\u043e\u0434\u0435 \u0438\u043c\u0435\u044e\u0442\u0441\u044f \u043d\u0435\u0441\u0442\u0440\u0443\u043a\u0442\u043a\u0440\u0438\u0440\u043e\u0432\u0430\u043d\u043d\u044b\u0435 \u0434\u0430\u043d\u043d\u044b\u0435 \u0432 \"\u0433\u0440\u044f\u0437\u043d\u043e\u043c\" \u0432\u0438\u0434\u0435, \u043d\u0430\u043f\u0440\u0438\u043c\u0435\u0440 \u043d\u0435\u043e\u0431\u0440\u0430\u0431\u043e\u0442\u0430\u043d\u043d\u044b\u0435 \u0442\u0435\u043a\u0441\u0442\u044b, \u0438\u0437\u043e\u0431\u0440\u0430\u0436\u0435\u043d\u0438\u044f \u0438\u043b\u0438 \u0430\u0443\u0434\u0438\u043e \u0444\u0430\u0439\u043b\u044b. \u0418\u043d\u043e\u0433\u0434\u0430 \u043d\u0435\u0442 \u0434\u0430\u0436\u0435 \u044d\u0442\u043e\u0433\u043e, \u0438 \u0434\u0430\u043d\u043d\u044b\u0435 \u043f\u0440\u0438\u0445\u043e\u0434\u0438\u0442\u0441\u044f \u0441\u043e\u0431\u0438\u0440\u0430\u0442\u044c \u0438\u0437 \u0440\u0430\u0437\u043d\u044b\u0445 \u0434\u043e\u0441\u0442\u0443\u043f\u043d\u044b\u0445 \u0438\u0441\u0442\u043e\u0447\u043d\u0438\u043a\u043e\u0432: \u0440\u0430\u0437\u043d\u043e\u043e\u0431\u0440\u0430\u0437\u043d\u044b\u0445 \u0431\u0430\u0437 \u0434\u0430\u043d\u043d\u044b\u0445, \u0432\u043d\u0435\u0448\u043d\u0438\u0445 \u0441\u0435\u0440\u0432\u0438\u0441\u043e\u0432 \u0438 \u0434\u0430\u0436\u0435 \u044d\u043b\u0435\u043a\u0442\u0440\u043e\u043d\u043d\u044b\u0445 \u0442\u0430\u0431\u043b\u0438\u0446. \u041f\u043e\u0441\u043b\u0435 \u0442\u043e\u0433\u043e, \u043a\u0430\u043a \u0434\u0430\u043d\u043d\u044b\u0435 \u043f\u043e\u043b\u0443\u0447\u0435\u043d\u044b, \u0438\u0445 \u0443\u043d\u0438\u0444\u0438\u0446\u0438\u0440\u0443\u044e\u0442, \u043e\u0447\u0438\u0449\u0430\u044e\u0442 \u043e\u0442 \u0448\u0443\u043c\u0430, \u043f\u0440\u0435\u043e\u0431\u0440\u0430\u0437\u043e\u0432\u044b\u0432\u0430\u044e\u0442 \u0432 \u043d\u0443\u0436\u043d\u044b\u0439 \u0432\u0438\u0434 \u0438 \u0441\u043e\u0445\u0440\u0430\u043d\u044f\u044e\u0442 \u0434\u043b\u044f \u0434\u0430\u043b\u044c\u043d\u0435\u0439\u0448\u0435\u0433\u043e \u0430\u043d\u0430\u043b\u0438\u0437\u0430. \u0412 \u043e\u0434\u043d\u043e\u043c \u0438\u0437 \u0442\u0440\u0430\u0434\u0438\u0446\u0438\u043e\u043d\u043d\u044b\u0445 \u043f\u043e\u0434\u0445\u043e\u0434\u043e\u0432 \u043a [Data Mining](http://www.wikiwand.com/en/Online_analytical_processing) \u044d\u0442\u043e\u0442 \u043f\u0440\u043e\u0446\u0435\u0441\u0441 \u043d\u0430\u0437\u044b\u0432\u0430\u0435\u0442\u0441\u044f Extract-Transform-Load ([ETL](http://www.wikiwand.com/en/Extract,_transform,_load)).\n",
      "\n",
      "\u0426\u0435\u043b\u044c \u044d\u0442\u043e\u0433\u043e \u0437\u0430\u0434\u0430\u043d\u0438\u044f \u0441\u043e\u0431\u0440\u0430\u0442\u044c \u043f\u0435\u0440\u0432\u044b\u0435 \u0434\u0430\u043d\u043d\u044b\u0435 \u043e \u043f\u043e\u043b\u044c\u0437\u043e\u0432\u0430\u0442\u0435\u043b\u044f\u0445 \u0438\u0437 \u043e\u0431\u0443\u0447\u0430\u044e\u0449\u0435\u0439 \u0432\u044b\u0431\u043e\u0440\u043a\u0438 \u0438 \u043f\u0440\u043e\u0432\u0435\u0441\u0442\u0438 \u043f\u0440\u043e\u0441\u0442\u0435\u0439\u0448\u0438\u0439 \u043a\u0430\u0447\u0435\u0441\u0442\u0432\u0435\u043d\u043d\u044b\u0439 \u0430\u043d\u0430\u043b\u0438\u0437. \u0412 \u0445\u043e\u0434\u0435 \u0440\u0435\u0448\u0435\u043d\u0438\u044f \u0431\u0443\u0434\u0443\u0442 \u0438\u0441\u043f\u043e\u043b\u044c\u0437\u043e\u0432\u0430\u043d\u044b:\n",
      "1. [numpy](http://www.numpy.org/) -- \u0431\u0438\u0431\u043b\u0438\u043e\u0442\u0435\u043a\u0430 \u0434\u043b\u044f \u0440\u0430\u0431\u043e\u0442\u044b \u0441 \u043c\u043d\u043e\u0433\u043e\u043c\u0435\u0440\u043d\u044b\u043c\u0438 \u043c\u0430\u0441\u0441\u0438\u0432\u0430\u043c\u0438\n",
      "2. [pandas](http://pandas.pydata.org/) -- \u0431\u0438\u0431\u043b\u0438\u043e\u0442\u0435\u043a\u0430, \u043f\u043e\u0437\u0432\u043e\u043b\u044f\u044e\u0449\u0430\u044f \u0443\u0434\u043e\u0431\u043d\u043e \u0440\u0430\u0431\u043e\u0442\u0430\u0442\u044c \u0441 \u0440\u0430\u0437\u043b\u0438\u0447\u043d\u044b\u043c\u0438 \u0442\u0438\u043f\u0430\u043c\u0438 \u0434\u0430\u043d\u043d\u044b\u0445\n",
      "3. [requests](http://docs.python-requests.org/en/latest/) -- \u0431\u0438\u0431\u043b\u0438\u043e\u0442\u0435\u043a\u0430, \u043a\u043e\u0442\u043e\u0440\u0443\u044e \u043c\u043e\u0436\u043d\u043e \u0438\u0441\u043f\u043e\u043b\u044c\u0437\u043e\u0432\u0430\u0442\u044c \u0434\u043b\u044f \u0432\u044b\u0437\u043e\u0432\u0430 HTTP \u0437\u0430\u043f\u0440\u043e\u0441\u043e\u0432\n",
      "4. [python-twitter](https://github.com/bear/python-twitter/tree/master/twitter) -- \u043e\u0431\u0435\u0440\u0442\u043a\u0430 \u0434\u043b\u044f Twitter API\n",
      "5. [matplotlib](http://matplotlib.org/) -- \u0431\u0438\u0431\u043b\u0438\u043e\u0442\u0435\u043a\u0430 \u0434\u043b\u044f \u0440\u0438\u0441\u043e\u0432\u0430\u043d\u0438\u044f \u0433\u0440\u0430\u0444\u0438\u043a\u043e\u0432 \u0432 python\n",
      "\n",
      "\u041f\u0435\u0440\u0432\u044b\u043c \u0434\u0435\u043b\u043e\u043c \u0438\u043c\u043f\u043e\u0440\u0442\u0438\u0440\u0443\u0435\u043c \u043d\u0435\u043e\u0431\u0445\u043e\u0434\u0438\u043c\u044b\u0435 \u0431\u0438\u0431\u043b\u0438\u043e\u0442\u0435\u043a\u0438 \u0438 \u0443\u0431\u0435\u0436\u0434\u0430\u0435\u043c\u0441\u044f, \u0447\u0442\u043e \u0432\u0441\u0435 \u0443\u0441\u0442\u0430\u043d\u043e\u0432\u043b\u0435\u043d\u043e."
     ]
    },
    {
     "cell_type": "code",
     "collapsed": false,
     "input": [
      "import pandas as pd\n",
      "import numpy as np\n",
      "import pylab as pl\n",
      "import mpl_toolkits.basemap as bm\n",
      "import twitter\n",
      "import requests\n",
      "import datetime\n",
      "import dateutil\n",
      "import csv\n",
      "\n",
      "# Plotting config\n",
      "%pylab inline"
     ],
     "language": "python",
     "metadata": {},
     "outputs": [
      {
       "output_type": "stream",
       "stream": "stdout",
       "text": [
        "Populating the interactive namespace from numpy and matplotlib\n"
       ]
      }
     ],
     "prompt_number": 1
    },
    {
     "cell_type": "heading",
     "level": 2,
     "metadata": {},
     "source": [
      "\u0427\u0442\u0435\u043d\u0438\u0435 \u0438\u0441\u0445\u043e\u0434\u043d\u044b\u0445 \u0434\u0430\u043d\u043d\u044b\u0445 \u0438\u0437 \u0444\u0430\u0439\u043b\u0430"
     ]
    },
    {
     "cell_type": "markdown",
     "metadata": {},
     "source": [
      "\u0421\u0447\u0438\u0442\u044b\u0432\u0430\u0435\u043c \u0438\u0441\u0445\u043e\u0434\u043d\u044b\u0435 \u0434\u0430\u043d\u043d\u044b\u0435 \u0438\u0437 \u0444\u0430\u0439\u043b\u0430 \u0432 data frame \u0431\u0438\u0431\u043b\u0438\u043e\u0442\u0435\u043a\u0438 pandas. \u041f\u043e\u043b\u0443\u0447\u0435\u043d\u043d\u044b\u0439 data frame \u0434\u043e\u043b\u0436\u0435\u043d \u0438\u043c\u0435\u0442\u044c \u0446\u0435\u043b\u043e\u0447\u0438\u0441\u043b\u0435\u043d\u043d\u044b\u0439 \u043a\u043b\u044e\u0447 \u0438 \u0434\u0432\u0435 \u043a\u043e\u043b\u043e\u043d\u043a\u0438:\n",
      "1. twitter_id -- \u0438\u0434\u0435\u043d\u0442\u0438\u0444\u0438\u043a\u0430\u0442\u043e\u0440 \u043f\u043e\u043b\u044c\u0437\u043e\u0432\u0430\u0442\u0435\u043b\u044f\n",
      "2. class -- \u0447\u0438\u0441\u043b\u043e\u0432\u043e\u0439 \u043d\u043e\u043c\u0435\u0440 \u043a\u043b\u0430\u0441\u0441\u0430"
     ]
    },
    {
     "cell_type": "code",
     "collapsed": false,
     "input": [
      "TRAINING_SET_URL = \"twitter_train.csv\"\n",
      "df_users = pd.read_csv(TRAINING_SET_URL, sep=\",\")\n",
      "df_users.head()"
     ],
     "language": "python",
     "metadata": {},
     "outputs": [
      {
       "html": [
        "<div style=\"max-height:1000px;max-width:1500px;overflow:auto;\">\n",
        "<table border=\"1\" class=\"dataframe\">\n",
        "  <thead>\n",
        "    <tr style=\"text-align: right;\">\n",
        "      <th></th>\n",
        "      <th>twitter_id</th>\n",
        "      <th>is_1</th>\n",
        "      <th>is_2</th>\n",
        "      <th>is_3</th>\n",
        "    </tr>\n",
        "  </thead>\n",
        "  <tbody>\n",
        "    <tr>\n",
        "      <th>0</th>\n",
        "      <td>66412773</td>\n",
        "      <td>0</td>\n",
        "      <td>0</td>\n",
        "      <td>1</td>\n",
        "    </tr>\n",
        "    <tr>\n",
        "      <th>1</th>\n",
        "      <td>10143902</td>\n",
        "      <td>0</td>\n",
        "      <td>0</td>\n",
        "      <td>1</td>\n",
        "    </tr>\n",
        "    <tr>\n",
        "      <th>2</th>\n",
        "      <td>73701917</td>\n",
        "      <td>0</td>\n",
        "      <td>0</td>\n",
        "      <td>1</td>\n",
        "    </tr>\n",
        "    <tr>\n",
        "      <th>3</th>\n",
        "      <td>82209363</td>\n",
        "      <td>0</td>\n",
        "      <td>0</td>\n",
        "      <td>1</td>\n",
        "    </tr>\n",
        "    <tr>\n",
        "      <th>4</th>\n",
        "      <td>47063951</td>\n",
        "      <td>0</td>\n",
        "      <td>0</td>\n",
        "      <td>1</td>\n",
        "    </tr>\n",
        "  </tbody>\n",
        "</table>\n",
        "</div>"
       ],
       "metadata": {},
       "output_type": "pyout",
       "prompt_number": 2,
       "text": [
        "   twitter_id  is_1  is_2  is_3\n",
        "0    66412773     0     0     1\n",
        "1    10143902     0     0     1\n",
        "2    73701917     0     0     1\n",
        "3    82209363     0     0     1\n",
        "4    47063951     0     0     1"
       ]
      }
     ],
     "prompt_number": 2
    },
    {
     "cell_type": "markdown",
     "metadata": {},
     "source": [
      "\u041f\u043e\u0441\u0442\u0440\u043e\u0438\u043c \u0440\u0430\u0441\u043f\u0440\u0435\u0434\u0435\u043b\u0435\u043d\u0438\u0435 \u043f\u043e \u043a\u043b\u0430\u0441\u0441\u0430\u043c. \u0422\u0440\u0435\u0431\u0443\u0435\u0442\u0441\u044f \u043f\u043e\u043b\u0443\u0447\u0438\u0442\u044c [barchart](http://www.wikiwand.com/en/Bar_chart), \u0432 \u043a\u043e\u0442\u043e\u0440\u043e\u043c \u0432\u044b\u0441\u043e\u0442\u0430 \u0441\u0442\u043e\u043b\u0431\u0438\u043a\u0430, \u0441\u043e\u043e\u0442\u0432\u0435\u0442\u0441\u0442\u0432\u0443\u044e\u0449\u0435\u0433\u043e \u043a\u0430\u0436\u0434\u043e\u043c\u0443 \u0438\u0437 \u043a\u043b\u0430\u0441\u0441\u043e\u0432, \u043f\u0440\u043e\u043f\u043e\u0440\u0446\u0438\u043e\u043d\u0430\u043b\u044c\u043d\u0430 \u043a\u043e\u043b\u0438\u0447\u0435\u0441\u0442\u0432\u0443 \u043f\u043e\u043b\u044c\u0437\u043e\u0432\u0430\u0442\u0435\u043b\u0435\u0439 \u044d\u0442\u043e\u0433\u043e \u043a\u043b\u0430\u0441\u0441\u0430. \u041f\u043e \u0433\u043e\u0440\u0438\u0437\u043e\u043d\u0442\u0430\u043b\u044c\u043d\u043e\u0439 \u043e\u0441\u0438 \u043e\u0442\u043b\u043e\u0436\u0435\u043d\u044b \u043a\u043b\u0430\u0441\u0441\u044b (1, 2 \u0438 3), \u0430 \u043f\u043e \u0432\u0435\u0440\u0442\u0438\u043a\u0430\u043b\u044c\u043d\u043e\u0439 -- \u043a\u043e\u043b\u0438\u0447\u0435\u0441\u0442\u0432\u043e \u043f\u043e\u043b\u044c\u0437\u043e\u0432\u0430\u0442\u0435\u043b\u0435\u0439."
     ]
    },
    {
     "cell_type": "code",
     "collapsed": false,
     "input": [
      "# Compute the distribution of the target variable\n",
      "\n",
      "counts = [sum(df_users[\"is_1\"]), sum(df_users[\"is_2\"]), sum(df_users[\"is_3\"])]\n",
      "bins = [0, 1, 2]\n",
      "print counts\n",
      "\n",
      "# Plot the distribution\n",
      "pl.figure(figsize=(6,6))\n",
      "pl.bar(bins, counts, width=0.5, alpha=0.4)\n",
      "pl.xticks([b + 0.3 for b in bins], [\"is_1\", \"is_2\", \"is_3\"])\n",
      "pl.xlim(bins[0] - 0.5, bins[-1] + 1)\n",
      "pl.ylabel(\"Number of users\")\n",
      "pl.title(\"Target variable distribution\")\n",
      "pl.show()"
     ],
     "language": "python",
     "metadata": {},
     "outputs": [
      {
       "output_type": "stream",
       "stream": "stdout",
       "text": [
        "[1270, 479, 1251]\n"
       ]
      },
      {
       "metadata": {},
       "output_type": "display_data",
       "png": "[encoded data removed]",
       "text": [
        "<matplotlib.figure.Figure at 0x7f02aecf5e90>"
       ]
      }
     ],
     "prompt_number": 6
    },
    {
     "cell_type": "heading",
     "level": 2,
     "metadata": {},
     "source": [
      "\u0421\u0431\u043e\u0440 \u0434\u0430\u043d\u043d\u044b\u0445"
     ]
    },
    {
     "cell_type": "markdown",
     "metadata": {},
     "source": [
      "\u0414\u043b\u044f \u0442\u043e\u0433\u043e \u0447\u0442\u043e\u0431\u044b \u0440\u0430\u0437\u0440\u0430\u0431\u043e\u0442\u0430\u0442\u044c \u043c\u043e\u0434\u0435\u043b\u044c, \u043a\u043e\u0442\u043e\u0440\u0430\u044f \u043f\u0440\u0435\u0434\u0441\u043a\u0430\u0437\u044b\u0432\u0430\u0435\u0442 \u0437\u043d\u0430\u0447\u0435\u043d\u0438\u0435 \u0446\u0435\u043b\u0435\u0432\u043e\u0439 \u043f\u0435\u0440\u0435\u043c\u0435\u043d\u043d\u043e\u0439 \u0434\u043b\u044f \u043f\u0440\u043e\u0438\u0437\u0432\u043e\u043b\u044c\u043d\u043e\u0433\u043e \u043f\u043e\u043b\u044c\u0437\u043e\u0432\u0430\u0442\u0435\u043b\u044f, \u043d\u0435\u0434\u043e\u0441\u0442\u0430\u0442\u043e\u0447\u043d\u043e \u0437\u043d\u0430\u0442\u044c \u0442\u043e\u043b\u044c\u043a\u043e \u0437\u043d\u0430\u0447\u0435\u043d\u0438\u044f \u0438\u0434\u0435\u043d\u0442\u0438\u0444\u0438\u043a\u0430\u0442\u043e\u0440\u043e\u0432 \u043f\u043e\u043b\u044c\u0437\u043e\u0432\u0430\u0442\u0435\u0439. \u041f\u0440\u0438\u0447\u0438\u043d\u0430 \u0432 \u0442\u043e\u043c, \u0447\u0442\u043e user_id \u0434\u043b\u044f \u043f\u043e\u043b\u044c\u0437\u043e\u0432\u0430\u0442\u0435\u043b\u044f \u043d\u0438\u043a\u0430\u043a \u043d\u0435 \u0437\u0430\u0432\u0438\u0441\u0438\u0442 \u043e\u0442 \u0446\u0435\u043b\u0435\u0432\u043e\u0439 \u043f\u0435\u0440\u0435\u043c\u0435\u043d\u043d\u043e\u0439 -- \u0438\u0434\u0435\u043d\u0442\u0438\u0444\u0438\u043a\u0430\u0442\u043e\u0440 \u0433\u0435\u043d\u0435\u0440\u0438\u0440\u0443\u0435\u0442\u0441\u044f \u043d\u0430 \u043e\u0441\u043d\u043e\u0432\u0430\u043d\u0438\u0438 \u0432\u0440\u0435\u043c\u0435\u043d\u0438 \u0440\u0435\u0433\u0438\u0441\u0442\u0440\u0430\u0446\u0438\u0438, \u0441\u0435\u0440\u0432\u0435\u0440\u0430, \u043e\u0431\u0440\u0430\u0431\u0430\u0442\u044b\u0432\u0430\u044e\u0449\u0435\u0433\u043e \u0437\u0430\u043f\u0440\u043e\u0441, \u0438 \u043d\u043e\u043c\u0435\u0440\u0430 \u043f\u043e\u043b\u044c\u0437\u043e\u0432\u0430\u0442\u0435\u043b\u044f ([\u043f\u043e\u0434\u0440\u043e\u0431\u043d\u043e\u0441\u0442\u0438](https://dev.twitter.com/overview/api/twitter-ids-json-and-snowflake)).\n",
      "\n",
      "\u041f\u043e\u044d\u0442\u043e\u043c\u0443 \u043d\u0430\u043c \u043f\u043e\u0442\u0440\u0435\u0431\u0443\u0435\u0442\u0441\u044f \u0437\u0430\u0433\u0440\u0443\u0437\u0438\u0442\u044c \u0434\u043e\u043f\u043e\u043b\u043d\u0438\u0442\u0435\u043b\u044c\u043d\u0443\u044e \u0438\u043d\u0444\u043e\u0440\u043c\u0430\u0446\u0438\u044e \u043e \u043a\u0430\u0436\u0434\u043e\u043c \u043f\u043e\u043b\u044c\u0437\u043e\u0432\u0430\u0442\u0435\u043b\u0435, \u0438\u043d\u0430\u0447\u0435 \u0433\u043e\u0432\u043e\u0440\u044f \u043f\u0440\u043e\u0432\u0435\u0441\u0442\u0438 \u0441\u0431\u043e\u0440 \u0434\u0430\u043d\u043d\u044b\u0445 (data collection). \u041d\u0430\u0438\u0431\u043e\u043b\u0435\u0435 \u0432\u0430\u0436\u043d\u0443\u044e \u0438\u043d\u0444\u043e\u0440\u043c\u0430\u0446\u0438\u044e \u043c\u043e\u0436\u043d\u043e \u0437\u0430\u0433\u0440\u0443\u0437\u0438\u0442\u044c \u0438\u0437 [Twitter](https://dev.twitter.com/rest/public) [API](http://www.wikiwand.com/en/Representational_state_transfer). \u041f\u0440\u0438 \u0436\u0435\u043b\u0430\u043d\u0438\u0438 \u043c\u043e\u0436\u043d\u043e \u0432\u043e\u0441\u043f\u043e\u043b\u044c\u0437\u043e\u0432\u0430\u0442\u044c\u0441\u044f \u0438 \u0434\u0440\u0443\u0433\u0438\u043c\u0438 \u0438\u0441\u0442\u043e\u0447\u043d\u0438\u043a\u0430\u043c\u0438 -- \u043e\u0431 \u044d\u0442\u043e\u043c \u043d\u0438\u0436\u0435.\n",
      "\n",
      "\u0414\u043b\u044f \u0442\u043e\u0433\u043e, \u0447\u0442\u043e\u0431\u044b \u043f\u043e\u043b\u0443\u0447\u0438\u0442\u044c \u0434\u043e\u0441\u0442\u0443\u043f \u043a API \u043f\u0440\u0435\u0436\u0434\u0435 \u0432\u0441\u0435\u0433\u043e \u043d\u0435\u043e\u0431\u0445\u043e\u0434\u0438\u043c\u043e \u0437\u0430\u0440\u0435\u0433\u0438\u0441\u0442\u0440\u0438\u0440\u043e\u0432\u0430\u0442\u044c\u0441\u044f \u0432 Twitter \u0432 \u043a\u0430\u0447\u0435\u0441\u0442\u0432\u0435 \u0440\u0430\u0437\u0440\u0430\u0431\u043e\u0442\u0447\u0438\u043a\u0430 \u0438 \u0441\u043e\u0437\u0434\u0430\u0442\u044c \u0441\u0432\u043e\u0435 [\u043f\u0440\u0438\u043b\u043e\u0436\u0435\u043d\u0438\u0435](https://apps.twitter.com/). \u041f\u043e\u0441\u043b\u0435 \u0441\u043e\u0437\u0434\u0430\u043d\u0438\u044f \u043f\u0440\u0438\u043b\u043e\u0436\u0435\u043d\u0438\u044f \u0431\u0443\u0434\u0435\u0442 \u0434\u043e\u0441\u0442\u0443\u043f\u0435\u043d \u043d\u0430\u0431\u043e\u0440 \u043a\u043b\u044e\u0447\u0435\u0439, \u043a\u043e\u0442\u043e\u0440\u044b\u0435 \u043c\u044b \u0431\u0443\u0434\u0435\u043c \u0438\u0441\u043f\u043e\u043b\u044c\u0437\u043e\u0432\u0430\u0442\u044c \u0434\u043b\u044f \u0430\u0443\u0442\u0435\u043d\u0442\u0438\u0444\u0438\u043a\u0430\u0446\u0438\u0438. \u042d\u0442\u0438 \u043a\u043b\u044e\u0447\u0438 \u043d\u0435\u043e\u0431\u0445\u043e\u0434\u0438\u043c\u043e \u0441\u043a\u043e\u043f\u0438\u0440\u043e\u0432\u0430\u0442\u044c \u0432 \u0441\u043e\u043e\u0442\u0432\u0435\u0442\u0441\u0442\u0432\u0443\u044e\u0449\u0438\u0435 \u043a\u043e\u043d\u0441\u0442\u0430\u043d\u0442\u044b \u043d\u0438\u0436\u0435. \u041f\u043e\u0434\u0440\u043e\u0431\u043d\u0435\u0435 \u043e \u0442\u043e\u043c, \u043a\u0430\u043a \u0440\u0430\u0431\u043e\u0442\u0430\u0435\u0442 \u0430\u0443\u0442\u0435\u043d\u0442\u0438\u0444\u0438\u043a\u0430\u0446\u0438\u044f \u0432 Twitter API \u043c\u043e\u0436\u043d\u043e \u043f\u043e\u0447\u0438\u0442\u0430\u0442\u044c [\u043f\u043e \u0441\u0441\u044b\u043b\u043a\u0435](https://dev.twitter.com/oauth/application-only), \u0445\u043e\u0442\u044f \u044d\u0442\u043e \u043d\u0443\u0436\u043d\u043e \u0441\u043a\u043e\u0440\u0435\u0435 \u0434\u043b\u044f \u043e\u0437\u043d\u0430\u043a\u043e\u043c\u043b\u0435\u043d\u0438\u044f: \u0431\u0438\u0431\u043b\u0438\u043e\u0442\u0435\u043a\u0430 \u043e\u0431\u0440\u0430\u0449\u0435\u043d\u0438\u044f \u0441 API \u043f\u043e\u0437\u0430\u0431\u043e\u0442\u0438\u0442\u0441\u044f \u043e \u043c\u0435\u0445\u0430\u043d\u0438\u0437\u043c\u0435 \u0430\u0443\u0442\u0435\u043d\u0442\u0438\u0444\u0438\u043a\u0430\u0446\u0438\u0438 \u0437\u0430 \u043d\u0430\u0441."
     ]
    },
    {
     "cell_type": "code",
     "collapsed": false,
     "input": [
      "CONSUMER_KEY = \"your_key\"\n",
      "CONSUMER_SECRET = \"your_secret\"\n",
      "\n",
      "ACCESS_TOKEN_KEY = \"your_token_key\"\n",
      "ACCESS_TOKEN_SECRET = \"your_token_secret\"\n",
      "\n",
      "api = twitter.Api(consumer_key=CONSUMER_KEY, \n",
      "                  consumer_secret=CONSUMER_SECRET, \n",
      "                  access_token_key=ACCESS_TOKEN_KEY, \n",
      "                  access_token_secret=ACCESS_TOKEN_SECRET)"
     ],
     "language": "python",
     "metadata": {},
     "outputs": [],
     "prompt_number": 4
    },
    {
     "cell_type": "markdown",
     "metadata": {},
     "source": [
      "Twitter API \u043f\u0440\u0435\u0434\u043e\u0441\u0442\u0430\u0432\u043b\u044f\u0435\u0442 \u0438\u043d\u0444\u043e\u0440\u043c\u0430\u0446\u0438\u044e \u043e \u043c\u0435\u0441\u0442\u043e\u043d\u0430\u0445\u043e\u0436\u0434\u0435\u043d\u0438\u0438 \u043f\u043e\u043b\u044c\u0437\u043e\u0432\u0430\u0442\u0435\u043b\u044f, \u043d\u043e \u044d\u0442\u0430 \u0438\u043d\u0444\u043e\u0440\u043c\u0430\u0446\u0438\u044f \u043f\u0440\u0435\u0434\u0441\u0442\u0430\u0432\u043b\u0435\u043d\u0430 \u0432 \u0442\u0435\u043a\u0441\u0442\u043e\u0432\u043e\u043c \u0432\u0438\u0434\u0435, \u043d\u0430\u043f\u0440\u0438\u043c\u0435\u0440 \u0442\u0430\u043a:\n",
      "```\n",
      "\"location\": \"San Francisco, CA\"\n",
      "```\n",
      "\u0422\u0430\u043a\u0438\u0435 \u0442\u0435\u043a\u0441\u0442\u043e\u0432\u044b\u0439 \u043e\u043f\u0438\u0441\u0430\u043d\u0438\u044f \u043d\u0435 \u0441\u043b\u0438\u0448\u043a\u043e\u043c \u0443\u0434\u043e\u0431\u043d\u044b \u0434\u043b\u044f \u0430\u043d\u0430\u043b\u0438\u0437\u0430, \u043f\u043e\u044d\u0442\u043e\u043c\u0443 \u043d\u0430\u0448\u0430 \u0446\u0435\u043b\u044c -- \u043f\u043e\u043b\u0443\u0447\u0438\u0442\u044c \u0431\u043e\u043b\u0435\u0435 \u0441\u0442\u0440\u0443\u043a\u0442\u0443\u0440\u0438\u0440\u043e\u0432\u0430\u043d\u043d\u0443\u044e \u0438\u043d\u0444\u043e\u0440\u043c\u0430\u0446\u0438\u044e, \u0442\u0430\u043a\u0443\u044e \u043a\u0430\u043a \u0433\u0435\u043e\u0433\u0440\u0430\u0444\u0438\u0447\u0435\u0441\u043a\u0438\u0435 \u043a\u043e\u043e\u0440\u0434\u0438\u043d\u0430\u0442\u044b, \u0441\u0442\u0440\u0430\u043d\u0430, \u0433\u043e\u0440\u043e\u0434 \u0438 \u0442.\u0434. \u0414\u043b\u044f \u044d\u0442\u043e\u0433\u043e \u0443\u0434\u043e\u0431\u043d\u043e \u0438\u0441\u043f\u043e\u043b\u044c\u0437\u043e\u0432\u0430\u0442\u044c \u0433\u0435\u043e\u0438\u043d\u0444\u043e\u0440\u043c\u0430\u0446\u0438\u043e\u043d\u043d\u044b\u0439 \u0441\u0435\u0440\u0432\u0438\u0441, \u043d\u0430\u043f\u0440\u0438\u043c\u0435\u0440 [GeoNames](http://www.geonames.org/export/web-services.html). \u0414\u043b\u044f \u0435\u0433\u043e \u0438\u0441\u043f\u043e\u043b\u044c\u0437\u043e\u0432\u0430\u043d\u0438\u044f \u0442\u0430\u043a\u0436\u0435 \u043d\u0435\u043e\u0431\u0445\u043e\u0434\u0438\u043c\u043e \u0437\u0430\u0440\u0435\u0433\u0438\u0441\u0442\u0440\u0438\u0440\u043e\u0432\u0430\u0442\u044c\u0441\u044f, \u043f\u043e\u0434\u0442\u0432\u0435\u0440\u0434\u0438\u0442\u044c \u0440\u0435\u0433\u0438\u0441\u0442\u0440\u0430\u0446\u0438\u044e \u0438 \u0432\u043a\u043b\u044e\u0447\u0438\u0442\u044c \u043f\u043e\u0434\u0434\u0435\u0440\u0436\u043a\u0443 API. \u041f\u043e\u0441\u043b\u0435 \u044d\u0442\u043e\u0433\u043e \u043c\u043e\u0436\u043d\u043e \u0431\u0443\u0434\u0435\u0442 \u043f\u043e\u0441\u044b\u043b\u0430\u0442\u044c \u0437\u0430\u043f\u0440\u043e\u0441\u044b \u0434\u043b\u044f \u043d\u0430\u0445\u043e\u0436\u0434\u0435\u043d\u0438\u044f \u043d\u0443\u0436\u043d\u043e\u0439 \u0438\u043d\u0444\u043e\u0440\u043c\u0430\u0446\u0438\u0438. \u041d\u0430\u043f\u0440\u0438\u043c\u0435\u0440 \u043d\u0430 \u0437\u0430\u043f\u0440\u043e\u0441\n",
      "```\n",
      "http://api.geonames.org/search?q=\"San Francisco, CA\"&maxRows=10&username=demo\n",
      "```\n",
      "\u0432\u043e\u0437\u0432\u0440\u0430\u0449\u0430\u0435\u0442\u0441\u044f \u0440\u0435\u0437\u0443\u043b\u044c\u0442\u0430\u0442,\n",
      "```javascript\n",
      "{\n",
      "    \"totalResultsCount\": 2112,\n",
      "    \"geonames\": [\n",
      "        {\n",
      "            \"countryId\": \"6252001\",\n",
      "            \"adminCode1\": \"CA\",\n",
      "            \"countryName\": \"United States\",\n",
      "            \"fclName\": \"city, village,...\",\n",
      "            \"countryCode\": \"US\",\n",
      "            \"lng\": \"-122.41942\",\n",
      "            \"fcodeName\": \"seat of a second-order administrative division\",\n",
      "            \"toponymName\": \"San Francisco\",\n",
      "            \"fcl\": \"P\",\n",
      "            \"name\": \"San Francisco\",\n",
      "            \"fcode\": \"PPLA2\",\n",
      "            \"geonameId\": 5391959,\n",
      "            \"lat\": \"37.77493\",\n",
      "            \"adminName1\": \"California\",\n",
      "            \"population\": 805235\n",
      "        },\n",
      "        {\n",
      "            \"countryId\": \"6252001\",\n",
      "            \"adminCode1\": \"CA\",\n",
      "            \"countryName\": \"United States\",\n",
      "            \"fclName\": \"spot, building, farm\",\n",
      "            \"countryCode\": \"US\",\n",
      "            \"lng\": \"-122.3758\",\n",
      "            \"fcodeName\": \"airport\",\n",
      "            \"toponymName\": \"San Francisco International Airport\",\n",
      "            \"fcl\": \"S\",\n",
      "            \"name\": \"San Francisco International Airport\",\n",
      "            \"fcode\": \"AIRP\",\n",
      "            \"geonameId\": 5391989,\n",
      "            \"lat\": \"37.61882\",\n",
      "            \"adminName1\": \"California\",\n",
      "            \"population\": 0\n",
      "        }\n",
      "    ]\n",
      "}\n",
      "```\n",
      "\u0438\u0437 \u043a\u043e\u0442\u043e\u0440\u043e\u0433\u043e \u043b\u0435\u0433\u043a\u043e \u0438\u0437\u0432\u043b\u0435\u0447\u044c \u043d\u0443\u0436\u043d\u0443\u044e \u0438\u043d\u0444\u043e\u0440\u043c\u0430\u0446\u0438\u044e.\n",
      "\n",
      "**\u0417\u0430\u043c\u0435\u0447\u0430\u043d\u0438\u0435: \u0434\u043b\u044f \u0437\u0430\u043f\u0440\u043e\u0441\u043e\u0432 \u043d\u0435\u043e\u0431\u0445\u043e\u0434\u0438\u043c\u043e \u0438\u0441\u043f\u043e\u043b\u044c\u0437\u043e\u0432\u0430\u0442\u044c \u0441\u0432\u043e\u0435\u0433\u043e \u043f\u043e\u043b\u044c\u0437\u043e\u0432\u0430\u0442\u0435\u043b\u044f. \u041a\u0440\u043e\u043c\u0435 \u0442\u043e\u0433\u043e, \u043a\u043e\u043b\u0438\u0447\u0435\u0441\u0442\u0432\u043e \u0437\u0430\u043f\u0440\u043e\u0441\u043e\u0432 \u043e\u0433\u0440\u0430\u043d\u0438\u0447\u0435\u043d\u043e 30\u043a \u0432 \u0434\u0435\u043d\u044c**.\n",
      "\n",
      "\u041f\u0435\u0440\u0432\u044b\u043c \u0434\u0435\u043b\u043e\u043c \u043d\u0430\u043c \u043f\u043e\u043d\u0430\u0434\u043e\u0431\u0438\u0442\u0441\u044f \u0444\u0443\u043d\u043a\u0446\u0438\u044f, \u043a\u043e\u0442\u043e\u0440\u0430\u044f \u0432\u043e\u0437\u0432\u0440\u0430\u0449\u0430\u0435\u0442 \u0438\u043d\u0444\u043e\u0440\u043c\u0430\u0446\u0438\u044e \u043e \u043c\u0435\u0441\u0442\u043e\u043f\u043e\u043b\u043e\u0436\u0435\u043d\u0438\u0438 \u0434\u043b\u044f \u0434\u0430\u043d\u043d\u043e\u0433\u043e \u0442\u0435\u043a\u0441\u0442\u043e\u0432\u043e\u0433\u043e \u0437\u0430\u043f\u0440\u043e\u0441\u0430. \u0422\u0440\u0435\u0431\u0443\u0435\u0442\u0441\u044f \u0440\u0435\u0430\u043b\u0438\u0437\u043e\u0432\u0430\u0442\u044c \u0444\u0443\u043d\u043a\u0446\u0438\u044e `get_coordinates_by_location`, \u043f\u0440\u0438\u043d\u0438\u043c\u0430\u044e\u0449\u0443\u044e \u043d\u0430 \u0432\u0445\u043e\u0434 \u0441\u0442\u0440\u043e\u043a\u0443 \u0441 \u043c\u0435\u0441\u0442\u043e\u043f\u043e\u043b\u043e\u0436\u0435\u043d\u0438\u0435\u043c \u0438 \u0432\u043e\u0437\u0432\u0440\u0430\u0449\u0430\u0435\u0442 \u043a\u043e\u0440\u0442\u0435\u0436 \u0432\u0438\u0434\u0430 (\u0434\u043e\u043b\u0433\u043e\u0442\u0430, \u0448\u0438\u0440\u043e\u0442\u0430, \u0433\u043e\u0440\u043e\u0434)."
     ]
    },
    {
     "cell_type": "code",
     "collapsed": false,
     "input": [
      "# Input your user name\n",
      "GEO_USER_NAME = \"your-user-name\"\n",
      "\n",
      "def get_coordinates_by_location(location):\n",
      "    \"\"\"\n",
      "    This function gets geographic coordinates and city name\n",
      "    form external web service GeoNames using 'location' string.\n",
      "    \n",
      "    NOTE: the returned value is FAKE. It's only used to show\n",
      "    NOTE: correct output format.\n",
      "    \"\"\"\n",
      "    # your code here\n",
      "    return (55.75222, 37.61556, u'Russia')"
     ],
     "language": "python",
     "metadata": {},
     "outputs": [],
     "prompt_number": 1
    },
    {
     "cell_type": "markdown",
     "metadata": {},
     "source": [
      "\u0421\u043b\u0435\u0434\u0443\u044e\u0449\u0438\u0439 \u0448\u0430\u0433 -- \u0432\u044b\u0437\u043e\u0432 Twitter API \u0434\u043b\u044f \u0441\u0431\u043e\u0440\u0430 \u0434\u0430\u043d\u043d\u044b\u0445 \u0438 \u0441\u043e\u0445\u0440\u0430\u043d\u0435\u043d\u0438\u044f \u0438\u0445 \u0432 data frame. \u041f\u043e\u0441\u043b\u0435 \u0447\u0435\u0433\u043e data frame c \u0441\u043e\u0431\u0440\u0430\u043d\u043d\u044b\u043c\u0438 \u0434\u0430\u043d\u043d\u044b\u043c\u0438 \u0441\u043e\u0432\u043c\u0435\u0449\u0430\u0435\u0442\u0441\u044f \u0441 data frame, \u0441\u043e\u0434\u0435\u0440\u0436\u0430\u0449\u0438\u043c \u0434\u0430\u043d\u043d\u044b\u0435 \u0438\u0441\u0445\u043e\u0434\u043d\u043e\u0439 \u043e\u0431\u0443\u0447\u0430\u044e\u0449\u0435\u0439 \u0432\u044b\u0431\u043e\u0440\u043a\u0438. \n",
      "\n",
      "\u0412 \u044d\u0442\u043e\u0439 \u0447\u0430\u0441\u0442\u0438 \u0437\u0430\u0434\u0430\u043d\u0438\u044f \u043d\u0443\u0436\u043d\u043e \u0440\u0435\u0430\u043b\u0438\u0437\u043e\u0432\u0430\u0442\u044c \u0444\u0443\u043d\u043a\u0446\u0438\u044e `get_user_records`, \u043a\u043e\u0442\u043e\u0440\u0430\u044f \u043f\u0440\u0438\u043d\u0438\u043c\u0430\u0435\u0442 \u043d\u0430 \u0432\u0445\u043e\u0434 \u043f\u0440\u043e\u0447\u0438\u0442\u0430\u043d\u043d\u044b\u0439 \u0438\u0437 \u0444\u0430\u0439\u043b\u0430 `data frame` \u0438 \u0432\u043e\u0437\u0432\u0440\u0430\u0449\u0430\u0435\u0442 \u0441\u043f\u0438\u0441\u043e\u043a \u0441\u043b\u043e\u0432\u0430\u0440\u0435\u0439, \u043a\u0430\u0436\u0434\u044b\u0439 \u0438\u0437 \u043a\u043e\u0442\u043e\u0440\u044b\u0445 \u043f\u0440\u0435\u0434\u0441\u0442\u0430\u0432\u043b\u044f\u0435\u0442 \u0434\u0430\u043d\u043d\u044b\u0435 \u043e\u0434\u043d\u043e\u0433\u043e \u043f\u043e\u043b\u044c\u0437\u043e\u0432\u0430\u0442\u0435\u043b\u044f. \u0414\u043b\u044f \u0442\u043e\u0433\u043e, \u0447\u0442\u043e\u0431\u044b \u043f\u043e\u043b\u0443\u0447\u0438\u0442\u044c \u0438\u0437 \u043e\u0431\u044a\u0435\u043a\u0442\u0430 \u043a\u043b\u0430\u0441\u0441\u0430 [`User`](https://github.com/bear/python-twitter/blob/master/twitter/user.py) \u0441\u043b\u043e\u0432\u0430\u0440\u044c \u0432 \u043f\u0440\u0430\u0432\u0438\u043b\u044c\u043d\u043e\u043c \u0444\u043e\u0440\u043c\u0430\u0442\u0435, \u043d\u0443\u0436\u043d\u043e \u0438\u0441\u043f\u043e\u043b\u044c\u0437\u043e\u0432\u0430\u0442\u044c \u0444\u0443\u043d\u043a\u0446\u0438\u044e `twitter_user_to_dataframe_record` (5 \u0431\u0430\u043b\u043b\u043e\u0432)."
     ]
    },
    {
     "cell_type": "code",
     "collapsed": false,
     "input": [
      "ts_parser = lambda date_str: dateutil.parser.parse(date_str) if pd.notnull(date_str) else None\n",
      "\n",
      "def twitter_user_to_dataframe_record(user):\n",
      "    record = {\n",
      "        \"twitter_id\": user.id,\n",
      "        \"name\": user.name,\n",
      "        \"screen_name\": user.screen_name,        \n",
      "        \"created_at\": ts_parser(user.created_at),        \n",
      "        \"followers_count\": user.followers_count,\n",
      "        \"friends_count\": user.friends_count,\n",
      "        \"statuses_count\": user.statuses_count,\n",
      "        \"favourites_count\": user.favourites_count,\n",
      "        \"listed_count\": user.listed_count,\n",
      "        \"verified\": user.verified\n",
      "    }\n",
      "    \n",
      "    if user.description is not None and user.description.strip() != \"\":\n",
      "        record[\"description\"] = user.description\n",
      "        \n",
      "    if user.location is not None and user.location.strip() != \"\":\n",
      "        record[\"location\"] = user.location\n",
      "        record[\"lat\"], record[\"lon\"], record[\"country\"] = get_coordinates_by_location(user.location)\n",
      "    \n",
      "    return record\n",
      "\n",
      "def get_user_records(df):\n",
      "    # your code here\n",
      "    # some_downloaded_user = get_user_from_api\n",
      "    # return [twitter_user_to_dataframe_record(some_downloaded_user)]\n",
      "\n",
      "\n",
      "# Maximum number of user IDs returned by Twitter's user lookup\n",
      "\n",
      "user_records = get_user_records(df_users)\n",
      "        \n",
      "print \"Creating data frame from loaded data\"\n",
      "df_records = pd.DataFrame(user_records, columns=[\"twitter_id\", \"name\", \"screen_name\", \"description\", \"verified\", \"location\", \"lat\", \"lon\", \"country\", \"created_at\", \"followers_count\", \"friends_count\", \"statuses_count\", \"favourites_count\", \"listed_count\"])\n",
      "print \"Merging data frame with the training set\"\n",
      "df_full = pd.merge(df_users, df_records, on=\"twitter_id\", how=\"left\")\n",
      "print \"Finished building data frame\""
     ],
     "language": "python",
     "metadata": {},
     "outputs": [],
     "prompt_number": 13
    },
    {
     "cell_type": "heading",
     "level": 2,
     "metadata": {},
     "source": [
      "Exploratory Data Analysis"
     ]
    },
    {
     "cell_type": "markdown",
     "metadata": {},
     "source": [
      "\u0414\u043b\u044f \u0442\u043e\u0433\u043e, \u0447\u0442\u043e\u0431\u044b \u043b\u0443\u0447\u0448\u0435 \u043f\u043e\u043d\u044f\u0442\u044c, \u043a\u0430\u043a \u0443\u0441\u0442\u0440\u043e\u0435\u043d\u0430 \u043d\u0430\u0448\u0430 \u043e\u0431\u0443\u0447\u0430\u044e\u0449\u0430\u044f \u0432\u044b\u0431\u043e\u0440\u043a\u0430, \u043f\u043e\u0441\u0442\u0440\u043e\u0438\u043c \u043d\u0435\u0441\u043a\u043e\u043b\u044c\u043a\u043e \u0433\u0440\u0430\u0444\u0438\u043a\u043e\u0432. \u0421\u043d\u0430\u0447\u0430\u043b\u0430 \u043f\u043e\u0441\u0442\u0440\u043e\u0438\u043c \u0434\u043e\u043b\u044e \u043f\u043e\u043b\u044c\u0437\u043e\u0432\u0430\u0442\u0435\u043b\u0435\u0439 \u043a\u0430\u0436\u0434\u043e\u0433\u043e \u043a\u043b\u0430\u0441\u0441\u0430 \u0432 \u0437\u0430\u0432\u0438\u0441\u0438\u043c\u043e\u0441\u0442\u0438 \u043e\u0442 \u0434\u043d\u044f \u0441\u043e\u0437\u0434\u0430\u043d\u0438\u044f \u0430\u043a\u043a\u0430\u0443\u043d\u0442\u0430. \u041f\u043e \u0433\u043e\u0440\u0438\u0437\u043e\u043d\u0442\u0430\u043b\u044c\u043d\u043e\u0439 \u043e\u0441\u0438 \u043e\u0442\u043b\u043e\u0436\u0438\u043c \u0434\u0435\u043d\u044c \u0441\u043e\u0437\u0434\u0430\u043d\u0438\u044f \u0430\u043a\u043a\u0430\u0443\u043d\u0442\u0430, \u0430 \u043f\u043e \u0432\u0435\u0440\u0442\u0438\u043a\u0430\u043b\u044c\u043d\u043e\u0439 -- \u0434\u043e\u043b\u044e \u043f\u043e\u043b\u044c\u0437\u043e\u0432\u0430\u0442\u0435\u043b\u0435\u0439 \u043a\u043b\u0430\u0441\u0441\u0430 ([\u043f\u043e\u0434\u0441\u043a\u0430\u0437\u043a\u0430](http://anokhin.github.io/img/hw1_distr.png)). \u041d\u0435\u043e\u0431\u0445\u043e\u0434\u0438\u043c\u043e \u0434\u043e\u043f\u0438\u0441\u0430\u0442\u044c \u043a\u043e\u0434 \u0444\u0443\u043d\u043a\u0446\u0438\u0438 count_users. \u0412 \u0444\u0443\u043d\u043a\u0446\u0438\u0438 \u043d\u0435\u043e\u0431\u0445\u043e\u0434\u0438\u043c\u043e \u043f\u043e\u0441\u0447\u0438\u0442\u0430\u0442\u044c \u043f\u043e\u043b\u044c\u0437\u043e\u0432\u0430\u0442\u0435\u043b\u0435\u0439 \u0432 \u043a\u0430\u0436\u0434\u043e\u0439 \u0433\u0440\u0443\u043f\u043f\u0435 (2 \u0431\u0430\u043b\u043b\u0430)."
     ]
    },
    {
     "cell_type": "code",
     "collapsed": false,
     "input": [
      "def count_users(grouped):\n",
      "    \"\"\"\n",
      "    Counts number of positive and negative users\n",
      "    created at each date.\n",
      "    \n",
      "    Returns:\n",
      "        count_1 -- 1D numpy array with the counts of is_1 users created at each date\n",
      "        count_2 -- 1D numpy array with the counts of is_2 users created at each date\n",
      "        count_3 -- 1D numpy array with the counts of is_3 users created at each date\n",
      "        dts -- a list of date strings, e.g. ['2014-10-11', '2014-10-12', ...]\n",
      "    \"\"\"\n",
      "    dts = []\n",
      "    count_1, count_2, count_3 = np.zeros(len(grouped)), np.zeros(len(grouped)), np.zeros(len(grouped))\n",
      "    # your code here \n",
      "    return count_1, count_2, count_3, dts\n",
      "\n",
      "\n",
      "grouped = df_full.groupby(map(lambda dt: dt.strftime(\"%Y-%m\") if pd.notnull(dt) else \"NA\", df_full[\"created_at\"]))\n",
      "count_1, count_2, count_3, dts = count_users(grouped)\n",
      "    \n",
      "total = (count_1 + count_2 + count_3 + 1e-10)\n",
      "fraction_1 = count_1 / total\n",
      "fraction_2 = count_2 / total\n",
      "fraction_3 = count_3 / total\n",
      "\n",
      "sort_ind = np.argsort(dts)\n",
      "    \n",
      "pl.figure(figsize=(20, 3))\n",
      "pl.bar(np.arange(len(dts)), fraction_1[sort_ind], width=1.0, color='red', alpha=0.6, linewidth=0, label=\"1\")\n",
      "pl.bar(np.arange(len(dts)), fraction_2[sort_ind], bottom=fraction_1[sort_ind], width=1.0, color='green', alpha=0.6, linewidth=0, label=\"2\")\n",
      "pl.bar(np.arange(len(dts)), fraction_3[sort_ind], bottom=fraction_2[sort_ind], width=1.0, color='blue', alpha=0.6, linewidth=0, label=\"3\")\n",
      "\n",
      "pl.xticks(np.arange(len(dts)) + 0.4, sorted(dts), rotation=90)\n",
      "pl.title(\"Class distribution by account creation month\")\n",
      "pl.xlim(0, len(dts))\n",
      "pl.legend()\n",
      "pl.show()"
     ],
     "language": "python",
     "metadata": {},
     "outputs": [],
     "prompt_number": 15
    },
    {
     "cell_type": "markdown",
     "metadata": {},
     "source": [
      "\u041f\u043e\u0441\u043c\u043e\u0442\u0440\u0438\u043c, \u0433\u0434\u0435 \u0436\u0438\u0432\u0443\u0442 \u043f\u043e\u043b\u044c\u0437\u043e\u0432\u0430\u0442\u0435\u043b\u0438 \u043a\u0430\u0436\u0434\u043e\u0439 \u043a\u0430\u0442\u0435\u0433\u043e\u0440\u0438\u0438. \u0414\u043b\u044f \u044d\u0442\u043e\u0433\u043e \u043e\u0442\u043c\u0435\u0442\u0438\u043c \u043d\u0430 \u043a\u0430\u0440\u0442\u0435 \u043a\u0430\u0436\u0434\u043e\u0433\u043e \u043f\u043e\u043b\u044c\u0437\u043e\u0432\u0430\u0442\u0435\u043b\u044f \u043f\u0435\u0440\u0432\u043e\u0433\u043e \u043a\u043b\u0430\u0441\u0441\u0430 \u043a\u0440\u0430\u0441\u043d\u044b\u043c, \u0432\u0442\u043e\u0440\u043e\u0433\u043e - \u0437\u0435\u043b\u0435\u043d\u044b\u043c, \u0442\u0440\u0435\u0442\u044c\u0435\u0433\u043e - \u0441\u0438\u043d\u0438\u043c \u0446\u0432\u0435\u0442\u043e\u043c ([\u043f\u043e\u0434\u0441\u043a\u0430\u0437\u043a\u0430](http://anokhin.github.io/img/hw1_map.png)). \u041d\u0435\u043e\u0431\u0445\u043e\u0434\u0438\u043c\u043e \u0440\u0435\u0430\u043b\u0438\u0437\u043e\u0432\u0430\u0442\u044c \u0444\u0443\u043d\u043a\u0446\u0438\u044e plot_points_on_map. \u0412 \u0444\u0443\u043d\u043a\u0446\u0438\u0438 \u043d\u0435\u043e\u0431\u0445\u043e\u0434\u0438\u043c\u043e \u043e\u0442\u043e\u0431\u0440\u0430\u0437\u0438\u0442\u044c \u043d\u0430 \u043a\u0430\u0440\u0442\u0435 \u043f\u043e\u043b\u044c\u0437\u043e\u0432\u0430\u0442\u0435\u043b\u0435\u0439 \u0438\u0437 \u0440\u0430\u0437\u043d\u044b\u0445 \u043a\u043b\u0430\u0441\u0441\u043e\u0432 (3 \u0431\u0430\u043b\u043b\u0430)."
     ]
    },
    {
     "cell_type": "code",
     "collapsed": false,
     "input": [
      "pl.figure(figsize=(20,12))\n",
      "\n",
      "m = bm.Basemap(projection='cyl', llcrnrlat=-90, urcrnrlat=90, llcrnrlon=-180, urcrnrlon=180, resolution='c')\n",
      "\n",
      "m.drawcountries(linewidth=0.2)\n",
      "m.fillcontinents(color='lavender', lake_color='#000040')\n",
      "m.drawmapboundary(linewidth=0.2, fill_color='#000040')\n",
      "m.drawparallels(np.arange(-90,90,30),labels=[0,0,0,0], color='white', linewidth=0.5)\n",
      "m.drawmeridians(np.arange(0,360,30),labels=[0,0,0,0], color='white', linewidth=0.5)\n",
      "\n",
      "def plot_points_on_map(df_full):\n",
      "    \"\"\"\n",
      "    Plot points on the map. Be creative.\n",
      "    \"\"\"\n",
      "    # your code here\n",
      "    return\n",
      "\n",
      "plot_points_on_map(df_full)\n",
      "\n",
      "pl.title(\"Geospatial distribution of twitter users\")\n",
      "pl.legend()\n",
      "pl.show()"
     ],
     "language": "python",
     "metadata": {},
     "outputs": [],
     "prompt_number": 16
    },
    {
     "cell_type": "markdown",
     "metadata": {},
     "source": [
      "\u0412 \u043f\u043e\u0441\u043b\u0435\u0434\u043d\u0435\u0439 \u043a\u0430\u0440\u0442\u0438\u043d\u043a\u0435 \u0435\u0441\u0442\u044c \u043f\u0440\u043e\u0431\u043b\u0435\u043c\u0430: \u0441\u0435\u0440\u0432\u0438\u0441 \u0433\u0435\u043e\u0438\u043d\u0444\u043e\u0440\u043c\u0430\u0446\u0438\u0438 \u043e\u043f\u0440\u0435\u0434\u0435\u043b\u044f\u0435\u0442 \u043a\u043e\u043e\u0440\u0434\u0438\u043d\u0430\u0442\u044b \u0441 \u0442\u043e\u0447\u043d\u043e\u0441\u0442\u044c\u044e \u0434\u043e \u0433\u043e\u0440\u043e\u0434\u0430, \u043f\u043e\u044d\u0442\u043e\u043c\u0443 \u0442\u043e\u0447\u043a\u0438, \u0441\u043e\u043e\u0442\u0432\u0435\u0442\u0441\u0442\u0432\u0443\u044e\u0449\u0442\u0435 \u043d\u0435\u0441\u043a\u043e\u043b\u044c\u043a\u0438\u043c \u043f\u043e\u043b\u044c\u0437\u043e\u0432\u0430\u0442\u0435\u043b\u044f\u043c, \u043c\u043e\u0433\u0443\u0442 \u043d\u0430\u043a\u043b\u0430\u0434\u044b\u0432\u0430\u0442\u044c\u0441\u044f. \u041f\u0440\u0435\u0434\u043b\u043e\u0436\u0438\u0442\u0435 \u0438 \u0440\u0435\u0430\u043b\u0438\u0437\u0443\u0439\u0442\u0435 \u0441\u043f\u043e\u0441\u043e\u0431, \u043f\u043e\u0437\u0432\u043e\u043b\u044f\u044e\u0449\u0438\u0439 \u0441\u043f\u0440\u0430\u0432\u0438\u0442\u044c\u0441\u044f \u0441 \u044d\u0442\u043e\u0439 \u043f\u0440\u043e\u0431\u043b\u0435\u043c\u043e\u0439.\n",
      "\n",
      "\u0421\u043c\u043e\u0442\u0440\u0438\u043c \u043d\u0430 \u043f\u043e\u043b\u0443\u0447\u0435\u043d\u043d\u044b\u0439 data frame \u0438 \u0441\u043e\u0445\u0440\u0430\u043d\u044f\u0435\u043c \u0435\u0433\u043e \u0432 .csv \u0444\u0430\u0439\u043b."
     ]
    },
    {
     "cell_type": "code",
     "collapsed": false,
     "input": [
      "OUT_FILE_PATH = \"files/hw1_out.csv\"\n",
      "print \"Saving output data frame to %s\" % OUT_FILE_PATH\n",
      "df_full.to_csv(OUT_FILE_PATH, sep=\"\\t\", index=False, encoding=\"utf-8\", quoting=csv.QUOTE_NONNUMERIC)\n",
      "df_full.head()"
     ],
     "language": "python",
     "metadata": {},
     "outputs": [
      {
       "output_type": "stream",
       "stream": "stdout",
       "text": [
        "Saving output data frame to files/hw1_out.csv\n"
       ]
      },
      {
       "html": [
        "<div style=\"max-height:1000px;max-width:1500px;overflow:auto;\">\n",
        "<table border=\"1\" class=\"dataframe\">\n",
        "  <thead>\n",
        "    <tr style=\"text-align: right;\">\n",
        "      <th></th>\n",
        "      <th>user_id</th>\n",
        "      <th>class</th>\n",
        "      <th>name</th>\n",
        "      <th>screen_name</th>\n",
        "      <th>description</th>\n",
        "      <th>verified</th>\n",
        "      <th>location</th>\n",
        "      <th>lat</th>\n",
        "      <th>lon</th>\n",
        "      <th>country</th>\n",
        "      <th>created_at</th>\n",
        "      <th>followers_count</th>\n",
        "      <th>friends_count</th>\n",
        "      <th>statuses_count</th>\n",
        "      <th>favourites_count</th>\n",
        "      <th>listed_count</th>\n",
        "    </tr>\n",
        "  </thead>\n",
        "  <tbody>\n",
        "    <tr>\n",
        "      <th>0</th>\n",
        "      <td>  984121344</td>\n",
        "      <td> 0</td>\n",
        "      <td>   Ramona Flowers</td>\n",
        "      <td>   ciarradical</td>\n",
        "      <td> \u262fCiarra m.j.\u262f |XV | religion free | music is m...</td>\n",
        "      <td> False</td>\n",
        "      <td> florida</td>\n",
        "      <td> -33.83333</td>\n",
        "      <td> -55.91667</td>\n",
        "      <td>       Uruguay</td>\n",
        "      <td> 2012-12-02 07:46:25+00:00</td>\n",
        "      <td> 210</td>\n",
        "      <td> 517</td>\n",
        "      <td> 5092</td>\n",
        "      <td>  2995</td>\n",
        "      <td> 3</td>\n",
        "    </tr>\n",
        "    <tr>\n",
        "      <th>1</th>\n",
        "      <td>  601849857</td>\n",
        "      <td> 0</td>\n",
        "      <td>   Akanksha Singh</td>\n",
        "      <td>  Akankshayein</td>\n",
        "      <td> A big foodie who loves travelling, writing &amp; r...</td>\n",
        "      <td> False</td>\n",
        "      <td>   India</td>\n",
        "      <td>        22</td>\n",
        "      <td>        79</td>\n",
        "      <td>         India</td>\n",
        "      <td> 2012-06-07 10:55:20+00:00</td>\n",
        "      <td>  86</td>\n",
        "      <td> 746</td>\n",
        "      <td>  917</td>\n",
        "      <td>     2</td>\n",
        "      <td> 1</td>\n",
        "    </tr>\n",
        "    <tr>\n",
        "      <th>2</th>\n",
        "      <td>  351429761</td>\n",
        "      <td> 0</td>\n",
        "      <td>  Carolina Garcia</td>\n",
        "      <td> latinaaboooty</td>\n",
        "      <td>                                               NaN</td>\n",
        "      <td> False</td>\n",
        "      <td>     NaN</td>\n",
        "      <td>       NaN</td>\n",
        "      <td>       NaN</td>\n",
        "      <td>           NaN</td>\n",
        "      <td> 2011-08-09 07:11:35+00:00</td>\n",
        "      <td> 473</td>\n",
        "      <td> 606</td>\n",
        "      <td> 9487</td>\n",
        "      <td> 13132</td>\n",
        "      <td> 0</td>\n",
        "    </tr>\n",
        "    <tr>\n",
        "      <th>3</th>\n",
        "      <td> 2792643764</td>\n",
        "      <td> 0</td>\n",
        "      <td>      Nalrashed04</td>\n",
        "      <td>   nalrashed04</td>\n",
        "      <td>              VINE:Nalrashed INSTAGRAM:Nalrashed68</td>\n",
        "      <td> False</td>\n",
        "      <td>     NaN</td>\n",
        "      <td>       NaN</td>\n",
        "      <td>       NaN</td>\n",
        "      <td>           NaN</td>\n",
        "      <td> 2014-09-05 21:38:24+00:00</td>\n",
        "      <td>  32</td>\n",
        "      <td> 399</td>\n",
        "      <td>  110</td>\n",
        "      <td>   107</td>\n",
        "      <td> 1</td>\n",
        "    </tr>\n",
        "    <tr>\n",
        "      <th>4</th>\n",
        "      <td>  215056389</td>\n",
        "      <td> 0</td>\n",
        "      <td> Brigid Stinehart</td>\n",
        "      <td>    Digginit95</td>\n",
        "      <td> My fashion sense is a little whack and my frie...</td>\n",
        "      <td> False</td>\n",
        "      <td>     LFK</td>\n",
        "      <td>  31.23408</td>\n",
        "      <td> -94.75021</td>\n",
        "      <td> United States</td>\n",
        "      <td> 2010-11-12 22:05:53+00:00</td>\n",
        "      <td> 364</td>\n",
        "      <td> 505</td>\n",
        "      <td>  626</td>\n",
        "      <td>  1734</td>\n",
        "      <td> 0</td>\n",
        "    </tr>\n",
        "  </tbody>\n",
        "</table>\n",
        "</div>"
       ],
       "metadata": {},
       "output_type": "pyout",
       "prompt_number": 13,
       "text": [
        "      user_id  class              name    screen_name  \\\n",
        "0   984121344      0    Ramona Flowers    ciarradical   \n",
        "1   601849857      0    Akanksha Singh   Akankshayein   \n",
        "2   351429761      0   Carolina Garcia  latinaaboooty   \n",
        "3  2792643764      0       Nalrashed04    nalrashed04   \n",
        "4   215056389      0  Brigid Stinehart     Digginit95   \n",
        "\n",
        "                                         description verified location  \\\n",
        "0  \u262fCiarra m.j.\u262f |XV | religion free | music is m...    False  florida   \n",
        "1  A big foodie who loves travelling, writing & r...    False    India   \n",
        "2                                                NaN    False      NaN   \n",
        "3               VINE:Nalrashed INSTAGRAM:Nalrashed68    False      NaN   \n",
        "4  My fashion sense is a little whack and my frie...    False      LFK   \n",
        "\n",
        "         lat        lon        country                 created_at  \\\n",
        "0  -33.83333  -55.91667        Uruguay  2012-12-02 07:46:25+00:00   \n",
        "1         22         79          India  2012-06-07 10:55:20+00:00   \n",
        "2        NaN        NaN            NaN  2011-08-09 07:11:35+00:00   \n",
        "3        NaN        NaN            NaN  2014-09-05 21:38:24+00:00   \n",
        "4   31.23408  -94.75021  United States  2010-11-12 22:05:53+00:00   \n",
        "\n",
        "   followers_count  friends_count  statuses_count  favourites_count  \\\n",
        "0              210            517            5092              2995   \n",
        "1               86            746             917                 2   \n",
        "2              473            606            9487             13132   \n",
        "3               32            399             110               107   \n",
        "4              364            505             626              1734   \n",
        "\n",
        "   listed_count  \n",
        "0             3  \n",
        "1             1  \n",
        "2             0  \n",
        "3             1  \n",
        "4             0  "
       ]
      }
     ],
     "prompt_number": 13
    },
    {
     "cell_type": "code",
     "collapsed": false,
     "input": [],
     "language": "python",
     "metadata": {},
     "outputs": [],
     "prompt_number": 9
    }
   ],
   "metadata": {}
  }
 ]
}