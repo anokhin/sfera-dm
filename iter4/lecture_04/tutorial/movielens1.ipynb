{
 "cells": [
  {
   "cell_type": "code",
   "execution_count": 21,
   "metadata": {
    "collapsed": false
   },
   "outputs": [],
   "source": [
    "import scipy.sparse as ss\n",
    "\n",
    "mat = ss.dok_matrix((3952, 6040), dtype=int)\n",
    "\n",
    "with open(\"ml/ratings.dat\") as ratings:\n",
    "    for line in ratings:\n",
    "        uid, mid, r, ts = line.strip().split(\"::\")\n",
    "        # print uid, mid, r\n",
    "        mat[int(mid) - 1, int(uid) - 1] = int(r)\n",
    "        \n",
    "mov = {}\n",
    "with open(\"ml/movies.dat\") as movies:\n",
    "    for line in movies:\n",
    "        mid, title, genres = line.strip().split(\"::\")\n",
    "        mov[int(mid)] = (title, genres)"
   ]
  },
  {
   "cell_type": "code",
   "execution_count": 27,
   "metadata": {
    "collapsed": false
   },
   "outputs": [
    {
     "name": "stdout",
     "output_type": "stream",
     "text": [
      "2915\n"
     ]
    }
   ],
   "source": [
    "n = 0\n",
    "with open(\"movies.data\", \"w\") as md:\n",
    "    for i, x in enumerate(mat.tocsr().toarray()):\n",
    "        if i+1 in mov and (x > 0).sum() > 25:\n",
    "            print >> md, \",\".join(['\"' + mov[i+1][0] + '\"', mov[i+1][1]] + [str(z) for z in x.astype(int).tolist()])\n",
    "            n += 1\n",
    "print n"
   ]
  },
  {
   "cell_type": "code",
   "execution_count": null,
   "metadata": {
    "collapsed": true
   },
   "outputs": [],
   "source": []
  }
 ],
 "metadata": {
  "kernelspec": {
   "display_name": "Python 2",
   "language": "python",
   "name": "python2"
  },
  "language_info": {
   "codemirror_mode": {
    "name": "ipython",
    "version": 2
   },
   "file_extension": ".py",
   "mimetype": "text/x-python",
   "name": "python",
   "nbconvert_exporter": "python",
   "pygments_lexer": "ipython2",
   "version": "2.7.9"
  }
 },
 "nbformat": 4,
 "nbformat_minor": 0
}
