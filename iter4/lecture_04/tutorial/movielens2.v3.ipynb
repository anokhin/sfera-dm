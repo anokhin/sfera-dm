{
 "metadata": {
  "kernelspec": {
   "display_name": "Python 2",
   "language": "python",
   "name": "python2"
  },
  "language_info": {
   "codemirror_mode": {
    "name": "ipython",
    "version": 2
   },
   "file_extension": ".py",
   "mimetype": "text/x-python",
   "name": "python",
   "nbconvert_exporter": "python",
   "pygments_lexer": "ipython2",
   "version": "2.7.9"
  },
  "name": ""
 },
 "nbformat": 3,
 "nbformat_minor": 0,
 "worksheets": [
  {
   "cells": [
    {
     "cell_type": "heading",
     "level": 2,
     "metadata": {},
     "source": [
      "\u041a\u043b\u0430\u0441\u0442\u0435\u0440\u0438\u0437\u0430\u0446\u0438\u044f \u0444\u0438\u043b\u044c\u043c\u043e\u0432"
     ]
    },
    {
     "cell_type": "code",
     "collapsed": false,
     "input": [
      "import pandas as pd\n",
      "import numpy as np\n",
      "\n",
      "import time\n",
      "\n",
      "from matplotlib import cm\n",
      "\n",
      "import plotly.plotly as py\n",
      "from plotly.graph_objs import *\n",
      "import plotly.tools as tls\n",
      "\n",
      "import sklearn.manifold as sm\n",
      "import sklearn.decomposition as sd\n",
      "import sklearn.cluster as sc"
     ],
     "language": "python",
     "metadata": {},
     "outputs": [],
     "prompt_number": 137
    },
    {
     "cell_type": "markdown",
     "metadata": {},
     "source": [
      "\u0421\u0447\u0438\u0442\u044b\u0432\u0430\u0435\u043c \u0434\u0430\u043d\u043d\u044b\u0435. \u0418\u0437\u043d\u0430\u0447\u0430\u043b\u044c\u043d\u043e \u0434\u0430\u0442\u0430 \u0441\u0435\u0442 \u0432\u0437\u044f\u0442 \u043e\u0442\u0441\u044e\u0434\u0430 http://grouplens.org/datasets/movielens/ (1\u041c), \u043d\u043e \u044f \u043d\u0435\u043c\u043d\u043e\u0433\u043e \u043f\u0440\u0435\u043e\u0431\u0440\u0430\u0437\u043e\u0432\u0430\u043b \u0434\u0430\u043d\u043d\u044b\u0435, \u0442\u0430\u043a, \u0447\u0442\u043e\u0431\u044b \u043a\u0430\u0436\u0434\u0430\u044f \u0441\u0442\u0440\u043e\u043a\u0430 \u0441\u043e\u043e\u0442\u0432\u0435\u0442\u0441\u0442\u0432\u043e\u0432\u0430\u043b\u0430 \u043e\u0434\u043d\u043e\u043c\u0443 \u0444\u0438\u043b\u044c\u043c\u0443. "
     ]
    },
    {
     "cell_type": "code",
     "collapsed": false,
     "input": [
      "user_cols = [\"U%d\" % i for i in xrange(6040)]\n",
      "movies_df = pd.read_csv(\"ml/movies.data\", header=None, sep=\",\", names=[\"title\", \"genres\"] + user_cols)\n",
      "movies_df.head()"
     ],
     "language": "python",
     "metadata": {},
     "outputs": [
      {
       "html": [
        "<div style=\"max-height:1000px;max-width:1500px;overflow:auto;\">\n",
        "<table border=\"1\" class=\"dataframe\">\n",
        "  <thead>\n",
        "    <tr style=\"text-align: right;\">\n",
        "      <th></th>\n",
        "      <th>title</th>\n",
        "      <th>genres</th>\n",
        "      <th>U0</th>\n",
        "      <th>U1</th>\n",
        "      <th>U2</th>\n",
        "      <th>U3</th>\n",
        "      <th>U4</th>\n",
        "      <th>U5</th>\n",
        "      <th>U6</th>\n",
        "      <th>U7</th>\n",
        "      <th>...</th>\n",
        "      <th>U6030</th>\n",
        "      <th>U6031</th>\n",
        "      <th>U6032</th>\n",
        "      <th>U6033</th>\n",
        "      <th>U6034</th>\n",
        "      <th>U6035</th>\n",
        "      <th>U6036</th>\n",
        "      <th>U6037</th>\n",
        "      <th>U6038</th>\n",
        "      <th>U6039</th>\n",
        "    </tr>\n",
        "  </thead>\n",
        "  <tbody>\n",
        "    <tr>\n",
        "      <th>0</th>\n",
        "      <td>Toy Story (1995)</td>\n",
        "      <td>Animation|Children's|Comedy</td>\n",
        "      <td>5</td>\n",
        "      <td>0</td>\n",
        "      <td>0</td>\n",
        "      <td>0</td>\n",
        "      <td>0</td>\n",
        "      <td>4</td>\n",
        "      <td>0</td>\n",
        "      <td>4</td>\n",
        "      <td>...</td>\n",
        "      <td>0</td>\n",
        "      <td>4</td>\n",
        "      <td>0</td>\n",
        "      <td>0</td>\n",
        "      <td>4</td>\n",
        "      <td>0</td>\n",
        "      <td>0</td>\n",
        "      <td>0</td>\n",
        "      <td>0</td>\n",
        "      <td>3</td>\n",
        "    </tr>\n",
        "    <tr>\n",
        "      <th>1</th>\n",
        "      <td>Jumanji (1995)</td>\n",
        "      <td>Adventure|Children's|Fantasy</td>\n",
        "      <td>0</td>\n",
        "      <td>0</td>\n",
        "      <td>0</td>\n",
        "      <td>0</td>\n",
        "      <td>0</td>\n",
        "      <td>0</td>\n",
        "      <td>0</td>\n",
        "      <td>0</td>\n",
        "      <td>...</td>\n",
        "      <td>0</td>\n",
        "      <td>0</td>\n",
        "      <td>0</td>\n",
        "      <td>0</td>\n",
        "      <td>0</td>\n",
        "      <td>0</td>\n",
        "      <td>0</td>\n",
        "      <td>0</td>\n",
        "      <td>0</td>\n",
        "      <td>0</td>\n",
        "    </tr>\n",
        "    <tr>\n",
        "      <th>2</th>\n",
        "      <td>Grumpier Old Men (1995)</td>\n",
        "      <td>Comedy|Romance</td>\n",
        "      <td>0</td>\n",
        "      <td>0</td>\n",
        "      <td>0</td>\n",
        "      <td>0</td>\n",
        "      <td>0</td>\n",
        "      <td>0</td>\n",
        "      <td>0</td>\n",
        "      <td>0</td>\n",
        "      <td>...</td>\n",
        "      <td>0</td>\n",
        "      <td>0</td>\n",
        "      <td>0</td>\n",
        "      <td>0</td>\n",
        "      <td>1</td>\n",
        "      <td>0</td>\n",
        "      <td>0</td>\n",
        "      <td>0</td>\n",
        "      <td>0</td>\n",
        "      <td>0</td>\n",
        "    </tr>\n",
        "    <tr>\n",
        "      <th>3</th>\n",
        "      <td>Waiting to Exhale (1995)</td>\n",
        "      <td>Comedy|Drama</td>\n",
        "      <td>0</td>\n",
        "      <td>0</td>\n",
        "      <td>0</td>\n",
        "      <td>0</td>\n",
        "      <td>0</td>\n",
        "      <td>0</td>\n",
        "      <td>0</td>\n",
        "      <td>3</td>\n",
        "      <td>...</td>\n",
        "      <td>0</td>\n",
        "      <td>0</td>\n",
        "      <td>0</td>\n",
        "      <td>0</td>\n",
        "      <td>2</td>\n",
        "      <td>2</td>\n",
        "      <td>0</td>\n",
        "      <td>0</td>\n",
        "      <td>0</td>\n",
        "      <td>0</td>\n",
        "    </tr>\n",
        "    <tr>\n",
        "      <th>4</th>\n",
        "      <td>Father of the Bride Part II (1995)</td>\n",
        "      <td>Comedy</td>\n",
        "      <td>0</td>\n",
        "      <td>0</td>\n",
        "      <td>0</td>\n",
        "      <td>0</td>\n",
        "      <td>0</td>\n",
        "      <td>0</td>\n",
        "      <td>0</td>\n",
        "      <td>0</td>\n",
        "      <td>...</td>\n",
        "      <td>0</td>\n",
        "      <td>0</td>\n",
        "      <td>0</td>\n",
        "      <td>0</td>\n",
        "      <td>1</td>\n",
        "      <td>0</td>\n",
        "      <td>0</td>\n",
        "      <td>0</td>\n",
        "      <td>0</td>\n",
        "      <td>0</td>\n",
        "    </tr>\n",
        "  </tbody>\n",
        "</table>\n",
        "<p>5 rows \u00d7 6042 columns</p>\n",
        "</div>"
       ],
       "metadata": {},
       "output_type": "pyout",
       "prompt_number": 138,
       "text": [
        "                                title                        genres  U0  U1  \\\n",
        "0                    Toy Story (1995)   Animation|Children's|Comedy   5   0   \n",
        "1                      Jumanji (1995)  Adventure|Children's|Fantasy   0   0   \n",
        "2             Grumpier Old Men (1995)                Comedy|Romance   0   0   \n",
        "3            Waiting to Exhale (1995)                  Comedy|Drama   0   0   \n",
        "4  Father of the Bride Part II (1995)                        Comedy   0   0   \n",
        "\n",
        "   U2  U3  U4  U5  U6  U7  ...    U6030  U6031  U6032  U6033  U6034  U6035  \\\n",
        "0   0   0   0   4   0   4  ...        0      4      0      0      4      0   \n",
        "1   0   0   0   0   0   0  ...        0      0      0      0      0      0   \n",
        "2   0   0   0   0   0   0  ...        0      0      0      0      1      0   \n",
        "3   0   0   0   0   0   3  ...        0      0      0      0      2      2   \n",
        "4   0   0   0   0   0   0  ...        0      0      0      0      1      0   \n",
        "\n",
        "   U6036  U6037  U6038  U6039  \n",
        "0      0      0      0      3  \n",
        "1      0      0      0      0  \n",
        "2      0      0      0      0  \n",
        "3      0      0      0      0  \n",
        "4      0      0      0      0  \n",
        "\n",
        "[5 rows x 6042 columns]"
       ]
      }
     ],
     "prompt_number": 138
    },
    {
     "cell_type": "markdown",
     "metadata": {},
     "source": [
      "### \u041a\u043b\u0430\u0441\u0442\u0435\u0440\u0438\u0437\u0430\u0446\u0438\u044f \u0434\u0430\u043d\u043d\u044b\u0445\n",
      "\u0414\u043b\u044f \u043d\u0430\u0447\u0430\u043b\u0430 \u043a\u043b\u0430\u0441\u0442\u0435\u0440\u0438\u0437\u0443\u0435\u043c \u0444\u0438\u043b\u044c\u043c\u044b \u0441 \u043f\u043e\u043c\u043e\u0449\u044c\u044e mini-batch k-means. \u041f\u0440\u0438\u043c\u0435\u043d\u0435\u043d\u0438\u0435 `partial_fit` \u0441\u0434\u0435\u043b\u0430\u043d\u043e \u043d\u0430\u043c\u0435\u0440\u0435\u043d\u043d\u043e, \u0447\u0442\u043e\u0431\u044b \u043f\u043e\u0434\u0447\u0435\u0440\u043a\u043d\u0443\u0442\u044c \u0432\u043e\u0437\u043c\u043e\u0436\u043d\u043e\u0441\u0442\u044c \u043f\u0440\u0438\u043c\u0435\u043d\u0435\u043d\u0438\u044f \u044d\u0442\u043e\u0433\u043e \u0430\u043b\u0433\u043e\u0440\u0438\u0442\u043c\u0430 \u043e\u043d\u043b\u0430\u0439\u043d (\u0445\u043e\u0442\u044f \u043a\u043b\u0430\u0441\u0441 \u0438\u0437 \u043a\u043e\u0440\u043e\u0431\u043a\u0438 \u043f\u043e\u0434\u0434\u0435\u0440\u0436\u0438\u0432\u0430\u0435\u0442 \u043c\u0438\u043d\u0438-\u0431\u0430\u0442\u0447\u0438). \u0422\u0430\u043a\u0436\u0435 \u043f\u043e\u043c\u0435\u0440\u044f\u0435\u043c \u0432\u0440\u0435\u043c\u044f \u0440\u0430\u0431\u043e\u0442\u044b \u043a\u043b\u0430\u0441\u0442\u0435\u0440\u0438\u0437\u0430\u0442\u043e\u0440\u0430."
     ]
    },
    {
     "cell_type": "code",
     "collapsed": false,
     "input": [
      "X = movies_df[user_cols].values.astype(float)\n",
      "\n",
      "def cluster_k_means(x, k, batch_size=100):    \n",
      "    km = sc.MiniBatchKMeans(n_clusters=k)\n",
      "    for j in xrange(X.shape[0]/batch_size):\n",
      "        print \"Iteration %d\" % j\n",
      "        x_b = x[j * batch_size: max((j+1) * batch_size, x.shape[0])]\n",
      "        km.partial_fit(x_b)\n",
      "    return km.predict(x)    \n",
      "\n",
      "start = time.time()\n",
      "Y1 = cluster_k_means(X, 18)\n",
      "print \"Clustering took %s sec.\" % (time.time() - start)"
     ],
     "language": "python",
     "metadata": {},
     "outputs": [
      {
       "output_type": "stream",
       "stream": "stdout",
       "text": [
        "Iteration 0\n",
        "Iteration 1\n",
        "Iteration 2\n",
        "Iteration 3\n",
        "Iteration 4\n",
        "Iteration 5\n",
        "Iteration 6\n",
        "Iteration 7\n",
        "Iteration 8\n",
        "Iteration 9\n",
        "Iteration 10\n",
        "Iteration 11\n",
        "Iteration 12\n",
        "Iteration 13\n",
        "Iteration 14\n",
        "Iteration 15\n",
        "Iteration 16\n",
        "Iteration 17\n",
        "Iteration 18\n",
        "Iteration 19\n",
        "Iteration 20\n",
        "Iteration 21\n",
        "Iteration 22\n",
        "Iteration 23\n",
        "Iteration 24\n",
        "Iteration 25\n",
        "Iteration 26\n",
        "Iteration 27\n",
        "Iteration 28\n",
        "Clustering took 10.5890388489 sec.\n"
       ]
      }
     ],
     "prompt_number": 139
    },
    {
     "cell_type": "markdown",
     "metadata": {},
     "source": [
      "\u041f\u0440\u0438\u043c\u0435\u043d\u0438\u0442\u0435 \u0430\u043b\u0433\u043e\u0440\u0438\u0442\u043c [BIRCH](http://scikit-learn.org/stable/modules/generated/sklearn.cluster.Birch.html) \u043a \u0442\u0435\u043c \u0436\u0435 \u0434\u0430\u043d\u043d\u044b\u043c. \u0411\u044b\u0441\u0442\u0440\u0435\u0435 \u043b\u0438 \u043e\u043d \u0440\u0430\u0431\u043e\u0442\u0435\u0442?"
     ]
    },
    {
     "cell_type": "code",
     "collapsed": true,
     "input": [
      "# TODO: Apply BIRCH algorighm here. Y2 - \u0440\u0435\u0437\u0443\u043b\u044c\u0442\u0430\u0442 \u043a\u043b\u0430\u0441\u0442\u0435\u0440\u0438\u0437\u0430\u0446\u0438\u0438\n",
      "Y2 = np.zeros(X.shape[0], dtype=int)"
     ],
     "language": "python",
     "metadata": {},
     "outputs": [],
     "prompt_number": 140
    },
    {
     "cell_type": "markdown",
     "metadata": {},
     "source": [
      "### \u0412\u0438\u0437\u0443\u0430\u043b\u0438\u0437\u0430\u0446\u0438\u044f \u0440\u0435\u0437\u0443\u043b\u044c\u0442\u0430\u0442\u043e\u0432 \u043a\u043b\u0430\u0441\u0442\u0435\u0440\u0438\u0437\u0430\u0446\u0438\u0438\n",
      "\u0414\u043b\u044f \u0432\u0438\u0437\u0443\u0430\u043b\u0438\u0437\u0430\u0446\u0438\u0438 \u0440\u0435\u0437\u0443\u043b\u044c\u0442\u0430\u0442\u043e\u0432 \u043f\u0440\u0438\u043c\u0435\u043d\u0438\u043c \u0430\u043b\u0433\u043e\u0440\u0438\u0442\u043c t-SNE. \u041f\u0440\u0435\u0434\u0432\u0430\u0440\u0438\u0442\u0435\u043b\u044c\u043d\u043e \u0434\u0430\u043d\u043d\u044b\u0435 \u043d\u0443\u0436\u043d\u043e \u043f\u043e\u0434\u0433\u043e\u0442\u043e\u0432\u0438\u0442\u044c \u0441 \u043f\u043e\u043c\u043e\u0449\u044c\u044e PCA (2 \u0441\u0435\u043c\u0435\u0441\u0442\u0440). \u0412 \u0438\u0442\u043e\u0433\u0435 \u043c\u044b \u043f\u043e\u043b\u0443\u0447\u0438\u043c \u0434\u0432\u0443\u043c\u0435\u0440\u043d\u044b\u0435 \u0432\u0435\u043a\u0442\u043e\u0440\u044b."
     ]
    },
    {
     "cell_type": "code",
     "collapsed": false,
     "input": [
      "pca = sd.PCA(n_components=500)\n",
      "Z = pca.fit_transform(X)\n",
      "tsne = sm.TSNE(n_components=2, n_iter=10000, perplexity=5, early_exaggeration=10, learning_rate=250, verbose=1)\n",
      "W = tsne.fit_transform(Z)"
     ],
     "language": "python",
     "metadata": {},
     "outputs": [
      {
       "output_type": "stream",
       "stream": "stdout",
       "text": [
        "[t-SNE] Computing pairwise distances...\n",
        "[t-SNE] Computed conditional probabilities for sample 1000 / 2915\n",
        "[t-SNE] Computed conditional probabilities for sample 2000 / 2915\n",
        "[t-SNE] Computed conditional probabilities for sample 2915 / 2915\n",
        "[t-SNE] Mean sigma: 3.458680\n",
        "[t-SNE] Error after 100 iterations with early exaggeration: 78.605018\n",
        "[t-SNE] Error after 349 iterations: 3.458238\n"
       ]
      }
     ],
     "prompt_number": 141
    },
    {
     "cell_type": "markdown",
     "metadata": {},
     "source": [
      "\u0414\u0430\u043b\u0435\u0435 \u043d\u0430\u0440\u0438\u0441\u0443\u0435\u043c \u0440\u0435\u0437\u0443\u043b\u044c\u0442\u0430\u0442 \u043a\u043b\u0430\u0441\u0442\u0435\u0440\u0438\u0437\u0430\u0446\u0438\u0438 \u0441 \u043f\u043e\u043c\u043e\u0449\u044c\u044e \u0431\u0438\u0431\u043b\u0438\u043e\u0442\u0435\u043a\u0438 [plotly](https://plot.ly/). \u041f\u0440\u0435\u0436\u0434\u0435 \u0447\u0435\u043c \u043d\u0430\u0447\u0430\u0442\u044c \u0440\u0430\u0431\u043e\u0442\u0443 \u043d\u0435\u043e\u0431\u0445\u043e\u0434\u0438\u043c\u043e \u0443\u0441\u0442\u0430\u043d\u043e\u0432\u0438\u0442\u044c \u044d\u0442\u0443 \u0431\u0438\u0431\u043b\u0438\u043e\u0442\u0435\u043a\u0443 \u0438 \u0441\u0434\u0435\u043b\u0430\u0442\u044c \u0448\u0430\u0433\u0438 \u0438\u0437 \u044d\u0442\u043e\u0433\u043e [\u0442\u0443\u0442\u043e\u0440\u0438\u0430\u043b\u0430](https://plot.ly/python/getting-started/).\n",
      "\n",
      "\u041f\u0440\u0438 \u043d\u0430\u0432\u0435\u0434\u0435\u043d\u0438\u0438 \u043d\u0430 \u0442\u043e\u0447\u043a\u0443 \u043d\u0430 \u0433\u0440\u0430\u0444\u0438\u043a\u0435 \u0431\u0443\u0434\u0435\u0442 \u043f\u043e\u044f\u0432\u043b\u044f\u0442\u044c\u0441\u044f \u043d\u0430\u0437\u0432\u0430\u043d\u0438\u0435 \u0444\u0438\u043b\u044c\u043c\u0430 \u0438 \u0441\u043f\u0438\u0441\u043e\u043a \u0436\u0430\u043d\u0440\u043e\u0432. \u0427\u0442\u043e\u0431\u044b \u043d\u0430\u0440\u0438\u0441\u043e\u0432\u0430\u0442\u044c \u044d\u0442\u043e, \u043d\u0430\u043c \u043f\u043e\u043d\u0430\u0434\u043e\u0431\u0438\u0442\u0441\u044f \u0441\u043f\u0438\u0441\u043e\u043a \u0438\u0437 \u0441\u0442\u0440\u043e\u043a, \u0441\u043e\u0434\u0435\u0440\u0436\u0430\u0449\u0438\u0445 \u043d\u0435\u043e\u0431\u0445\u043e\u0434\u0438\u043c\u0443\u044e \u0438\u043d\u0444\u043e\u0440\u043c\u0430\u0446\u0438\u044e, \u0432 \u0442\u043e\u043c \u0436\u0435 \u0441\u0430\u043c\u043e\u043c \u043f\u043e\u0440\u044f\u0434\u043a\u0435, \u0432 \u043a\u0430\u043a\u043e\u043c \u0438\u0434\u0443\u0442 \u0444\u0438\u043b\u044c\u043c\u044b \u0432 \u043d\u0430\u0448\u0438\u0445 \u0434\u0430\u043d\u043d\u044b\u0445."
     ]
    },
    {
     "cell_type": "code",
     "collapsed": true,
     "input": [
      "names = [\n",
      "    movies_df[\"title\"][i].decode('utf-8', errors='ignore') \n",
      "    + \"<br>\" \n",
      "    + movies_df[\"genres\"][i] for i in xrange(movies_df.shape[0])\n",
      "]"
     ],
     "language": "python",
     "metadata": {},
     "outputs": [],
     "prompt_number": 142
    },
    {
     "cell_type": "markdown",
     "metadata": {},
     "source": [
      "\u0410\u043d\u0430\u043b\u043e\u0433\u0438\u0447\u043d\u043e \u043a\u0430\u0436\u0434\u043e\u0439 \u0442\u043e\u0447\u043a\u0435 \u0431\u0443\u0434\u0435\u0442 \u0441\u043e\u043e\u0442\u0432\u0435\u0442\u0441\u0442\u0432\u043e\u0432\u0430\u0442\u044c \u0446\u0432\u0435\u0442, \u043e\u043f\u0440\u0435\u0434\u0435\u043b\u044f\u0435\u043c\u044b\u0439 \u043f\u043e \u043d\u043e\u043c\u0435\u0440\u0443 \u043a\u043b\u0430\u0441\u0442\u0435\u0440\u0430. \u0412 \u0442\u0435\u043a\u0443\u0449\u0435\u0439 \u0440\u0435\u0430\u043b\u0438\u0437\u0430\u0446\u0438\u0438 \u044d\u0442\u043e\u0442 \u0446\u0432\u0435\u0442 \u043e\u0434\u0438\u043d \u0434\u043b\u044f \u0432\u0441\u0435\u0445 \u0444\u0438\u043b\u044c\u043c\u043e\u0432. \u0412\u0430\u043c \u043f\u0440\u0435\u0434\u043b\u0430\u0433\u0430\u0435\u0442\u0441\u044f \u0440\u0435\u0430\u043b\u0438\u0437\u043e\u0432\u0430\u0442\u044c \u0440\u0430\u0441\u043f\u0440\u0435\u0434\u0435\u043b\u0435\u043d\u0438\u0435 \u0446\u0432\u0435\u0442\u043e\u0432, \u0438\u0441\u043f\u043e\u043b\u044c\u0437\u043e\u0432\u0430\u0432 \u0434\u043b\u044f \u044d\u0442\u043e\u0433\u043e \u0440\u0435\u0437\u0443\u043b\u044c\u0442\u0430\u0442\u044b \u043a\u043b\u0430\u0441\u0442\u0435\u0440\u0438\u0437\u0430\u0446\u0438\u0438 `Y1` \u0438\u043b\u0438 `Y2`."
     ]
    },
    {
     "cell_type": "code",
     "collapsed": false,
     "input": [
      "def get_color(i, N):\n",
      "    r, g, b, a = cm.Set1(256 / (N - 1) * i)\n",
      "    return \"rgb(%d, %d, %d)\" % (int(256*r), int(256*g), int(256*b))\n",
      "\n",
      "colors = [get_color(1, 2) for n in names]"
     ],
     "language": "python",
     "metadata": {},
     "outputs": [],
     "prompt_number": 143
    },
    {
     "cell_type": "markdown",
     "metadata": {},
     "source": [
      "\u041d\u0430\u043a\u043e\u043d\u0435\u0446 \u0440\u0430\u0437\u043c\u0435\u0440 \u0442\u043e\u0447\u043a\u0438 \u0431\u0443\u0434\u0435\u0442 \u0431\u043e\u043b\u044c\u0448\u0435 \u0434\u043b\u044f \u043f\u043e\u043f\u0443\u043b\u044f\u0440\u043d\u044b\u0445 \u0444\u0438\u043b\u044c\u043c\u043e\u0432. \u0411\u043b\u043e\u043a \u043a\u043e\u0434\u0430 \u043d\u0438\u0436\u0435 \u0440\u0435\u0430\u043b\u0438\u0437\u0443\u0435\u0442 \u044d\u0442\u043e."
     ]
    },
    {
     "cell_type": "code",
     "collapsed": false,
     "input": [
      "sizes = (2 * np.log((X > 0).sum(axis=0))).tolist()"
     ],
     "language": "python",
     "metadata": {},
     "outputs": [],
     "prompt_number": 144
    },
    {
     "cell_type": "markdown",
     "metadata": {},
     "source": [
      "\u0421\u0442\u0440\u043e\u0438\u043c \u043a\u0430\u0440\u0442\u0438\u043d\u043a\u0443. \n",
      "1) \u041f\u043e\u044f\u0432\u043b\u044f\u044e\u0442\u0441\u044f \u043b\u0438 \u0431\u043b\u0438\u0437\u043a\u0438\u0435 \u043f\u043e \u0436\u0430\u043d\u0440\u0443 \u0444\u0438\u043b\u044c\u043c\u044b \u043f\u043e \u0441\u043e\u0441\u0435\u0434\u0441\u0442\u0432\u0443 \u0434\u0440\u0443\u0433 \u0441 \u0434\u0440\u0443\u0433\u043e\u043c?\n",
      "2) \u041f\u043e\u044f\u0432\u043b\u044f\u044e\u0442\u0441\u044f \u043b\u0438 \u0442\u043e\u0447\u043a\u0438 \u043e\u0434\u043d\u043e\u0433\u043e \u0446\u0432\u0435\u0442\u0430 \u043f\u043e \u0441\u043e\u0441\u0435\u0434\u0441\u0442\u0432\u0443 \u0434\u0440\u0443\u0433 \u0441 \u0434\u0440\u0443\u0433\u043e\u043c?\n",
      "3) \u041a\u0430\u043a \u043e\u0442\u043b\u0438\u0447\u0430\u044e\u0442\u0441\u044f \u043a\u043b\u0430\u0441\u0442\u0435\u0440\u0438\u0437\u0430\u0446\u0438\u0438 \u0441 \u043f\u043e\u043c\u043e\u0449\u044c\u044e k-means \u0438 birch?\n",
      "\u0417\u0430\u043c\u0435\u0447\u0430\u043d\u0438\u0435: ploly \u043f\u043e\u0437\u0432\u043e\u043b\u044f\u0435\u0442 \u0443\u0432\u0435\u043b\u0438\u0447\u0438\u0432\u0430\u0442\u044c \u043e\u0431\u043b\u0430\u0441\u0442\u0438 \u043d\u0430 \u0433\u0440\u0430\u0444\u0438\u043a\u0435."
     ]
    },
    {
     "cell_type": "code",
     "collapsed": false,
     "input": [
      "trace0 = Scatter(\n",
      "    x=W[:, 0],\n",
      "    y=W[:, 1],\n",
      "    text=names,\n",
      "    mode='markers',\n",
      "    marker=Marker(\n",
      "        color=colors,\n",
      "        size=sizes\n",
      "    )\n",
      ")\n",
      "data = Data([trace0])\n",
      "layout = Layout(\n",
      "    showlegend=False,\n",
      "    height=1200,\n",
      "    width=600,\n",
      ")\n",
      "fig = Figure(data=data, layout=layout)\n",
      "plot_url = py.plot(fig, filename='bubblechart-text')\n",
      "\n",
      "tls.embed(\"https://plot.ly/~anokhinn/173\", height=1000)"
     ],
     "language": "python",
     "metadata": {},
     "outputs": [
      {
       "html": [
        "<iframe id=\"igraph\" scrolling=\"no\" style=\"border:none;\"seamless=\"seamless\" src=\"https://plot.ly/~anokhinn/173.embed\" height=\"1000\" width=\"100%\"></iframe>"
       ],
       "metadata": {},
       "output_type": "pyout",
       "prompt_number": 145,
       "text": [
        "<plotly.tools.PlotlyDisplay object>"
       ]
      }
     ],
     "prompt_number": 145
    },
    {
     "cell_type": "code",
     "collapsed": true,
     "input": [],
     "language": "python",
     "metadata": {},
     "outputs": [],
     "prompt_number": null
    }
   ],
   "metadata": {}
  }
 ]
}