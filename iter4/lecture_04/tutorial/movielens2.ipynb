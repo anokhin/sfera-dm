{
 "cells": [
  {
   "cell_type": "markdown",
   "metadata": {},
   "source": [
    "## Кластеризация фильмов"
   ]
  },
  {
   "cell_type": "code",
   "execution_count": 137,
   "metadata": {
    "collapsed": false
   },
   "outputs": [],
   "source": [
    "import pandas as pd\n",
    "import numpy as np\n",
    "\n",
    "import time\n",
    "\n",
    "from matplotlib import cm\n",
    "\n",
    "import plotly.plotly as py\n",
    "from plotly.graph_objs import *\n",
    "import plotly.tools as tls\n",
    "\n",
    "import sklearn.manifold as sm\n",
    "import sklearn.decomposition as sd\n",
    "import sklearn.cluster as sc"
   ]
  },
  {
   "cell_type": "markdown",
   "metadata": {},
   "source": [
    "Считываем данные. Изначально дата сет взят отсюда http://grouplens.org/datasets/movielens/ (1М), но я немного преобразовал данные, так, чтобы каждая строка соответствовала одному фильму. "
   ]
  },
  {
   "cell_type": "code",
   "execution_count": 138,
   "metadata": {
    "collapsed": false
   },
   "outputs": [
    {
     "data": {
      "text/html": [
       "<div style=\"max-height:1000px;max-width:1500px;overflow:auto;\">\n",
       "<table border=\"1\" class=\"dataframe\">\n",
       "  <thead>\n",
       "    <tr style=\"text-align: right;\">\n",
       "      <th></th>\n",
       "      <th>title</th>\n",
       "      <th>genres</th>\n",
       "      <th>U0</th>\n",
       "      <th>U1</th>\n",
       "      <th>U2</th>\n",
       "      <th>U3</th>\n",
       "      <th>U4</th>\n",
       "      <th>U5</th>\n",
       "      <th>U6</th>\n",
       "      <th>U7</th>\n",
       "      <th>...</th>\n",
       "      <th>U6030</th>\n",
       "      <th>U6031</th>\n",
       "      <th>U6032</th>\n",
       "      <th>U6033</th>\n",
       "      <th>U6034</th>\n",
       "      <th>U6035</th>\n",
       "      <th>U6036</th>\n",
       "      <th>U6037</th>\n",
       "      <th>U6038</th>\n",
       "      <th>U6039</th>\n",
       "    </tr>\n",
       "  </thead>\n",
       "  <tbody>\n",
       "    <tr>\n",
       "      <th>0</th>\n",
       "      <td>Toy Story (1995)</td>\n",
       "      <td>Animation|Children's|Comedy</td>\n",
       "      <td>5</td>\n",
       "      <td>0</td>\n",
       "      <td>0</td>\n",
       "      <td>0</td>\n",
       "      <td>0</td>\n",
       "      <td>4</td>\n",
       "      <td>0</td>\n",
       "      <td>4</td>\n",
       "      <td>...</td>\n",
       "      <td>0</td>\n",
       "      <td>4</td>\n",
       "      <td>0</td>\n",
       "      <td>0</td>\n",
       "      <td>4</td>\n",
       "      <td>0</td>\n",
       "      <td>0</td>\n",
       "      <td>0</td>\n",
       "      <td>0</td>\n",
       "      <td>3</td>\n",
       "    </tr>\n",
       "    <tr>\n",
       "      <th>1</th>\n",
       "      <td>Jumanji (1995)</td>\n",
       "      <td>Adventure|Children's|Fantasy</td>\n",
       "      <td>0</td>\n",
       "      <td>0</td>\n",
       "      <td>0</td>\n",
       "      <td>0</td>\n",
       "      <td>0</td>\n",
       "      <td>0</td>\n",
       "      <td>0</td>\n",
       "      <td>0</td>\n",
       "      <td>...</td>\n",
       "      <td>0</td>\n",
       "      <td>0</td>\n",
       "      <td>0</td>\n",
       "      <td>0</td>\n",
       "      <td>0</td>\n",
       "      <td>0</td>\n",
       "      <td>0</td>\n",
       "      <td>0</td>\n",
       "      <td>0</td>\n",
       "      <td>0</td>\n",
       "    </tr>\n",
       "    <tr>\n",
       "      <th>2</th>\n",
       "      <td>Grumpier Old Men (1995)</td>\n",
       "      <td>Comedy|Romance</td>\n",
       "      <td>0</td>\n",
       "      <td>0</td>\n",
       "      <td>0</td>\n",
       "      <td>0</td>\n",
       "      <td>0</td>\n",
       "      <td>0</td>\n",
       "      <td>0</td>\n",
       "      <td>0</td>\n",
       "      <td>...</td>\n",
       "      <td>0</td>\n",
       "      <td>0</td>\n",
       "      <td>0</td>\n",
       "      <td>0</td>\n",
       "      <td>1</td>\n",
       "      <td>0</td>\n",
       "      <td>0</td>\n",
       "      <td>0</td>\n",
       "      <td>0</td>\n",
       "      <td>0</td>\n",
       "    </tr>\n",
       "    <tr>\n",
       "      <th>3</th>\n",
       "      <td>Waiting to Exhale (1995)</td>\n",
       "      <td>Comedy|Drama</td>\n",
       "      <td>0</td>\n",
       "      <td>0</td>\n",
       "      <td>0</td>\n",
       "      <td>0</td>\n",
       "      <td>0</td>\n",
       "      <td>0</td>\n",
       "      <td>0</td>\n",
       "      <td>3</td>\n",
       "      <td>...</td>\n",
       "      <td>0</td>\n",
       "      <td>0</td>\n",
       "      <td>0</td>\n",
       "      <td>0</td>\n",
       "      <td>2</td>\n",
       "      <td>2</td>\n",
       "      <td>0</td>\n",
       "      <td>0</td>\n",
       "      <td>0</td>\n",
       "      <td>0</td>\n",
       "    </tr>\n",
       "    <tr>\n",
       "      <th>4</th>\n",
       "      <td>Father of the Bride Part II (1995)</td>\n",
       "      <td>Comedy</td>\n",
       "      <td>0</td>\n",
       "      <td>0</td>\n",
       "      <td>0</td>\n",
       "      <td>0</td>\n",
       "      <td>0</td>\n",
       "      <td>0</td>\n",
       "      <td>0</td>\n",
       "      <td>0</td>\n",
       "      <td>...</td>\n",
       "      <td>0</td>\n",
       "      <td>0</td>\n",
       "      <td>0</td>\n",
       "      <td>0</td>\n",
       "      <td>1</td>\n",
       "      <td>0</td>\n",
       "      <td>0</td>\n",
       "      <td>0</td>\n",
       "      <td>0</td>\n",
       "      <td>0</td>\n",
       "    </tr>\n",
       "  </tbody>\n",
       "</table>\n",
       "<p>5 rows × 6042 columns</p>\n",
       "</div>"
      ],
      "text/plain": [
       "                                title                        genres  U0  U1  \\\n",
       "0                    Toy Story (1995)   Animation|Children's|Comedy   5   0   \n",
       "1                      Jumanji (1995)  Adventure|Children's|Fantasy   0   0   \n",
       "2             Grumpier Old Men (1995)                Comedy|Romance   0   0   \n",
       "3            Waiting to Exhale (1995)                  Comedy|Drama   0   0   \n",
       "4  Father of the Bride Part II (1995)                        Comedy   0   0   \n",
       "\n",
       "   U2  U3  U4  U5  U6  U7  ...    U6030  U6031  U6032  U6033  U6034  U6035  \\\n",
       "0   0   0   0   4   0   4  ...        0      4      0      0      4      0   \n",
       "1   0   0   0   0   0   0  ...        0      0      0      0      0      0   \n",
       "2   0   0   0   0   0   0  ...        0      0      0      0      1      0   \n",
       "3   0   0   0   0   0   3  ...        0      0      0      0      2      2   \n",
       "4   0   0   0   0   0   0  ...        0      0      0      0      1      0   \n",
       "\n",
       "   U6036  U6037  U6038  U6039  \n",
       "0      0      0      0      3  \n",
       "1      0      0      0      0  \n",
       "2      0      0      0      0  \n",
       "3      0      0      0      0  \n",
       "4      0      0      0      0  \n",
       "\n",
       "[5 rows x 6042 columns]"
      ]
     },
     "execution_count": 138,
     "metadata": {},
     "output_type": "execute_result"
    }
   ],
   "source": [
    "user_cols = [\"U%d\" % i for i in xrange(6040)]\n",
    "movies_df = pd.read_csv(\"ml/movies.data\", header=None, sep=\",\", names=[\"title\", \"genres\"] + user_cols)\n",
    "movies_df.head()"
   ]
  },
  {
   "cell_type": "markdown",
   "metadata": {},
   "source": [
    "### Кластеризация данных\n",
    "Для начала кластеризуем фильмы с помощью mini-batch k-means. Применение `partial_fit` сделано намеренно, чтобы подчеркнуть возможность применения этого алгоритма онлайн (хотя класс из коробки поддерживает мини-батчи). Также померяем время работы кластеризатора."
   ]
  },
  {
   "cell_type": "code",
   "execution_count": 139,
   "metadata": {
    "collapsed": false
   },
   "outputs": [
    {
     "name": "stdout",
     "output_type": "stream",
     "text": [
      "Iteration 0\n",
      "Iteration 1\n",
      "Iteration 2\n",
      "Iteration 3\n",
      "Iteration 4\n",
      "Iteration 5\n",
      "Iteration 6\n",
      "Iteration 7\n",
      "Iteration 8\n",
      "Iteration 9\n",
      "Iteration 10\n",
      "Iteration 11\n",
      "Iteration 12\n",
      "Iteration 13\n",
      "Iteration 14\n",
      "Iteration 15\n",
      "Iteration 16\n",
      "Iteration 17\n",
      "Iteration 18\n",
      "Iteration 19\n",
      "Iteration 20\n",
      "Iteration 21\n",
      "Iteration 22\n",
      "Iteration 23\n",
      "Iteration 24\n",
      "Iteration 25\n",
      "Iteration 26\n",
      "Iteration 27\n",
      "Iteration 28\n",
      "Clustering took 10.5890388489 sec.\n"
     ]
    }
   ],
   "source": [
    "X = movies_df[user_cols].values.astype(float)\n",
    "\n",
    "def cluster_k_means(x, k, batch_size=100):    \n",
    "    km = sc.MiniBatchKMeans(n_clusters=k)\n",
    "    for j in xrange(X.shape[0]/batch_size):\n",
    "        print \"Iteration %d\" % j\n",
    "        x_b = x[j * batch_size: max((j+1) * batch_size, x.shape[0])]\n",
    "        km.partial_fit(x_b)\n",
    "    return km.predict(x)    \n",
    "\n",
    "start = time.time()\n",
    "Y1 = cluster_k_means(X, 18)\n",
    "print \"Clustering took %s sec.\" % (time.time() - start)"
   ]
  },
  {
   "cell_type": "markdown",
   "metadata": {},
   "source": [
    "Примените алгоритм [BIRCH](http://scikit-learn.org/stable/modules/generated/sklearn.cluster.Birch.html) к тем же данным. Быстрее ли он работет?"
   ]
  },
  {
   "cell_type": "code",
   "execution_count": 140,
   "metadata": {
    "collapsed": true
   },
   "outputs": [],
   "source": [
    "# TODO: Apply BIRCH algorighm here. Y2 - результат кластеризации\n",
    "Y2 = np.zeros(X.shape[0], dtype=int)"
   ]
  },
  {
   "cell_type": "markdown",
   "metadata": {},
   "source": [
    "### Визуализация результатов кластеризации\n",
    "Для визуализации результатов применим алгоритм t-SNE. Предварительно данные нужно подготовить с помощью PCA (2 семестр). В итоге мы получим двумерные векторы."
   ]
  },
  {
   "cell_type": "code",
   "execution_count": 141,
   "metadata": {
    "collapsed": false
   },
   "outputs": [
    {
     "name": "stdout",
     "output_type": "stream",
     "text": [
      "[t-SNE] Computing pairwise distances...\n",
      "[t-SNE] Computed conditional probabilities for sample 1000 / 2915\n",
      "[t-SNE] Computed conditional probabilities for sample 2000 / 2915\n",
      "[t-SNE] Computed conditional probabilities for sample 2915 / 2915\n",
      "[t-SNE] Mean sigma: 3.458680\n",
      "[t-SNE] Error after 100 iterations with early exaggeration: 78.605018\n",
      "[t-SNE] Error after 349 iterations: 3.458238\n"
     ]
    }
   ],
   "source": [
    "pca = sd.PCA(n_components=500)\n",
    "Z = pca.fit_transform(X)\n",
    "tsne = sm.TSNE(n_components=2, n_iter=10000, perplexity=5, early_exaggeration=10, learning_rate=250, verbose=1)\n",
    "W = tsne.fit_transform(Z)"
   ]
  },
  {
   "cell_type": "markdown",
   "metadata": {},
   "source": [
    "Далее нарисуем результат кластеризации с помощью библиотеки [plotly](https://plot.ly/). Прежде чем начать работу необходимо установить эту библиотеку и сделать шаги из этого [туториала](https://plot.ly/python/getting-started/).\n",
    "\n",
    "При наведении на точку на графике будет появляться название фильма и список жанров. Чтобы нарисовать это, нам понадобится список из строк, содержащих необходимую информацию, в том же самом порядке, в каком идут фильмы в наших данных."
   ]
  },
  {
   "cell_type": "code",
   "execution_count": 142,
   "metadata": {
    "collapsed": true
   },
   "outputs": [],
   "source": [
    "names = [\n",
    "    movies_df[\"title\"][i].decode('utf-8', errors='ignore') \n",
    "    + \"<br>\" \n",
    "    + movies_df[\"genres\"][i] for i in xrange(movies_df.shape[0])\n",
    "]"
   ]
  },
  {
   "cell_type": "markdown",
   "metadata": {},
   "source": [
    "Аналогично каждой точке будет соответствовать цвет, определяемый по номеру кластера. В текущей реализации этот цвет один для всех фильмов. Вам предлагается реализовать распределение цветов, использовав для этого результаты кластеризации `Y1` или `Y2`."
   ]
  },
  {
   "cell_type": "code",
   "execution_count": 143,
   "metadata": {
    "collapsed": false
   },
   "outputs": [],
   "source": [
    "def get_color(i, N):\n",
    "    r, g, b, a = cm.Set1(256 / (N - 1) * i)\n",
    "    return \"rgb(%d, %d, %d)\" % (int(256*r), int(256*g), int(256*b))\n",
    "\n",
    "colors = [get_color(1, 2) for n in names]"
   ]
  },
  {
   "cell_type": "markdown",
   "metadata": {},
   "source": [
    "Наконец размер точки будет больше для популярных фильмов. Блок кода ниже реализует это."
   ]
  },
  {
   "cell_type": "code",
   "execution_count": 144,
   "metadata": {
    "collapsed": false
   },
   "outputs": [],
   "source": [
    "sizes = (2 * np.log((X > 0).sum(axis=0))).tolist()"
   ]
  },
  {
   "cell_type": "markdown",
   "metadata": {},
   "source": [
    "Строим картинку. \n",
    "1) Появляются ли близкие по жанру фильмы по соседству друг с другом?\n",
    "2) Появляются ли точки одного цвета по соседству друг с другом?\n",
    "3) Как отличаются кластеризации с помощью k-means и birch?\n",
    "Замечание: ploly позволяет увеличивать области на графике."
   ]
  },
  {
   "cell_type": "code",
   "execution_count": 145,
   "metadata": {
    "collapsed": false
   },
   "outputs": [
    {
     "data": {
      "text/html": [
       "<iframe id=\"igraph\" scrolling=\"no\" style=\"border:none;\"seamless=\"seamless\" src=\"https://plot.ly/~anokhinn/173.embed\" height=\"1000\" width=\"100%\"></iframe>"
      ],
      "text/plain": [
       "<plotly.tools.PlotlyDisplay object>"
      ]
     },
     "execution_count": 145,
     "metadata": {},
     "output_type": "execute_result"
    }
   ],
   "source": [
    "trace0 = Scatter(\n",
    "    x=W[:, 0],\n",
    "    y=W[:, 1],\n",
    "    text=names,\n",
    "    mode='markers',\n",
    "    marker=Marker(\n",
    "        color=colors,\n",
    "        size=sizes\n",
    "    )\n",
    ")\n",
    "data = Data([trace0])\n",
    "layout = Layout(\n",
    "    showlegend=False,\n",
    "    height=1200,\n",
    "    width=600,\n",
    ")\n",
    "fig = Figure(data=data, layout=layout)\n",
    "plot_url = py.plot(fig, filename='bubblechart-text')\n",
    "\n",
    "tls.embed(\"https://plot.ly/~anokhinn/173\", height=1000)"
   ]
  },
  {
   "cell_type": "code",
   "execution_count": null,
   "metadata": {
    "collapsed": true
   },
   "outputs": [],
   "source": []
  }
 ],
 "metadata": {
  "kernelspec": {
   "display_name": "Python 2",
   "language": "python",
   "name": "python2"
  },
  "language_info": {
   "codemirror_mode": {
    "name": "ipython",
    "version": 2
   },
   "file_extension": ".py",
   "mimetype": "text/x-python",
   "name": "python",
   "nbconvert_exporter": "python",
   "pygments_lexer": "ipython2",
   "version": "2.7.9"
  }
 },
 "nbformat": 4,
 "nbformat_minor": 0
}
