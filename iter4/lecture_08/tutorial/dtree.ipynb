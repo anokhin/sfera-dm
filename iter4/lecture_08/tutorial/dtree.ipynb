{
 "cells": [
  {
   "cell_type": "markdown",
   "metadata": {},
   "source": [
    "# Деревья решений. Классификация грибов."
   ]
  },
  {
   "cell_type": "code",
   "execution_count": 17,
   "metadata": {
    "collapsed": false
   },
   "outputs": [
    {
     "name": "stdout",
     "output_type": "stream",
     "text": [
      "Populating the interactive namespace from numpy and matplotlib\n"
     ]
    }
   ],
   "source": [
    "import pandas as pd\n",
    "import numpy as np\n",
    "import sklearn.tree as st\n",
    "import sklearn.externals.six as sx\n",
    "import sklearn.cross_validation  as cv\n",
    "import sklearn.metrics as sm\n",
    "import matplotlib.pyplot as pl\n",
    "\n",
    "import pydot\n",
    "\n",
    "%pylab inline"
   ]
  },
  {
   "cell_type": "markdown",
   "metadata": {},
   "source": [
    "[Лепиота](https://www.wikiwand.com/ru/%D0%9B%D0%B5%D0%BF%D0%B8%D0%BE%D1%82%D0%B0), или чешуйница (лат. Lepiota) — род грибов семейства Шампиньоновые (Agaricaceae). Некоторые виды съедобны, некоторые ядовиты. Цель этого задания - построить модель, позволяющую определить съедобность гриба по внешнему виду."
   ]
  },
  {
   "cell_type": "code",
   "execution_count": 18,
   "metadata": {
    "collapsed": false
   },
   "outputs": [
    {
     "data": {
      "text/html": [
       "<img src=\"https://upload.wikimedia.org/wikipedia/commons/thumb/2/28/Lepiota_magnispora_39264.jpg/1024px-Lepiota_magnispora_39264.jpg\" width=400 height=300/>"
      ],
      "text/plain": [
       "<IPython.core.display.HTML object>"
      ]
     },
     "execution_count": 18,
     "metadata": {},
     "output_type": "execute_result"
    }
   ],
   "source": [
    "from IPython.core.display import HTML\n",
    "HTML('<img src=\"https://upload.wikimedia.org/wikipedia/commons/thumb/2/28/Lepiota_magnispora_39264.jpg/1024px-Lepiota_magnispora_39264.jpg\" width=400 height=300/>') "
   ]
  },
  {
   "cell_type": "markdown",
   "metadata": {},
   "source": [
    "Загружаем данные [Agaricus Lepiota](https://archive.ics.uci.edu/ml/datasets/Mushroom) из UCI Machine Learning Repository."
   ]
  },
  {
   "cell_type": "code",
   "execution_count": 19,
   "metadata": {
    "collapsed": false
   },
   "outputs": [
    {
     "name": "stdout",
     "output_type": "stream",
     "text": [
      "Successfully loaded 8124x22 X data set for 8124 objects\n"
     ]
    }
   ],
   "source": [
    "column_names=[\n",
    "    'classification', \n",
    "    'cap_shape', \n",
    "    'cap_surface', \n",
    "    'cap_color', \n",
    "    'bruises', \n",
    "    'odor', \n",
    "    'gill_attachment', \n",
    "    'gill_spacing', \n",
    "    'gill_size', \n",
    "    'gill_color', \n",
    "    'stalk_shape', \n",
    "    'stalk_root', \n",
    "    'stalk_surface_above_ring', \n",
    "    'stalk_surface_below_ring', \n",
    "    'stalk_color_above_ring', \n",
    "    'stalk_color_below_ring', \n",
    "    'veil_type', \n",
    "    'veil_color', \n",
    "    'ring_number', \n",
    "    'ring_type', \n",
    "    'spore_print_color',           \n",
    "    'population', \n",
    "    'habitat'\n",
    "]\n",
    "\n",
    "mushrooms_df = pd.read_csv(\n",
    "    \"https://archive.ics.uci.edu/ml/machine-learning-databases/mushroom/agaricus-lepiota.data\",\n",
    "    header=None,\n",
    "    names=column_names,\n",
    "    converters=dict((name, lambda c: ord(c)) for name in column_names)\n",
    ")\n",
    "\n",
    "X = mushrooms_df.values[:, 1:]\n",
    "# 1 is edible, 0 is poisonous\n",
    "Y = (mushrooms_df.values[:, 0] == 101).astype(int)\n",
    "\n",
    "print \"Successfully loaded %dx%d X data set for %d objects\" % (X.shape[0], X.shape[1], Y.shape[0])"
   ]
  },
  {
   "cell_type": "markdown",
   "metadata": {},
   "source": [
    "Вспомогательный класс, позволяющий показывать PDF файлы в notebook."
   ]
  },
  {
   "cell_type": "code",
   "execution_count": 20,
   "metadata": {
    "collapsed": true
   },
   "outputs": [],
   "source": [
    "class PDF(object):\n",
    "  def __init__(self, pdf, size=(200,200)):\n",
    "    self.pdf = pdf\n",
    "    self.size = size\n",
    "\n",
    "  def _repr_html_(self):\n",
    "    return '<iframe src={0} width={1[0]} height={1[1]}></iframe>'.format(self.pdf, self.size)\n",
    "\n",
    "  def _repr_latex_(self):\n",
    "    return r'\\includegraphics[width=1.0\\textwidth]{{{0}}}'.format(self.pdf)"
   ]
  },
  {
   "cell_type": "markdown",
   "metadata": {},
   "source": [
    "### Построение дерева решений\n",
    "\n",
    "Разделяем данные на тренировочную и тестовую выборки. Для построения модели используем уже реализованный [алгоритм](http://scikit-learn.org/stable/modules/tree.html) из `sklearn`. Постройте 2 модели с разными impurity: gini и entropy.\n",
    "\n",
    "Предсказываем класс для тестовой части. Требуется посчитать precision и recall класса съедобных для обоих моделей. Какая impurity работает лучше?"
   ]
  },
  {
   "cell_type": "code",
   "execution_count": 21,
   "metadata": {
    "collapsed": false
   },
   "outputs": [
    {
     "name": "stdout",
     "output_type": "stream",
     "text": [
      "             precision    recall  f1-score   support\n",
      "\n",
      "          0       0.95      0.98      0.96      1977\n",
      "          1       0.98      0.95      0.96      2085\n",
      "\n",
      "avg / total       0.96      0.96      0.96      4062\n",
      "\n",
      "             precision    recall  f1-score   support\n",
      "\n",
      "          0       0.94      0.98      0.96      1977\n",
      "          1       0.98      0.94      0.96      2085\n",
      "\n",
      "avg / total       0.96      0.96      0.96      4062\n",
      "\n"
     ]
    }
   ],
   "source": [
    "X_train, X_test, Y_train, Y_test = cv.train_test_split(X, Y, test_size=0.5, random_state=42)\n",
    "\n",
    "clf = st.DecisionTreeClassifier(criterion=\"gini\", max_depth=3)\n",
    "clf.fit(X_train, Y_train)\n",
    "\n",
    "Y_pred = clf.predict(X_test)\n",
    "print sm.classification_report(Y_test, Y_pred)\n",
    "\n",
    "clf = st.DecisionTreeClassifier(criterion=\"entropy\", max_depth=3)\n",
    "clf.fit(X_train, Y_train)\n",
    "\n",
    "Y_pred = clf.predict(X_test)\n",
    "print sm.classification_report(Y_test, Y_pred)"
   ]
  },
  {
   "cell_type": "markdown",
   "metadata": {},
   "source": [
    "Нарисуем полученное дерево. Какие правила соответствуют ядовитым, а какие съедобным грибам? Какие признаки лучше всего разделяют выборку?"
   ]
  },
  {
   "cell_type": "code",
   "execution_count": 22,
   "metadata": {
    "collapsed": false
   },
   "outputs": [
    {
     "ename": "NameError",
     "evalue": "global name 'dot_parser' is not defined",
     "output_type": "error",
     "traceback": [
      "\u001b[0;31m---------------------------------------------------------------------------\u001b[0m",
      "\u001b[0;31mNameError\u001b[0m                                 Traceback (most recent call last)",
      "\u001b[0;32m<ipython-input-22-080b2cc85ee6>\u001b[0m in \u001b[0;36m<module>\u001b[0;34m()\u001b[0m\n\u001b[1;32m      1\u001b[0m \u001b[0mdot_data\u001b[0m \u001b[0;34m=\u001b[0m \u001b[0msx\u001b[0m\u001b[0;34m.\u001b[0m\u001b[0mStringIO\u001b[0m\u001b[0;34m(\u001b[0m\u001b[0;34m)\u001b[0m\u001b[0;34m\u001b[0m\u001b[0m\n\u001b[1;32m      2\u001b[0m \u001b[0mst\u001b[0m\u001b[0;34m.\u001b[0m\u001b[0mexport_graphviz\u001b[0m\u001b[0;34m(\u001b[0m\u001b[0mclf\u001b[0m\u001b[0;34m,\u001b[0m \u001b[0mout_file\u001b[0m\u001b[0;34m=\u001b[0m\u001b[0mdot_data\u001b[0m\u001b[0;34m)\u001b[0m\u001b[0;34m\u001b[0m\u001b[0m\n\u001b[0;32m----> 3\u001b[0;31m \u001b[0mgraph\u001b[0m \u001b[0;34m=\u001b[0m \u001b[0mpydot\u001b[0m\u001b[0;34m.\u001b[0m\u001b[0mgraph_from_dot_data\u001b[0m\u001b[0;34m(\u001b[0m\u001b[0mdot_data\u001b[0m\u001b[0;34m.\u001b[0m\u001b[0mgetvalue\u001b[0m\u001b[0;34m(\u001b[0m\u001b[0;34m)\u001b[0m\u001b[0;34m)\u001b[0m\u001b[0;34m\u001b[0m\u001b[0m\n\u001b[0m\u001b[1;32m      4\u001b[0m \u001b[0mgraph\u001b[0m\u001b[0;34m.\u001b[0m\u001b[0mwrite_pdf\u001b[0m\u001b[0;34m(\u001b[0m\u001b[0;34m\"tree.pdf\"\u001b[0m\u001b[0;34m)\u001b[0m\u001b[0;34m\u001b[0m\u001b[0m\n\u001b[1;32m      5\u001b[0m \u001b[0;34m\u001b[0m\u001b[0m\n",
      "\u001b[0;32m/usr/local/lib/python2.7/site-packages/pydot.pyc\u001b[0m in \u001b[0;36mgraph_from_dot_data\u001b[0;34m(data)\u001b[0m\n\u001b[1;32m    197\u001b[0m         \u001b[0;32mreturn\u001b[0m \u001b[0ms\u001b[0m\u001b[0;34m\u001b[0m\u001b[0m\n\u001b[1;32m    198\u001b[0m \u001b[0;34m\u001b[0m\u001b[0m\n\u001b[0;32m--> 199\u001b[0;31m     \u001b[0;32mif\u001b[0m \u001b[0mneeds_quotes\u001b[0m\u001b[0;34m(\u001b[0m\u001b[0ms\u001b[0m\u001b[0;34m)\u001b[0m\u001b[0;34m:\u001b[0m\u001b[0;34m\u001b[0m\u001b[0m\n\u001b[0m\u001b[1;32m    200\u001b[0m         replace = {'\"'  : r'\\\"',\n\u001b[1;32m    201\u001b[0m                    \u001b[0;34m\"\\n\"\u001b[0m \u001b[0;34m:\u001b[0m \u001b[0;34mr'\\n'\u001b[0m\u001b[0;34m,\u001b[0m\u001b[0;34m\u001b[0m\u001b[0m\n",
      "\u001b[0;31mNameError\u001b[0m: global name 'dot_parser' is not defined"
     ]
    }
   ],
   "source": [
    "dot_data = sx.StringIO() \n",
    "st.export_graphviz(clf, out_file=dot_data) \n",
    "graph = pydot.graph_from_dot_data(dot_data.getvalue()) \n",
    "graph.write_pdf(\"tree.pdf\")\n",
    "\n",
    "PDF(\"tree.pdf\", size=(960, 320))"
   ]
  },
  {
   "cell_type": "markdown",
   "metadata": {
    "collapsed": false
   },
   "source": [
    "### Глубина дерева и переобучение\n",
    "\n",
    "Для того чтобы исследовать, насколько качество модели зависит от глубины дерева, постройте графики зависимости ошибки классификации на тренировочной и тестовой подвыборках от глубины дерева. Какая глубина является оптимальной?"
   ]
  },
  {
   "cell_type": "code",
   "execution_count": 23,
   "metadata": {
    "collapsed": false
   },
   "outputs": [
    {
     "data": {
      "image/png": "[encoded data removed]",
      "text/plain": [
       "<matplotlib.figure.Figure at 0x10716e310>"
      ]
     },
     "metadata": {},
     "output_type": "display_data"
    }
   ],
   "source": [
    "ks = np.arange(1, 22)\n",
    "train_err = np.zeros(ks.shape[0])\n",
    "test_err = np.zeros(ks.shape[0])\n",
    "\n",
    "for i, k in enumerate(ks):\n",
    "    clf = st.DecisionTreeClassifier(max_depth=k).fit(X_train, Y_train)\n",
    "    train_err[i] = np.sum(clf.predict(X_train) != Y_train)\n",
    "    test_err[i] = np.sum(clf.predict(X_test) != Y_test)\n",
    "\n",
    "pl.figure(figsize=(10, 10))\n",
    "pl.plot(ks, train_err, 'b', label=\"train\")\n",
    "pl.plot(ks, test_err, 'r', label=\"test\")\n",
    "pl.xlabel(\"Tree depth\")\n",
    "pl.ylabel(\"Error\")\n",
    "pl.legend()\n",
    "pl.show()"
   ]
  },
  {
   "cell_type": "markdown",
   "metadata": {},
   "source": [
    "### Чувствительность дерева решений к шуму\n",
    "\n",
    "Исследуем, насколько небольшие изменения в данных влияют на конфигурацию полученного дерева решений. С маленькой вероятностью изменим значение каждого признака каждого объекта на значение этого же признака следующего объекта. Постройте дерево решений для новой \"зашумленной\" выборки. Отличается ли оно от дерева, построенного для исходной? Повторите эксперимент несколько раз."
   ]
  },
  {
   "cell_type": "code",
   "execution_count": 24,
   "metadata": {
    "collapsed": false
   },
   "outputs": [
    {
     "ename": "NameError",
     "evalue": "global name 'dot_parser' is not defined",
     "output_type": "error",
     "traceback": [
      "\u001b[0;31m---------------------------------------------------------------------------\u001b[0m",
      "\u001b[0;31mNameError\u001b[0m                                 Traceback (most recent call last)",
      "\u001b[0;32m<ipython-input-24-e6999dcb4f1a>\u001b[0m in \u001b[0;36m<module>\u001b[0;34m()\u001b[0m\n\u001b[1;32m     15\u001b[0m \u001b[0mdot_data\u001b[0m \u001b[0;34m=\u001b[0m \u001b[0msx\u001b[0m\u001b[0;34m.\u001b[0m\u001b[0mStringIO\u001b[0m\u001b[0;34m(\u001b[0m\u001b[0;34m)\u001b[0m\u001b[0;34m\u001b[0m\u001b[0m\n\u001b[1;32m     16\u001b[0m \u001b[0mst\u001b[0m\u001b[0;34m.\u001b[0m\u001b[0mexport_graphviz\u001b[0m\u001b[0;34m(\u001b[0m\u001b[0mclf\u001b[0m\u001b[0;34m,\u001b[0m \u001b[0mout_file\u001b[0m\u001b[0;34m=\u001b[0m\u001b[0mdot_data\u001b[0m\u001b[0;34m)\u001b[0m\u001b[0;34m\u001b[0m\u001b[0m\n\u001b[0;32m---> 17\u001b[0;31m \u001b[0mgraph\u001b[0m \u001b[0;34m=\u001b[0m \u001b[0mpydot\u001b[0m\u001b[0;34m.\u001b[0m\u001b[0mgraph_from_dot_data\u001b[0m\u001b[0;34m(\u001b[0m\u001b[0mdot_data\u001b[0m\u001b[0;34m.\u001b[0m\u001b[0mgetvalue\u001b[0m\u001b[0;34m(\u001b[0m\u001b[0;34m)\u001b[0m\u001b[0;34m)\u001b[0m\u001b[0;34m\u001b[0m\u001b[0m\n\u001b[0m\u001b[1;32m     18\u001b[0m \u001b[0mgraph\u001b[0m\u001b[0;34m.\u001b[0m\u001b[0mwrite_pdf\u001b[0m\u001b[0;34m(\u001b[0m\u001b[0;34m\"noiseless_tree.pdf\"\u001b[0m\u001b[0;34m)\u001b[0m\u001b[0;34m\u001b[0m\u001b[0m\n\u001b[1;32m     19\u001b[0m \u001b[0;34m\u001b[0m\u001b[0m\n",
      "\u001b[0;32m/usr/local/lib/python2.7/site-packages/pydot.pyc\u001b[0m in \u001b[0;36mgraph_from_dot_data\u001b[0;34m(data)\u001b[0m\n\u001b[1;32m    197\u001b[0m         \u001b[0;32mreturn\u001b[0m \u001b[0ms\u001b[0m\u001b[0;34m\u001b[0m\u001b[0m\n\u001b[1;32m    198\u001b[0m \u001b[0;34m\u001b[0m\u001b[0m\n\u001b[0;32m--> 199\u001b[0;31m     \u001b[0;32mif\u001b[0m \u001b[0mneeds_quotes\u001b[0m\u001b[0;34m(\u001b[0m\u001b[0ms\u001b[0m\u001b[0;34m)\u001b[0m\u001b[0;34m:\u001b[0m\u001b[0;34m\u001b[0m\u001b[0m\n\u001b[0m\u001b[1;32m    200\u001b[0m         replace = {'\"'  : r'\\\"',\n\u001b[1;32m    201\u001b[0m                    \u001b[0;34m\"\\n\"\u001b[0m \u001b[0;34m:\u001b[0m \u001b[0;34mr'\\n'\u001b[0m\u001b[0;34m,\u001b[0m\u001b[0;34m\u001b[0m\u001b[0m\n",
      "\u001b[0;31mNameError\u001b[0m: global name 'dot_parser' is not defined"
     ]
    }
   ],
   "source": [
    "p = 1e-2\n",
    "max_depth = 5\n",
    "\n",
    "X_noisy_train = np.copy(X_train)\n",
    "\n",
    "mask = np.random.random_sample(X_noisy_train.shape) < p\n",
    "for (i, j), val in np.ndenumerate(mask):\n",
    "    if val:\n",
    "        X_noisy_train[i, j] = X_noisy_train[(i+1)%X_noisy_train.shape[0], j]\n",
    "\n",
    "# Train and save noiseless tree\n",
    "clf = st.DecisionTreeClassifier(max_depth=max_depth)\n",
    "clf.fit(X_train, Y_train)\n",
    "\n",
    "dot_data = sx.StringIO() \n",
    "st.export_graphviz(clf, out_file=dot_data) \n",
    "graph = pydot.graph_from_dot_data(dot_data.getvalue()) \n",
    "graph.write_pdf(\"noiseless_tree.pdf\")\n",
    "\n",
    "# Train and save noisy tree\n",
    "clf = st.DecisionTreeClassifier(max_depth=max_depth)\n",
    "clf.fit(X_noisy_train, Y_train)\n",
    "\n",
    "dot_data = sx.StringIO() \n",
    "st.export_graphviz(clf, out_file=dot_data) \n",
    "graph = pydot.graph_from_dot_data(dot_data.getvalue()) \n",
    "graph.write_pdf(\"noisy_tree.pdf\")"
   ]
  },
  {
   "cell_type": "markdown",
   "metadata": {},
   "source": [
    "### Классификация грибов\n",
    "\n",
    "Подберите параметры классификатора так, чтобы получить наилучший результат классификации среди своих коллег. Для оценки качества модели используйте точность (accuracy) и 10-fold кросс-валидацию. Победитель сможет сам выбрать понравившийся вариант в пятом ДЗ, при условии успешного выполнения всех пунктов этого туториала. При одинаковых результатах побеждает первый."
   ]
  },
  {
   "cell_type": "code",
   "execution_count": 25,
   "metadata": {
    "collapsed": false
   },
   "outputs": [
    {
     "name": "stdout",
     "output_type": "stream",
     "text": [
      "CV Accuracy: Mean=0.963, Std=0.094\n"
     ]
    }
   ],
   "source": [
    "# TODO: select best parameters of the tree\n",
    "clf = st.DecisionTreeClassifier()\n",
    "scores = cv.cross_val_score(clf, X, Y, cv=10)\n",
    "print \"CV Accuracy: Mean=%.3f, Std=%.3f\" % (scores.mean(), scores.std())"
   ]
  },
  {
   "cell_type": "code",
   "execution_count": 26,
   "metadata": {
    "collapsed": false
   },
   "outputs": [
    {
     "data": {
      "text/html": [
       "<img src=\"http://aromi-group.com/wp-content/uploads/2013/11/cream-of-mushroom.jpg\" width=400 height=300/>"
      ],
      "text/plain": [
       "<IPython.core.display.HTML object>"
      ]
     },
     "execution_count": 26,
     "metadata": {},
     "output_type": "execute_result"
    }
   ],
   "source": [
    "HTML('<img src=\"http://aromi-group.com/wp-content/uploads/2013/11/cream-of-mushroom.jpg\" width=400 height=300/>') "
   ]
  },
  {
   "cell_type": "markdown",
   "metadata": {},
   "source": [
    "Спасибо за внимание!"
   ]
  },
  {
   "cell_type": "code",
   "execution_count": null,
   "metadata": {
    "collapsed": true
   },
   "outputs": [],
   "source": []
  }
 ],
 "metadata": {
  "kernelspec": {
   "display_name": "Python 2",
   "language": "python",
   "name": "python2"
  },
  "language_info": {
   "codemirror_mode": {
    "name": "ipython",
    "version": 2
   },
   "file_extension": ".py",
   "mimetype": "text/x-python",
   "name": "python",
   "nbconvert_exporter": "python",
   "pygments_lexer": "ipython2",
   "version": "2.7.9"
  }
 },
 "nbformat": 4,
 "nbformat_minor": 0
}
