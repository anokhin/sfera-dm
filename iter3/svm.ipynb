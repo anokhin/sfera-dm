{
 "metadata": {
  "name": ""
 },
 "nbformat": 3,
 "nbformat_minor": 0,
 "worksheets": [
  {
   "cells": [
    {
     "cell_type": "code",
     "collapsed": false,
     "input": [
      "import argparse\n",
      "from matplotlib.cm import get_cmap\n",
      "\n",
      "import numpy\n",
      "import pylab\n",
      "import numpy.random\n",
      "import sklearn.datasets\n",
      "import sklearn.svm\n",
      "import pandas as pd"
     ],
     "language": "python",
     "metadata": {},
     "outputs": [],
     "prompt_number": 1
    },
    {
     "cell_type": "code",
     "collapsed": false,
     "input": [
      "class Args:\n",
      "    def __init__(self, size=100):\n",
      "        self.size = size\n",
      "        \n",
      "    \n",
      "class ArgsLin(Args):\n",
      "    def __init__(self, size=100, k=1.1, b=0.0, nl=0.1):\n",
      "        Args.__init__(self, size)\n",
      "\n",
      "        # Separator slope\n",
      "        self.k = k\n",
      "\n",
      "        # Separator intercept\n",
      "        self.b = b\n",
      "\n",
      "        # Noise level\n",
      "        self.nl = nl\n",
      "        \n",
      "\n",
      "class ArgsCC(Args):\n",
      "    def __init__(self, size=100, r1=1.0, r2=2.0, sigma=0.3):\n",
      "        Args.__init__(self, size)\n",
      "\n",
      "        # First radius\n",
      "        self.r1 = r1\n",
      "\n",
      "        # Second radius\n",
      "        self.r2 = r2\n",
      "\n",
      "        # Noise blur\n",
      "        self.sigma = sigma"
     ],
     "language": "python",
     "metadata": {},
     "outputs": [],
     "prompt_number": 2
    },
    {
     "cell_type": "code",
     "collapsed": false,
     "input": [
      "def generate_linear(args):\n",
      "    print \"Generating 'Linearly-separated' data set\"\n",
      "\n",
      "    x = numpy.random.random((args.size, 2))\n",
      "    y = numpy.zeros(args.size, dtype=int)\n",
      "    noise = numpy.random.randn(args.size) * args.nl\n",
      "    y[x[:, 1] - (args.k * x[:, 0] + args.b) > noise] = 1\n",
      "\n",
      "    return x, y\n"
     ],
     "language": "python",
     "metadata": {},
     "outputs": [],
     "prompt_number": 3
    },
    {
     "cell_type": "code",
     "collapsed": false,
     "input": [
      "def generate_concentric(args):\n",
      "    print \"Generating 'Concentric circles' data set\"\n",
      "    x = numpy.zeros((args.size, 2))\n",
      "    x[:args.size/2, 0] = args.sigma * numpy.random.randn(args.size/2) + args.r1\n",
      "    x[args.size/2:, 0] = args.sigma * numpy.random.randn(args.size/2) + args.r2\n",
      "    x[:, 1] = (numpy.random.random(args.size) - 0.5) * 2 * numpy.pi\n",
      "    y = numpy.hstack([numpy.zeros(args.size/2, dtype=int), numpy.ones(args.size/2, dtype=int)])\n",
      "\n",
      "    z = numpy.zeros((args.size, 2))\n",
      "    z[:, 0] = x[:, 0] * numpy.cos(x[:, 1])\n",
      "    z[:, 1] = x[:, 0] * numpy.sin(x[:, 1])\n",
      "\n",
      "    return z, y"
     ],
     "language": "python",
     "metadata": {},
     "outputs": [],
     "prompt_number": 4
    },
    {
     "cell_type": "code",
     "collapsed": false,
     "input": [
      "def generate_gauss(args):\n",
      "    print \"Generating 'Gaussian mixture' data set\"\n",
      "\n",
      "    x, y = sklearn.datasets.make_classification(n_samples=args.size,\n",
      "                                                n_features=2,\n",
      "                                                n_informative=2,\n",
      "                                                n_redundant=0,\n",
      "                                                n_classes=2,\n",
      "                                                n_clusters_per_class=2)\n",
      "    return x, y"
     ],
     "language": "python",
     "metadata": {},
     "outputs": [],
     "prompt_number": 5
    },
    {
     "cell_type": "code",
     "collapsed": false,
     "input": [
      "def generate_sin(args):\n",
      "    print \"Generating 'Sinus-separated' data set\"\n",
      "\n",
      "    x = numpy.random.random((args.size, 2))\n",
      "    x[:, 0] = x[:, 0] * 4 * numpy.pi\n",
      "    x[:, 1] = (x[:, 1] - 0.5) * 2\n",
      "    y = numpy.zeros(args.size, dtype=int)\n",
      "    y[x[:, 1] > numpy.sin(x[:, 0])] = 1\n",
      "\n",
      "    return x, y"
     ],
     "language": "python",
     "metadata": {},
     "outputs": [],
     "prompt_number": 6
    },
    {
     "cell_type": "code",
     "collapsed": false,
     "input": [
      "def load_spambase():\n",
      "    TRAINING_SET_URL = 'http://archive.ics.uci.edu/ml/machine-learning-databases/spambase/spambase.data'\n",
      "    \n",
      "    df = pd.read_csv(TRAINING_SET_URL, sep=\",\", header=None)\n",
      "    x = df.ix[:,:56].values\n",
      "    y = df.ix[:,57:].values.flatten()\n",
      "    return x, y"
     ],
     "language": "python",
     "metadata": {},
     "outputs": [],
     "prompt_number": 15
    },
    {
     "cell_type": "code",
     "collapsed": false,
     "input": [
      "args = Args(size=10)\n",
      "print generate_sin(args)\n",
      "print generate_gauss(args)\n",
      "\n",
      "args_lin = ArgsLin(size=5)\n",
      "print generate_linear(args_lin)\n",
      "\n",
      "args_cc = ArgsCC(size=20)\n",
      "print generate_concentric(args_cc)\n",
      "\n",
      "print load_spambase()"
     ],
     "language": "python",
     "metadata": {},
     "outputs": [
      {
       "output_type": "stream",
       "stream": "stdout",
       "text": [
        "Generating 'Sinus-separated' data set\n",
        "(array([[  5.59887248,   0.5042517 ],\n",
        "       [  3.84962209,  -0.58816255],\n",
        "       [  4.14509217,  -0.62143542],\n",
        "       [  2.32700583,  -0.65961315],\n",
        "       [  0.94219424,   0.87393235],\n",
        "       [ 11.95847477,   0.69631764],\n",
        "       [  3.43468458,  -0.49109249],\n",
        "       [  9.63617161,   0.39989331],\n",
        "       [ 10.72586913,   0.43676772],\n",
        "       [  2.38512637,   0.3149098 ]]), array([1, 1, 1, 0, 1, 1, 0, 1, 1, 0]))\n",
        "Generating 'Gaussian mixture' data set\n",
        "(array([[-0.83241652,  0.94759683],\n",
        "       [-1.00957009,  0.25670341],\n",
        "       [-1.48646261, -2.23176608],\n",
        "       [ 0.47012068,  1.74112087],\n",
        "       [ 1.50867752,  0.18796495],\n",
        "       [ 0.37946766, -0.86621417],\n",
        "       [-1.48369127, -1.98626799],\n",
        "       [ 1.11419348, -0.97742626],\n",
        "       [-0.85943049, -0.54011417],\n",
        "       [-0.92765289,  0.25863958]]), array([1, 1, 0, 1, 1, 0, 0, 0, 0, 1]))\n",
        "Generating 'Linearly-separated' data set\n",
        "(array([[ 0.60930356,  0.66803569],\n",
        "       [ 0.66949991,  0.67337996],\n",
        "       [ 0.27104472,  0.06291316],\n",
        "       [ 0.19004244,  0.37530398],\n",
        "       [ 0.24146001,  0.55239323]]), array([1, 1, 0, 1, 1]))\n",
        "Generating 'Concentric circles' data set\n",
        "(array([[-0.28560146, -0.78222444],\n",
        "       [ 0.4852883 , -0.74417683],\n",
        "       [-0.09887832, -1.08344082],\n",
        "       [ 1.0726579 ,  0.49747115],\n",
        "       [ 0.68065826,  0.17019998],\n",
        "       [-1.52675547,  0.30261422],\n",
        "       [-0.97184199, -0.59966814],\n",
        "       [ 0.35569708, -0.29909959],\n",
        "       [ 1.16993226,  0.43041568],\n",
        "       [ 0.29930138,  0.34136047],\n",
        "       [ 1.34594217, -1.10856235],\n",
        "       [ 2.14638763,  1.29678386],\n",
        "       [ 0.60262851,  2.20694399],\n",
        "       [-2.08797739,  0.44009573],\n",
        "       [ 1.87449913, -0.49473718],\n",
        "       [ 1.71119945,  0.25471905],\n",
        "       [ 0.19582554,  1.82593867],\n",
        "       [ 1.56745562, -1.0949229 ],\n",
        "       [-1.06310338,  1.59926558],\n",
        "       [-0.48794345,  2.44128371]]), array([0, 0, 0, 0, 0, 0, 0, 0, 0, 0, 1, 1, 1, 1, 1, 1, 1, 1, 1, 1]))\n",
        "(array([[  0.00000000e+00,   6.40000000e-01,   6.40000000e-01, ...,\n",
        "          3.75600000e+00,   6.10000000e+01,   2.78000000e+02],\n",
        "       [  2.10000000e-01,   2.80000000e-01,   5.00000000e-01, ...,\n",
        "          5.11400000e+00,   1.01000000e+02,   1.02800000e+03],\n",
        "       [  6.00000000e-02,   0.00000000e+00,   7.10000000e-01, ...,\n",
        "          9.82100000e+00,   4.85000000e+02,   2.25900000e+03],\n",
        "       ..., \n",
        "       [  3.00000000e-01,   0.00000000e+00,   3.00000000e-01, ...,\n",
        "          1.40400000e+00,   6.00000000e+00,   1.18000000e+02],\n",
        "       [  9.60000000e-01,   0.00000000e+00,   0.00000000e+00, ...,\n",
        "          1.14700000e+00,   5.00000000e+00,   7.80000000e+01],\n",
        "       [  0.00000000e+00,   0.00000000e+00,   6.50000000e-01, ...,\n",
        "          1.25000000e+00,   5.00000000e+00,   4.00000000e+01]]), array([1, 1, 1, ..., 0, 0, 0]))"
       ]
      },
      {
       "output_type": "stream",
       "stream": "stdout",
       "text": [
        "\n"
       ]
      }
     ],
     "prompt_number": 16
    },
    {
     "cell_type": "code",
     "collapsed": false,
     "input": [
      "def select_model(x, y):\n",
      "    \"\"\"\n",
      "    Implement some model selection strategy here:\n",
      "    seek through different kernels and parameters.\n",
      "\n",
      "    Use a validation scheme to select the best model.\n",
      "\n",
      "    Returns:\n",
      "        SVM classifier implemented by sklearn SVC class.\n",
      "    \"\"\"\n",
      "    model = sklearn.svm.SVC()\n",
      "    print \"Trying model {}\".format(model)\n",
      "    model.fit(x, y)\n",
      "    return model"
     ],
     "language": "python",
     "metadata": {},
     "outputs": [],
     "prompt_number": 17
    },
    {
     "cell_type": "code",
     "collapsed": false,
     "input": [
      "def plot_data_set(x, y, description=''):\n",
      "    print \"Plotting data set points\"\n",
      "    pylab.figure(figsize=(8, 8))\n",
      "\n",
      "    colors = numpy.array(['r', 'b'])[y]\n",
      "    pylab.title(description, fontsize='small')\n",
      "    pylab.scatter(x[:, 0], x[:, 1], marker='o', c=colors, s=50)"
     ],
     "language": "python",
     "metadata": {},
     "outputs": [],
     "prompt_number": 18
    },
    {
     "cell_type": "code",
     "collapsed": false,
     "input": [
      "def plot_decision_region(x1_min, x2_min, x1_max, x2_max, clf, n_points=1000):\n",
      "    print \"Plotting decision region\"\n",
      "    x1, x2 = numpy.meshgrid(numpy.linspace(x1_min, x1_max, n_points), numpy.linspace(x2_min, x2_max, n_points))\n",
      "    z = clf.decision_function(numpy.c_[x1.ravel(), x2.ravel()]).reshape(x1.shape)\n",
      "\n",
      "    pylab.contour(x1, x2, z, levels=[0.0], linestyles='solid', linewidths=2.0)\n",
      "    pylab.contour(x1, x2, z, levels=[-1.0, 1.0], linestyles='dashed', linewidths=1.0)"
     ],
     "language": "python",
     "metadata": {},
     "outputs": [],
     "prompt_number": 19
    },
    {
     "cell_type": "code",
     "collapsed": false,
     "input": [
      "# args = Args(size=10)\n",
      "# x, y = generate_sin(args)\n",
      "x, y = load_spambase()"
     ],
     "language": "python",
     "metadata": {},
     "outputs": [],
     "prompt_number": 26
    },
    {
     "cell_type": "code",
     "collapsed": false,
     "input": [
      "print x.shape\n",
      "print y.shape\n",
      "print x\n",
      "print y\n",
      "print x[:, 0].min(), x[:, 1].min(), x[:, 0].max(), x[:, 1].max()\n",
      "print "
     ],
     "language": "python",
     "metadata": {},
     "outputs": [
      {
       "output_type": "stream",
       "stream": "stdout",
       "text": [
        "(4601, 57)\n",
        "(4601,)\n",
        "[[  0.00000000e+00   6.40000000e-01   6.40000000e-01 ...,   3.75600000e+00\n",
        "    6.10000000e+01   2.78000000e+02]\n",
        " [  2.10000000e-01   2.80000000e-01   5.00000000e-01 ...,   5.11400000e+00\n",
        "    1.01000000e+02   1.02800000e+03]\n",
        " [  6.00000000e-02   0.00000000e+00   7.10000000e-01 ...,   9.82100000e+00\n",
        "    4.85000000e+02   2.25900000e+03]\n",
        " ..., \n",
        " [  3.00000000e-01   0.00000000e+00   3.00000000e-01 ...,   1.40400000e+00\n",
        "    6.00000000e+00   1.18000000e+02]\n",
        " [  9.60000000e-01   0.00000000e+00   0.00000000e+00 ...,   1.14700000e+00\n",
        "    5.00000000e+00   7.80000000e+01]\n",
        " [  0.00000000e+00   0.00000000e+00   6.50000000e-01 ...,   1.25000000e+00\n",
        "    5.00000000e+00   4.00000000e+01]]\n",
        "[1 1 1 ..., 0 0 0]\n",
        "0.0 0.0 4.54 14.28\n",
        "\n"
       ]
      }
     ],
     "prompt_number": 27
    },
    {
     "cell_type": "code",
     "collapsed": false,
     "input": [
      "\n",
      "clf = select_model(x, y)\n",
      "\n",
      "plot_data_set(x, y)\n",
      "pylab.show()\n",
      "plot_decision_region(x[:, 0].min(), x[:, 1].min(), x[:, 0].max(), x[:, 1].max(), clf)\n",
      "\n",
      "pylab.show()"
     ],
     "language": "python",
     "metadata": {},
     "outputs": [
      {
       "output_type": "stream",
       "stream": "stdout",
       "text": [
        "Trying model SVC(C=1.0, cache_size=200, class_weight=None, coef0=0.0, degree=3, gamma=0.0,\n",
        "  kernel='rbf', max_iter=-1, probability=False, random_state=None,\n",
        "  shrinking=True, tol=0.001, verbose=False)\n",
        "Plotting data set points"
       ]
      },
      {
       "output_type": "stream",
       "stream": "stdout",
       "text": [
        "\n",
        "Plotting decision region"
       ]
      },
      {
       "ename": "ValueError",
       "evalue": "X.shape[1] = 2 should be equal to 57, the number of features at training time",
       "output_type": "pyerr",
       "traceback": [
        "\u001b[0;31m---------------------------------------------------------------------------\u001b[0m\n\u001b[0;31mValueError\u001b[0m                                Traceback (most recent call last)",
        "\u001b[0;32m<ipython-input-28-96637cbfad2a>\u001b[0m in \u001b[0;36m<module>\u001b[0;34m()\u001b[0m\n\u001b[1;32m      4\u001b[0m \u001b[0mplot_data_set\u001b[0m\u001b[0;34m(\u001b[0m\u001b[0mx\u001b[0m\u001b[0;34m,\u001b[0m \u001b[0my\u001b[0m\u001b[0;34m)\u001b[0m\u001b[0;34m\u001b[0m\u001b[0m\n\u001b[1;32m      5\u001b[0m \u001b[0mpylab\u001b[0m\u001b[0;34m.\u001b[0m\u001b[0mshow\u001b[0m\u001b[0;34m(\u001b[0m\u001b[0;34m)\u001b[0m\u001b[0;34m\u001b[0m\u001b[0m\n\u001b[0;32m----> 6\u001b[0;31m \u001b[0mplot_decision_region\u001b[0m\u001b[0;34m(\u001b[0m\u001b[0mx\u001b[0m\u001b[0;34m[\u001b[0m\u001b[0;34m:\u001b[0m\u001b[0;34m,\u001b[0m \u001b[0;36m0\u001b[0m\u001b[0;34m]\u001b[0m\u001b[0;34m.\u001b[0m\u001b[0mmin\u001b[0m\u001b[0;34m(\u001b[0m\u001b[0;34m)\u001b[0m\u001b[0;34m,\u001b[0m \u001b[0mx\u001b[0m\u001b[0;34m[\u001b[0m\u001b[0;34m:\u001b[0m\u001b[0;34m,\u001b[0m \u001b[0;36m1\u001b[0m\u001b[0;34m]\u001b[0m\u001b[0;34m.\u001b[0m\u001b[0mmin\u001b[0m\u001b[0;34m(\u001b[0m\u001b[0;34m)\u001b[0m\u001b[0;34m,\u001b[0m \u001b[0mx\u001b[0m\u001b[0;34m[\u001b[0m\u001b[0;34m:\u001b[0m\u001b[0;34m,\u001b[0m \u001b[0;36m0\u001b[0m\u001b[0;34m]\u001b[0m\u001b[0;34m.\u001b[0m\u001b[0mmax\u001b[0m\u001b[0;34m(\u001b[0m\u001b[0;34m)\u001b[0m\u001b[0;34m,\u001b[0m \u001b[0mx\u001b[0m\u001b[0;34m[\u001b[0m\u001b[0;34m:\u001b[0m\u001b[0;34m,\u001b[0m \u001b[0;36m1\u001b[0m\u001b[0;34m]\u001b[0m\u001b[0;34m.\u001b[0m\u001b[0mmax\u001b[0m\u001b[0;34m(\u001b[0m\u001b[0;34m)\u001b[0m\u001b[0;34m,\u001b[0m \u001b[0mclf\u001b[0m\u001b[0;34m)\u001b[0m\u001b[0;34m\u001b[0m\u001b[0m\n\u001b[0m\u001b[1;32m      7\u001b[0m \u001b[0;34m\u001b[0m\u001b[0m\n\u001b[1;32m      8\u001b[0m \u001b[0mpylab\u001b[0m\u001b[0;34m.\u001b[0m\u001b[0mshow\u001b[0m\u001b[0;34m(\u001b[0m\u001b[0;34m)\u001b[0m\u001b[0;34m\u001b[0m\u001b[0m\n",
        "\u001b[0;32m<ipython-input-19-cee6668a3a59>\u001b[0m in \u001b[0;36mplot_decision_region\u001b[0;34m(x1_min, x2_min, x1_max, x2_max, clf, n_points)\u001b[0m\n\u001b[1;32m      2\u001b[0m     \u001b[0;32mprint\u001b[0m \u001b[0;34m\"Plotting decision region\"\u001b[0m\u001b[0;34m\u001b[0m\u001b[0m\n\u001b[1;32m      3\u001b[0m     \u001b[0mx1\u001b[0m\u001b[0;34m,\u001b[0m \u001b[0mx2\u001b[0m \u001b[0;34m=\u001b[0m \u001b[0mnumpy\u001b[0m\u001b[0;34m.\u001b[0m\u001b[0mmeshgrid\u001b[0m\u001b[0;34m(\u001b[0m\u001b[0mnumpy\u001b[0m\u001b[0;34m.\u001b[0m\u001b[0mlinspace\u001b[0m\u001b[0;34m(\u001b[0m\u001b[0mx1_min\u001b[0m\u001b[0;34m,\u001b[0m \u001b[0mx1_max\u001b[0m\u001b[0;34m,\u001b[0m \u001b[0mn_points\u001b[0m\u001b[0;34m)\u001b[0m\u001b[0;34m,\u001b[0m \u001b[0mnumpy\u001b[0m\u001b[0;34m.\u001b[0m\u001b[0mlinspace\u001b[0m\u001b[0;34m(\u001b[0m\u001b[0mx2_min\u001b[0m\u001b[0;34m,\u001b[0m \u001b[0mx2_max\u001b[0m\u001b[0;34m,\u001b[0m \u001b[0mn_points\u001b[0m\u001b[0;34m)\u001b[0m\u001b[0;34m)\u001b[0m\u001b[0;34m\u001b[0m\u001b[0m\n\u001b[0;32m----> 4\u001b[0;31m     \u001b[0mz\u001b[0m \u001b[0;34m=\u001b[0m \u001b[0mclf\u001b[0m\u001b[0;34m.\u001b[0m\u001b[0mdecision_function\u001b[0m\u001b[0;34m(\u001b[0m\u001b[0mnumpy\u001b[0m\u001b[0;34m.\u001b[0m\u001b[0mc_\u001b[0m\u001b[0;34m[\u001b[0m\u001b[0mx1\u001b[0m\u001b[0;34m.\u001b[0m\u001b[0mravel\u001b[0m\u001b[0;34m(\u001b[0m\u001b[0;34m)\u001b[0m\u001b[0;34m,\u001b[0m \u001b[0mx2\u001b[0m\u001b[0;34m.\u001b[0m\u001b[0mravel\u001b[0m\u001b[0;34m(\u001b[0m\u001b[0;34m)\u001b[0m\u001b[0;34m]\u001b[0m\u001b[0;34m)\u001b[0m\u001b[0;34m.\u001b[0m\u001b[0mreshape\u001b[0m\u001b[0;34m(\u001b[0m\u001b[0mx1\u001b[0m\u001b[0;34m.\u001b[0m\u001b[0mshape\u001b[0m\u001b[0;34m)\u001b[0m\u001b[0;34m\u001b[0m\u001b[0m\n\u001b[0m\u001b[1;32m      5\u001b[0m \u001b[0;34m\u001b[0m\u001b[0m\n\u001b[1;32m      6\u001b[0m     \u001b[0mpylab\u001b[0m\u001b[0;34m.\u001b[0m\u001b[0mcontour\u001b[0m\u001b[0;34m(\u001b[0m\u001b[0mx1\u001b[0m\u001b[0;34m,\u001b[0m \u001b[0mx2\u001b[0m\u001b[0;34m,\u001b[0m \u001b[0mz\u001b[0m\u001b[0;34m,\u001b[0m \u001b[0mlevels\u001b[0m\u001b[0;34m=\u001b[0m\u001b[0;34m[\u001b[0m\u001b[0;36m0.0\u001b[0m\u001b[0;34m]\u001b[0m\u001b[0;34m,\u001b[0m \u001b[0mlinestyles\u001b[0m\u001b[0;34m=\u001b[0m\u001b[0;34m'solid'\u001b[0m\u001b[0;34m,\u001b[0m \u001b[0mlinewidths\u001b[0m\u001b[0;34m=\u001b[0m\u001b[0;36m2.0\u001b[0m\u001b[0;34m)\u001b[0m\u001b[0;34m\u001b[0m\u001b[0m\n",
        "\u001b[0;32m/home/stroykova/.local/lib/python2.7/site-packages/sklearn/svm/base.pyc\u001b[0m in \u001b[0;36mdecision_function\u001b[0;34m(self, X)\u001b[0m\n\u001b[1;32m    360\u001b[0m                                       \" sparse SVM.\")\n\u001b[1;32m    361\u001b[0m \u001b[0;34m\u001b[0m\u001b[0m\n\u001b[0;32m--> 362\u001b[0;31m         \u001b[0mX\u001b[0m \u001b[0;34m=\u001b[0m \u001b[0mself\u001b[0m\u001b[0;34m.\u001b[0m\u001b[0m_validate_for_predict\u001b[0m\u001b[0;34m(\u001b[0m\u001b[0mX\u001b[0m\u001b[0;34m)\u001b[0m\u001b[0;34m\u001b[0m\u001b[0m\n\u001b[0m\u001b[1;32m    363\u001b[0m         \u001b[0mX\u001b[0m \u001b[0;34m=\u001b[0m \u001b[0mself\u001b[0m\u001b[0;34m.\u001b[0m\u001b[0m_compute_kernel\u001b[0m\u001b[0;34m(\u001b[0m\u001b[0mX\u001b[0m\u001b[0;34m)\u001b[0m\u001b[0;34m\u001b[0m\u001b[0m\n\u001b[1;32m    364\u001b[0m \u001b[0;34m\u001b[0m\u001b[0m\n",
        "\u001b[0;32m/home/stroykova/.local/lib/python2.7/site-packages/sklearn/svm/base.pyc\u001b[0m in \u001b[0;36m_validate_for_predict\u001b[0;34m(self, X)\u001b[0m\n\u001b[1;32m    403\u001b[0m             raise ValueError(\"X.shape[1] = %d should be equal to %d, \"\n\u001b[1;32m    404\u001b[0m                              \u001b[0;34m\"the number of features at training time\"\u001b[0m \u001b[0;34m%\u001b[0m\u001b[0;34m\u001b[0m\u001b[0m\n\u001b[0;32m--> 405\u001b[0;31m                              (n_features, self.shape_fit_[1]))\n\u001b[0m\u001b[1;32m    406\u001b[0m         \u001b[0;32mreturn\u001b[0m \u001b[0mX\u001b[0m\u001b[0;34m\u001b[0m\u001b[0m\n\u001b[1;32m    407\u001b[0m \u001b[0;34m\u001b[0m\u001b[0m\n",
        "\u001b[0;31mValueError\u001b[0m: X.shape[1] = 2 should be equal to 57, the number of features at training time"
       ]
      },
      {
       "output_type": "stream",
       "stream": "stdout",
       "text": [
        "\n"
       ]
      }
     ],
     "prompt_number": 28
    },
    {
     "cell_type": "code",
     "collapsed": false,
     "input": [],
     "language": "python",
     "metadata": {},
     "outputs": []
    }
   ],
   "metadata": {}
  }
 ]
}