{
 "cells": [
  {
   "cell_type": "markdown",
   "metadata": {},
   "source": [
    "# Домашнее задание 5. Линейные модели"
   ]
  },
  {
   "cell_type": "code",
   "execution_count": 314,
   "metadata": {
    "collapsed": false
   },
   "outputs": [
    {
     "name": "stdout",
     "output_type": "stream",
     "text": [
      "Populating the interactive namespace from numpy and matplotlib\n"
     ]
    }
   ],
   "source": [
    "import random as pr\n",
    "import numpy as np\n",
    "import pandas as pd\n",
    "import matplotlib.pylab as pl\n",
    "import sklearn.cross_validation as cv\n",
    "import sklearn.metrics as sm\n",
    "\n",
    "# Plotting config\n",
    "%pylab inline"
   ]
  },
  {
   "cell_type": "markdown",
   "metadata": {},
   "source": [
    "Зачитываем результат 4 домашки"
   ]
  },
  {
   "cell_type": "code",
   "execution_count": 315,
   "metadata": {
    "collapsed": false,
    "scrolled": true
   },
   "outputs": [],
   "source": [
    "data = np.load(\"files/out_4.dat.npz\")\n",
    "users = data[\"users\"]\n",
    "X = data[\"data\"].reshape(1,)[0]"
   ]
  },
  {
   "cell_type": "markdown",
   "metadata": {},
   "source": [
    "Зачитываем категории пользователей"
   ]
  },
  {
   "cell_type": "code",
   "execution_count": 316,
   "metadata": {
    "collapsed": false
   },
   "outputs": [],
   "source": [
    "TRAINING_SET_URL = \"/Users/anokhin/Desktop/twitter_train.txt\"\n",
    "df_users = pd.read_csv(TRAINING_SET_URL, sep=\",\", header=0, names=[\"user_id\", \"class\"], dtype={\"user_id\": str, \"class\": int})\n",
    "df_users.set_index(\"user_id\", inplace=True)"
   ]
  },
  {
   "cell_type": "markdown",
   "metadata": {},
   "source": [
    "Формируем целевую переменную: Делаем join списка пользователей из ДЗ4 с обучающей выборкой. (Этого бы не пришлось делать, если бы мы в 4 домашке сохранили целевую -- надо учесть на будущее)."
   ]
  },
  {
   "cell_type": "code",
   "execution_count": 317,
   "metadata": {
    "collapsed": false
   },
   "outputs": [
    {
     "name": "stdout",
     "output_type": "stream",
     "text": [
      "Resulting training set: (8000x833942) feature matrix, 8000 target vector\n"
     ]
    }
   ],
   "source": [
    "Y = df_users.ix[users.astype(str)][\"class\"].values\n",
    "print \"Resulting training set: (%dx%d) feature matrix, %d target vector\" % (X.shape[0], X.shape[1], Y.shape[0])"
   ]
  },
  {
   "cell_type": "markdown",
   "metadata": {},
   "source": [
    "Чтобы исследовать, как ведут себя признаки, построим распределение количества ненулевых признаков у пользователей, чтобы убедиться, что он удовлетворяет закону Ципфа."
   ]
  },
  {
   "cell_type": "code",
   "execution_count": 318,
   "metadata": {
    "collapsed": false
   },
   "outputs": [
    {
     "data": {
      "image/png": "[encoded data removed]",
      "text/plain": [
       "<matplotlib.figure.Figure at 0x12a099550>"
      ]
     },
     "metadata": {},
     "output_type": "display_data"
    }
   ],
   "source": [
    "col_counts = np.diff(X.tocsc().indptr)\n",
    "\n",
    "bin_counts = np.bincount(col_counts)\n",
    "pl.plot(np.arange(bin_counts.shape[0]), bin_counts, \".\")\n",
    "ax = plt.gca()\n",
    "ax.set_xscale('log')\n",
    "ax.set_yscale('log')"
   ]
  },
  {
   "cell_type": "markdown",
   "metadata": {},
   "source": [
    "Проведем отбор признаков. В самом простом случае просто удаляем признаки, имеющие ненулевое значение у менее, чем 100 пользователей."
   ]
  },
  {
   "cell_type": "code",
   "execution_count": 319,
   "metadata": {
    "collapsed": false
   },
   "outputs": [],
   "source": [
    "X1 = X.tocsc()[:, col_counts > 100].toarray()"
   ]
  },
  {
   "cell_type": "markdown",
   "metadata": {},
   "source": [
    "Вариант задания генерируется на основании вашего ника в техносфере."
   ]
  },
  {
   "cell_type": "code",
   "execution_count": 320,
   "metadata": {
    "collapsed": false
   },
   "outputs": [
    {
     "name": "stdout",
     "output_type": "stream",
     "text": [
      "My homework 5 algorithm is: Logistic regression with L2 regularization optimized by Newton method\n"
     ]
    }
   ],
   "source": [
    "USER_NAME = \"n.anokhin\"\n",
    "OPTIMIZATION_ALGORITHMS = [\"stochastic gradient descent\", \"Newton method\"]\n",
    "REGULARIZATIONS = [\"L1\", \"L2\"]\n",
    "\n",
    "print \"My homework 5 algorithm is: Logistic regression with %s regularization optimized by %s\" % (\n",
    "    REGULARIZATIONS[hash(USER_NAME) % 2],\n",
    "    OPTIMIZATION_ALGORITHMS[hash(USER_NAME[::-1]) % 2]\n",
    ")"
   ]
  },
  {
   "cell_type": "markdown",
   "metadata": {},
   "source": [
    "Реализуем выбранный алгоритм"
   ]
  },
  {
   "cell_type": "code",
   "execution_count": 321,
   "metadata": {
    "collapsed": false
   },
   "outputs": [],
   "source": [
    "class LogisticRegression():\n",
    "    \n",
    "    def fit(self, X, Y=None):\n",
    "        return self\n",
    "    \n",
    "    def predict_proba(self, X):\n",
    "        import numpy.random as nr\n",
    "        return nr.random((X.shape[0], 2))"
   ]
  },
  {
   "cell_type": "markdown",
   "metadata": {},
   "source": [
    "Реализуем метрику качества, используемую в соревновании: площадь под ROC кривой"
   ]
  },
  {
   "cell_type": "code",
   "execution_count": 322,
   "metadata": {
    "collapsed": true
   },
   "outputs": [],
   "source": [
    "def auroc(y_prob, y_true):\n",
    "    return 0.5"
   ]
  },
  {
   "cell_type": "markdown",
   "metadata": {},
   "source": [
    "Разделим выборку с помощью методики кросс-валидации для того, чтобы настроить параметр регуляризации $C$"
   ]
  },
  {
   "cell_type": "code",
   "execution_count": 323,
   "metadata": {
    "collapsed": false
   },
   "outputs": [
    {
     "name": "stdout",
     "output_type": "stream",
     "text": [
      "0 0.5\n",
      "1 0.5\n",
      "2 0.5\n",
      "3 0.5\n",
      "4 0.5\n",
      "5 0.5\n",
      "6 0.5\n",
      "7 0.5\n"
     ]
    }
   ],
   "source": [
    "C = [0.0, 0.01, 0.1, 1, 10, 100, 1000, 10000]\n",
    "skf = cv.StratifiedKFold(Y, len(C))\n",
    "for i, (train, test) in enumerate(skf):\n",
    "    X_train, Y_train = X1[train], Y[train]\n",
    "    X_test, Y_test = X1[test], Y[test]\n",
    "    model = LogisticRegression().fit(X_train, Y_train)\n",
    "    print i, auroc(model.predict_proba(X_test)[:, 0], Y_test)"
   ]
  },
  {
   "cell_type": "markdown",
   "metadata": {},
   "source": [
    "Выбираем наилучшее значение $C$, и классифицируем неизвестных пользователей и строим ROC-кривую"
   ]
  },
  {
   "cell_type": "code",
   "execution_count": 324,
   "metadata": {
    "collapsed": false
   },
   "outputs": [
    {
     "name": "stdout",
     "output_type": "stream",
     "text": [
      "Area under the ROC curve : 0.503911\n"
     ]
    },
    {
     "data": {
      "image/png": "[encoded data removed]",
      "text/plain": [
       "<matplotlib.figure.Figure at 0x12a17af90>"
      ]
     },
     "metadata": {},
     "output_type": "display_data"
    }
   ],
   "source": [
    "X_train, X_test, Y_train, Y_test = cv.train_test_split(X1, Y, test_size=0.3)\n",
    "Y_prob = LogisticRegression().fit(X_train, Y_train).predict_proba(X_test)\n",
    "fpr, tpr, thresholds = sm.roc_curve(Y_test, Y_prob[:, 1])\n",
    "roc_auc = sm.auc(fpr, tpr)\n",
    "print \"Area under the ROC curve : %f\" % roc_auc\n",
    "\n",
    "# Plot ROC curve\n",
    "pl.clf()\n",
    "pl.plot(fpr, tpr, label='ROC curve (area = %0.2f)' % roc_auc)\n",
    "pl.plot([0, 1], [0, 1], 'k--')\n",
    "pl.xlim([0.0, 1.0])\n",
    "pl.ylim([0.0, 1.0])\n",
    "pl.xlabel('False Positive Rate')\n",
    "pl.ylabel('True Positive Rate')\n",
    "pl.title('Receiver operating characteristic example')\n",
    "pl.legend(loc=\"lower right\")\n",
    "pl.show()"
   ]
  },
  {
   "cell_type": "markdown",
   "metadata": {},
   "source": [
    "С помощью полученной модели предсказываем категории для неизвестных пользователей из соревнования и загружаем на kaggle в нужном формате."
   ]
  },
  {
   "cell_type": "code",
   "execution_count": null,
   "metadata": {
    "collapsed": true
   },
   "outputs": [],
   "source": []
  }
 ],
 "metadata": {
  "kernelspec": {
   "display_name": "Python 2",
   "language": "python",
   "name": "python2"
  },
  "language_info": {
   "codemirror_mode": {
    "name": "ipython",
    "version": 2
   },
   "file_extension": ".py",
   "mimetype": "text/x-python",
   "name": "python",
   "nbconvert_exporter": "python",
   "pygments_lexer": "ipython2",
   "version": "2.7.9"
  }
 },
 "nbformat": 4,
 "nbformat_minor": 0
}
