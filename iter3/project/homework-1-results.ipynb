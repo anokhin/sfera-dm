{
 "metadata": {
  "name": "",
  "signature": "sha256:501e8ee402ad106a931d2e02b477b9f11e21769693a4d422aa77e015c5bb4bb5"
 },
 "nbformat": 3,
 "nbformat_minor": 0,
 "worksheets": [
  {
   "cells": [
    {
     "cell_type": "code",
     "collapsed": false,
     "input": [
      "import pandas as pd\n",
      "import numpy as np\n",
      "import pylab as pl\n",
      "import mpl_toolkits.basemap as bm\n",
      "import twitter\n",
      "import requests\n",
      "import datetime\n",
      "import dateutil\n",
      "import csv\n",
      "\n",
      "# Plotting config\n",
      "%pylab inline"
     ],
     "language": "python",
     "metadata": {},
     "outputs": [
      {
       "output_type": "stream",
       "stream": "stdout",
       "text": [
        "Populating the interactive namespace from numpy and matplotlib\n"
       ]
      }
     ],
     "prompt_number": 21
    },
    {
     "cell_type": "code",
     "collapsed": false,
     "input": [
      "TRAINING_SET_URL = \"users.txt\"\n",
      "df_users = pd.read_csv(TRAINING_SET_URL, sep=\"\\t\", header=None, names=[\"user_id\", \"class\"])\n",
      "df_users.head()"
     ],
     "language": "python",
     "metadata": {},
     "outputs": [
      {
       "html": [
        "<div style=\"max-height:1000px;max-width:1500px;overflow:auto;\">\n",
        "<table border=\"1\" class=\"dataframe\">\n",
        "  <thead>\n",
        "    <tr style=\"text-align: right;\">\n",
        "      <th></th>\n",
        "      <th>user_id</th>\n",
        "      <th>class</th>\n",
        "    </tr>\n",
        "  </thead>\n",
        "  <tbody>\n",
        "    <tr>\n",
        "      <th>0</th>\n",
        "      <td>  984121344</td>\n",
        "      <td> 0</td>\n",
        "    </tr>\n",
        "    <tr>\n",
        "      <th>1</th>\n",
        "      <td>  601849857</td>\n",
        "      <td> 0</td>\n",
        "    </tr>\n",
        "    <tr>\n",
        "      <th>2</th>\n",
        "      <td>  351429761</td>\n",
        "      <td> 0</td>\n",
        "    </tr>\n",
        "    <tr>\n",
        "      <th>3</th>\n",
        "      <td> 2792643764</td>\n",
        "      <td> 0</td>\n",
        "    </tr>\n",
        "    <tr>\n",
        "      <th>4</th>\n",
        "      <td>  215056389</td>\n",
        "      <td> 0</td>\n",
        "    </tr>\n",
        "  </tbody>\n",
        "</table>\n",
        "<p>5 rows \u00d7 2 columns</p>\n",
        "</div>"
       ],
       "metadata": {},
       "output_type": "pyout",
       "prompt_number": 22,
       "text": [
        "      user_id  class\n",
        "0   984121344      0\n",
        "1   601849857      0\n",
        "2   351429761      0\n",
        "3  2792643764      0\n",
        "4   215056389      0\n",
        "\n",
        "[5 rows x 2 columns]"
       ]
      }
     ],
     "prompt_number": 22
    },
    {
     "cell_type": "code",
     "collapsed": false,
     "input": [
      "CONSUMER_KEY = \"NIdJmEzKanvYMoZMQOLRIWGhu\"\n",
      "CONSUMER_SECRET = \"OJVCVs1sG5RxOR1XRn30rj2x5BoPZvPzmSmA8kfLMBr2JjH5yZ\"\n",
      "\n",
      "ACCESS_TOKEN_KEY = \"105892440-hiutXI6zWd1XjrQJaotg7GbW6Mt1gihXCnE4njZH\"\n",
      "ACCESS_TOKEN_SECRET = \"RxIHlIylRycp8dPZfV8fXSM2WtMP74lteIp5P6jxwh4XW\"\n",
      "\n",
      "api = twitter.Api(consumer_key=CONSUMER_KEY, \n",
      "                  consumer_secret=CONSUMER_SECRET, \n",
      "                  access_token_key=ACCESS_TOKEN_KEY, \n",
      "                  access_token_secret=ACCESS_TOKEN_SECRET)"
     ],
     "language": "python",
     "metadata": {},
     "outputs": [],
     "prompt_number": 23
    },
    {
     "cell_type": "raw",
     "metadata": {},
     "source": [
      "\u041a\u0435\u0448 \u0434\u043b\u044f \u0437\u0430\u043f\u0440\u043e\u0441\u043e\u0432 \u043a \u0433\u0435\u043e \u0441\u0435\u0440\u0432\u0438\u0441\u0443"
     ]
    },
    {
     "cell_type": "code",
     "collapsed": false,
     "input": [
      "locations = [l.strip() for l in open('locations')]\n",
      "print len(locations)"
     ],
     "language": "python",
     "metadata": {},
     "outputs": [
      {
       "output_type": "stream",
       "stream": "stdout",
       "text": [
        "8005\n"
       ]
      }
     ],
     "prompt_number": 9
    },
    {
     "cell_type": "code",
     "collapsed": false,
     "input": [
      "locations_unique = set(locations)\n",
      "print len(locations_unique)"
     ],
     "language": "python",
     "metadata": {},
     "outputs": [
      {
       "output_type": "stream",
       "stream": "stdout",
       "text": [
        "3555\n"
       ]
      }
     ],
     "prompt_number": 10
    },
    {
     "cell_type": "code",
     "collapsed": false,
     "input": [
      "locations_long = [l for l in locations_unique if len(l) > 1]\n",
      "print len(locations_long)"
     ],
     "language": "python",
     "metadata": {},
     "outputs": [
      {
       "output_type": "stream",
       "stream": "stdout",
       "text": [
        "3550\n"
       ]
      }
     ],
     "prompt_number": 11
    },
    {
     "cell_type": "code",
     "collapsed": false,
     "input": [
      "locs_cache = dict()\n",
      "loc = 'UA'\n",
      "if loc not in locs_cache:\n",
      "    locs_cache[loc] = '1', '2', '3' # your request here    "
     ],
     "language": "python",
     "metadata": {},
     "outputs": [],
     "prompt_number": 19
    },
    {
     "cell_type": "raw",
     "metadata": {},
     "source": [
      "\u0418\u0449\u0435\u043c \u0438\u043d\u0444\u043e\u0440\u043c\u0430\u0446\u0438\u044e"
     ]
    },
    {
     "cell_type": "raw",
     "metadata": {},
     "source": [
      "https://www.google.ru/webhp?sourceid=chrome-instant&ion=1&espv=2&ie=UTF-8#q=python%20twitter\n",
      "https://github.com/bear/python-twitter/blob/master/twitter/api.py\n",
      "https://dev.twitter.com/rest/reference/get/users/lookup"
     ]
    },
    {
     "cell_type": "raw",
     "metadata": {},
     "source": [
      "It's sleeep time!"
     ]
    },
    {
     "cell_type": "code",
     "collapsed": false,
     "input": [
      "ids = df_users.iloc[0:100][\"user_id\"].tolist()\n",
      "try:\n",
      "    twitter_users = api.UsersLookup(user_id=ids)\n",
      "except twitter.TwitterError as ex:\n",
      "    if ex.message[0]['code'] == 88:\n",
      "        sleep_time = api.GetSleepTime(\"users/lookup\")\n",
      "        print \"sleep for \", sleep_time\n",
      "        time.sleep(sleep_time)"
     ],
     "language": "python",
     "metadata": {},
     "outputs": [],
     "prompt_number": 20
    },
    {
     "cell_type": "raw",
     "metadata": {},
     "source": [
      "Iterator"
     ]
    },
    {
     "cell_type": "code",
     "collapsed": false,
     "input": [
      "count = 0\n",
      "for i in range(len(twitter_users)):\n",
      "    print twitter_users[i]\n",
      "    break"
     ],
     "language": "python",
     "metadata": {},
     "outputs": []
    },
    {
     "cell_type": "code",
     "collapsed": false,
     "input": [
      "for item in twitter_users:\n",
      "    print type(item)\n",
      "    print item.AsDict()\n",
      "    break"
     ],
     "language": "python",
     "metadata": {},
     "outputs": []
    },
    {
     "cell_type": "markdown",
     "metadata": {},
     "source": [
      "https://drive.google.com/file/d/0BwmQ39auc9sDZkF1NE5zSVZOQzA/view?usp=sharing"
     ]
    }
   ],
   "metadata": {}
  }
 ]
}