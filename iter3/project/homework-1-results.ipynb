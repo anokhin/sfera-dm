{
 "cells": [
  {
   "cell_type": "code",
   "execution_count": 22,
   "metadata": {
    "collapsed": false
   },
   "outputs": [
    {
     "data": {
      "text/html": [
       "<div style=\"max-height:1000px;max-width:1500px;overflow:auto;\">\n",
       "<table border=\"1\" class=\"dataframe\">\n",
       "  <thead>\n",
       "    <tr style=\"text-align: right;\">\n",
       "      <th></th>\n",
       "      <th>user_id</th>\n",
       "      <th>class</th>\n",
       "    </tr>\n",
       "  </thead>\n",
       "  <tbody>\n",
       "    <tr>\n",
       "      <th>0</th>\n",
       "      <td>  984121344</td>\n",
       "      <td> 0</td>\n",
       "    </tr>\n",
       "    <tr>\n",
       "      <th>1</th>\n",
       "      <td>  601849857</td>\n",
       "      <td> 0</td>\n",
       "    </tr>\n",
       "    <tr>\n",
       "      <th>2</th>\n",
       "      <td>  351429761</td>\n",
       "      <td> 0</td>\n",
       "    </tr>\n",
       "    <tr>\n",
       "      <th>3</th>\n",
       "      <td> 2792643764</td>\n",
       "      <td> 0</td>\n",
       "    </tr>\n",
       "    <tr>\n",
       "      <th>4</th>\n",
       "      <td>  215056389</td>\n",
       "      <td> 0</td>\n",
       "    </tr>\n",
       "  </tbody>\n",
       "</table>\n",
       "<p>5 rows × 2 columns</p>\n",
       "</div>"
      ],
      "text/plain": [
       "      user_id  class\n",
       "0   984121344      0\n",
       "1   601849857      0\n",
       "2   351429761      0\n",
       "3  2792643764      0\n",
       "4   215056389      0\n",
       "\n",
       "[5 rows x 2 columns]"
      ]
     },
     "execution_count": 22,
     "metadata": {},
     "output_type": "execute_result"
    }
   ],
   "source": [
    "TRAINING_SET_URL = \"users.txt\"\n",
    "df_users = pd.read_csv(TRAINING_SET_URL, sep=\"\\t\", header=None, names=[\"user_id\", \"class\"])\n",
    "df_users.head()"
   ]
  },
  {
   "cell_type": "code",
   "execution_count": 23,
   "metadata": {
    "collapsed": false
   },
   "outputs": [],
   "source": [
    "CONSUMER_KEY = \"NIdJmEzKanvYMoZMQOLRIWGhu\"\n",
    "CONSUMER_SECRET = \"OJVCVs1sG5RxOR1XRn30rj2x5BoPZvPzmSmA8kfLMBr2JjH5yZ\"\n",
    "\n",
    "ACCESS_TOKEN_KEY = \"105892440-hiutXI6zWd1XjrQJaotg7GbW6Mt1gihXCnE4njZH\"\n",
    "ACCESS_TOKEN_SECRET = \"RxIHlIylRycp8dPZfV8fXSM2WtMP74lteIp5P6jxwh4XW\"\n",
    "\n",
    "api = twitter.Api(consumer_key=CONSUMER_KEY, \n",
    "                  consumer_secret=CONSUMER_SECRET, \n",
    "                  access_token_key=ACCESS_TOKEN_KEY, \n",
    "                  access_token_secret=ACCESS_TOKEN_SECRET)"
   ]
  },
  {
   "cell_type": "raw",
   "metadata": {},
   "source": [
    "Кеш для запросов к гео сервису"
   ]
  },
  {
   "cell_type": "code",
   "execution_count": 9,
   "metadata": {
    "collapsed": false
   },
   "outputs": [
    {
     "name": "stdout",
     "output_type": "stream",
     "text": [
      "8005\n"
     ]
    }
   ],
   "source": [
    "locations = [l.strip() for l in open('locations')]\n",
    "print len(locations)"
   ]
  },
  {
   "cell_type": "code",
   "execution_count": 10,
   "metadata": {
    "collapsed": false
   },
   "outputs": [
    {
     "name": "stdout",
     "output_type": "stream",
     "text": [
      "3555\n"
     ]
    }
   ],
   "source": [
    "locations_unique = set(locations)\n",
    "print len(locations_unique)"
   ]
  },
  {
   "cell_type": "code",
   "execution_count": 11,
   "metadata": {
    "collapsed": false
   },
   "outputs": [
    {
     "name": "stdout",
     "output_type": "stream",
     "text": [
      "3550\n"
     ]
    }
   ],
   "source": [
    "locations_long = [l for l in locations_unique if len(l) > 1]\n",
    "print len(locations_long)"
   ]
  },
  {
   "cell_type": "code",
   "execution_count": 19,
   "metadata": {
    "collapsed": false
   },
   "outputs": [],
   "source": [
    "locs_cache = dict()\n",
    "loc = 'UA'\n",
    "if loc not in locs_cache:\n",
    "    locs_cache[loc] = '1', '2', '3' # your request here    "
   ]
  },
  {
   "cell_type": "raw",
   "metadata": {},
   "source": [
    "Ищем информацию"
   ]
  },
  {
   "cell_type": "raw",
   "metadata": {},
   "source": [
    "https://www.google.ru/webhp?sourceid=chrome-instant&ion=1&espv=2&ie=UTF-8#q=python%20twitter\n",
    "https://github.com/bear/python-twitter/blob/master/twitter/api.py\n",
    "https://dev.twitter.com/rest/reference/get/users/lookup"
   ]
  },
  {
   "cell_type": "raw",
   "metadata": {},
   "source": [
    "It's sleeep time!"
   ]
  },
  {
   "cell_type": "code",
   "execution_count": 20,
   "metadata": {
    "collapsed": false
   },
   "outputs": [],
   "source": [
    "ids = df_users.iloc[0:100][\"user_id\"].tolist()\n",
    "try:\n",
    "    twitter_users = api.UsersLookup(user_id=ids)\n",
    "except twitter.TwitterError as ex:\n",
    "    if ex.message[0]['code'] == 88:\n",
    "        sleep_time = api.GetSleepTime(\"users/lookup\")\n",
    "        print \"sleep for \", sleep_time\n",
    "        time.sleep(sleep_time)"
   ]
  },
  {
   "cell_type": "raw",
   "metadata": {},
   "source": [
    "Iterator"
   ]
  },
  {
   "cell_type": "code",
   "execution_count": null,
   "metadata": {
    "collapsed": false
   },
   "outputs": [],
   "source": [
    "count = 0\n",
    "for i in range(len(twitter_users)):\n",
    "    print twitter_users[i]\n",
    "    break"
   ]
  },
  {
   "cell_type": "code",
   "execution_count": null,
   "metadata": {
    "collapsed": false
   },
   "outputs": [],
   "source": [
    "for item in twitter_users:\n",
    "    print type(item)\n",
    "    print item.AsDict()\n",
    "    break"
   ]
  },
  {
   "cell_type": "markdown",
   "metadata": {},
   "source": [
    "https://drive.google.com/file/d/0BwmQ39auc9sDZkF1NE5zSVZOQzA/view?usp=sharing"
   ]
  }
 ],
 "metadata": {
  "kernelspec": {
   "display_name": "Python 2",
   "language": "python",
   "name": "python2"
  },
  "language_info": {
   "codemirror_mode": {
    "name": "ipython",
    "version": 2
   },
   "file_extension": ".py",
   "mimetype": "text/x-python",
   "name": "python",
   "nbconvert_exporter": "python",
   "pygments_lexer": "ipython2",
   "version": "2.7.9"
  }
 },
 "nbformat": 4,
 "nbformat_minor": 0
}
