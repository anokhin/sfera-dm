{
 "metadata": {
  "name": "",
  "signature": "sha256:18b741f819a96893c4804008061b9877bdc41256ce7cc76f7032e6faeecdb7f1"
 },
 "nbformat": 3,
 "nbformat_minor": 0,
 "worksheets": [
  {
   "cells": [
    {
     "cell_type": "heading",
     "level": 1,
     "metadata": {},
     "source": [
      "\u0414\u043e\u043c\u0430\u0448\u043d\u0435\u0435 \u0437\u0430\u0434\u0430\u043d\u0438\u0435 3. \u041a\u043b\u0430\u0441\u0442\u0435\u0440\u0438\u0437\u0430\u0446\u0438\u044f"
     ]
    },
    {
     "cell_type": "code",
     "collapsed": false,
     "input": [
      "import pandas as pd\n",
      "import pylab as pl\n",
      "import numpy as np\n",
      "import scipy.spatial as ss\n",
      "import sklearn.cluster as sc\n",
      "import sklearn.manifold as sm\n",
      "\n",
      "# Plotting config\n",
      "%pylab inline"
     ],
     "language": "python",
     "metadata": {},
     "outputs": [
      {
       "output_type": "stream",
       "stream": "stdout",
       "text": [
        "Populating the interactive namespace from numpy and matplotlib\n"
       ]
      }
     ],
     "prompt_number": 78
    },
    {
     "cell_type": "markdown",
     "metadata": {},
     "source": [
      "\u0421\u0447\u0438\u0442\u0430\u0442\u044c \u0441\u043e\u0445\u0440\u0430\u043d\u0435\u043d\u043d\u044b\u0435 \u0434\u0430\u043d\u043d\u044b\u0435"
     ]
    },
    {
     "cell_type": "code",
     "collapsed": false,
     "input": [
      "data_df = pd.read_csv(\"files/hw2_out.csv\", sep=\"\\t\", header=0, index_col=\"user_id\")\n",
      "x = data_df.values"
     ],
     "language": "python",
     "metadata": {},
     "outputs": [],
     "prompt_number": 79
    },
    {
     "cell_type": "markdown",
     "metadata": {},
     "source": [
      "\u0420\u0435\u0430\u043b\u0438\u0437\u043e\u0432\u0430\u0442\u044c \u0430\u043b\u0433\u043e\u0440\u0438\u0442\u043c \u043a\u043b\u0430\u0441\u0442\u0435\u0440\u0438\u0437\u0430\u0446\u0438\u0438"
     ]
    },
    {
     "cell_type": "code",
     "collapsed": false,
     "input": [
      "class Clustering:\n",
      "    \n",
      "    def __init__(self, k, max_iter=100, n_init=1, epsilon=1e-3):\n",
      "        self.kmeans = sc.MiniBatchKMeans(n_clusters=k, n_init=n_init, max_iter=max_iter, tol=epsilon)\n",
      "        \n",
      "    def fit(self, x, y=None):\n",
      "        self.kmeans.fit(x, y)\n",
      "    \n",
      "    def predict(self, x):\n",
      "        return self.kmeans.predict(x)\n",
      "    \n",
      "    def fit_predict(self, x, y=None):\n",
      "        self.fit(x, y)\n",
      "        return self.predict(x)"
     ],
     "language": "python",
     "metadata": {},
     "outputs": [],
     "prompt_number": 80
    },
    {
     "cell_type": "markdown",
     "metadata": {},
     "source": [
      "\u0420\u0435\u0430\u043b\u0438\u0437\u043e\u0432\u0430\u0442\u044c \u043a\u0440\u0438\u0442\u0435\u0440\u0438\u0439 \u043a\u0430\u0447\u0435\u0441\u0442\u0432\u0430 \u043a\u043b\u0430\u0441\u0442\u0435\u0440\u0438\u0437\u0430\u0446\u0438\u0438"
     ]
    },
    {
     "cell_type": "code",
     "collapsed": false,
     "input": [
      "def quality(x, y):\n",
      "    clusters = np.unique(y)\n",
      "    inertia = 0\n",
      "    for cluster in clusters:\n",
      "        x_c = x[y == cluster]\n",
      "        centriod = x_c.mean(axis=0)\n",
      "        \n",
      "        for x_i in x_c:\n",
      "            inertia += ss.distance.euclidean(centriod, x_i)**2\n",
      "    \n",
      "    return inertia"
     ],
     "language": "python",
     "metadata": {},
     "outputs": [],
     "prompt_number": 81
    },
    {
     "cell_type": "markdown",
     "metadata": {},
     "source": [
      "\u041f\u0440\u0438\u043c\u0435\u043d\u0438\u0442\u044c \u043a\u0440\u0438\u0442\u0435\u0440\u0438\u0439 \u0434\u043b\u044f \u0432\u044b\u0431\u043e\u0440\u0430 \u043a\u043e\u043b\u0438\u0447\u0435\u0441\u0442\u0432\u0430 \u043a\u043b\u0430\u0441\u0442\u0435\u0440\u043e\u0432 (\u0432\u0440\u0443\u0447\u043d\u0443\u044e)"
     ]
    },
    {
     "cell_type": "code",
     "collapsed": false,
     "input": [
      "ks = range(1, 21)\n",
      "inertias = np.zeros(len(ks))\n",
      "\n",
      "for i, k in enumerate(ks):\n",
      "    cls = Clustering(k)\n",
      "    y = cls.fit_predict(x)\n",
      "    inertias[i] = quality(x, y)\n",
      "    \n",
      "pl.figure(figsize=(8, 6))\n",
      "pl.plot(ks, inertias)\n",
      "pl.title(\"$J(k)$\")\n",
      "pl.ylabel(\"Inertia $J$\")\n",
      "pl.xlabel(\"Number of clusters $k$\")\n",
      "pl.grid()\n",
      "pl.show()"
     ],
     "language": "python",
     "metadata": {},
     "outputs": [
      {
       "metadata": {},
       "output_type": "display_data",
       "png": "[encoded data removed]",
       "text": [
        "<matplotlib.figure.Figure at 0x17be3b70>"
       ]
      }
     ],
     "prompt_number": 82
    },
    {
     "cell_type": "markdown",
     "metadata": {},
     "source": [
      "\u041a\u043b\u0430\u0441\u0442\u0435\u0440\u0438\u0437\u043e\u0432\u0430\u0442\u044c \u0434\u0430\u043d\u043d\u044b\u0435, \u0438\u0441\u043f\u043e\u043b\u044c\u0437\u0443\u044f \u0432\u044b\u0431\u0440\u0430\u043d\u043d\u043e\u0435 \u043a\u043e\u043b\u0438\u0447\u0435\u0441\u0442\u0432\u043e \u043a\u043b\u0430\u0441\u0442\u0435\u0440\u043e\u0432, \u0438 \u0432\u0438\u0437\u0443\u0430\u043b\u0438\u0437\u0438\u0440\u043e\u0432\u0430\u0442\u044c \u0440\u0435\u0437\u0443\u043b\u044c\u0442\u0430\u0442 \u0441 \u043f\u043e\u043c\u043e\u0449\u044c\u044e T-SNE"
     ]
    },
    {
     "cell_type": "code",
     "collapsed": false,
     "input": [
      "k = 5\n",
      "cls = Clustering(k)\n",
      "y = cls.fit_predict(x)\n",
      "\n",
      "tsne = sm.TSNE(n_components=2, verbose=1, n_iter=200)\n",
      "z = tsne.fit_transform(x)\n",
      "\n",
      "# Get colors\n",
      "cm = pl.get_cmap('jet')\n",
      "colors = map(lambda c: cm(1.0 * c / k), y)\n",
      "\n",
      "pl.scatter(z[:, 0], z[:, 1], c=colors)\n",
      "pl.show()"
     ],
     "language": "python",
     "metadata": {},
     "outputs": [
      {
       "output_type": "stream",
       "stream": "stdout",
       "text": [
        "[t-SNE] Computing pairwise distances...\n",
        "[t-SNE] Computed conditional probabilities for sample 1000 / 9986"
       ]
      },
      {
       "output_type": "stream",
       "stream": "stdout",
       "text": [
        "\n",
        "[t-SNE] Computed conditional probabilities for sample 2000 / 9986"
       ]
      },
      {
       "output_type": "stream",
       "stream": "stdout",
       "text": [
        "\n",
        "[t-SNE] Computed conditional probabilities for sample 3000 / 9986"
       ]
      },
      {
       "output_type": "stream",
       "stream": "stdout",
       "text": [
        "\n",
        "[t-SNE] Computed conditional probabilities for sample 4000 / 9986"
       ]
      },
      {
       "output_type": "stream",
       "stream": "stdout",
       "text": [
        "\n",
        "[t-SNE] Computed conditional probabilities for sample 5000 / 9986"
       ]
      },
      {
       "output_type": "stream",
       "stream": "stdout",
       "text": [
        "\n",
        "[t-SNE] Computed conditional probabilities for sample 6000 / 9986"
       ]
      },
      {
       "output_type": "stream",
       "stream": "stdout",
       "text": [
        "\n",
        "[t-SNE] Computed conditional probabilities for sample 7000 / 9986"
       ]
      },
      {
       "output_type": "stream",
       "stream": "stdout",
       "text": [
        "\n",
        "[t-SNE] Computed conditional probabilities for sample 8000 / 9986"
       ]
      },
      {
       "output_type": "stream",
       "stream": "stdout",
       "text": [
        "\n",
        "[t-SNE] Computed conditional probabilities for sample 9000 / 9986"
       ]
      },
      {
       "output_type": "stream",
       "stream": "stdout",
       "text": [
        "\n",
        "[t-SNE] Computed conditional probabilities for sample 9986 / 9986"
       ]
      }
     ]
    },
    {
     "cell_type": "code",
     "collapsed": false,
     "input": [],
     "language": "python",
     "metadata": {},
     "outputs": []
    },
    {
     "cell_type": "code",
     "collapsed": false,
     "input": [],
     "language": "python",
     "metadata": {},
     "outputs": []
    }
   ],
   "metadata": {}
  }
 ]
}