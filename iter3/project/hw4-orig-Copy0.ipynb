{
 "metadata": {
  "name": "",
  "signature": "sha256:c2d85f01a887ed3ff785907ecdc07f3ffce6b192d082b8b48d5760b08e0544bc"
 },
 "nbformat": 3,
 "nbformat_minor": 0,
 "worksheets": [
  {
   "cells": [
    {
     "cell_type": "code",
     "collapsed": false,
     "input": [
      "import numpy as np\n",
      "words = np.array(v.get_feature_names()) \n",
      "counts = vs.sum(axis=0).tolist()[0]\n",
      "freqs =  zip(words, counts)\n",
      "from pytagcloud import create_tag_image, make_tags\n",
      "tags = make_tags(freqs, maxsize=80)\n"
     ],
     "language": "python",
     "metadata": {},
     "outputs": [],
     "prompt_number": 13
    },
    {
     "cell_type": "code",
     "collapsed": false,
     "input": [
      "create_tag_image(tags, \"tmp_file.png\", size=(1000, 480), fontname='Lobster')\n",
      "from PIL import Image                                                                       \n",
      "img = Image.open('tmp_file.png')\n",
      "img.show() "
     ],
     "language": "python",
     "metadata": {},
     "outputs": [],
     "prompt_number": 14
    },
    {
     "cell_type": "markdown",
     "metadata": {},
     "source": [
      "https://www.dropbox.com/s/tjpmk3hu7xq3s89/tmp_file.png?dl=0"
     ]
    },
    {
     "cell_type": "markdown",
     "metadata": {},
     "source": []
    },
    {
     "cell_type": "code",
     "collapsed": false,
     "input": [
      "def draw_tag_cloud(v, vs):\n",
      "    \"\"\"Draws tag cloud of found tokens\"\"\"\n",
      "    tagsNumb = 100\n",
      "    tokenFrequency = vs.sum(axis=0).tolist()[0]\n",
      "    print tokenFrequency\n",
      "    indexPopular = np.argsort(tokenFrequency)[len(tokenFrequency)-tagsNumb:]\n",
      "    tokenPopular = np.take(tokenFrequency, indexPopular)\n",
      "    print tokenPopular\n",
      "    maxFreq = np.max(tokenPopular)\n",
      "    minFreq = np.min(tokenPopular)\n",
      "    print maxFreq, minFreq\n",
      "    pl.figure(figsize=(30,30))\n",
      "    rnd.seed()\n",
      "    colors = ['b','g','r','k','y','c','m']\n",
      "    for i in range(len(indexPopular)-1, -1, -1):\n",
      "        print i\n",
      "        size = 30/((maxFreq-tokenFrequency[indexPopular[i]])/(maxFreq-minFreq)+1)\n",
      "        n = 295\n",
      "        alpha = n*np.pi/tagsNumb*(tagsNumb-i)\n",
      "        r = np.log(np.log(float(tagsNumb-i)/tagsNumb/2 + 1) + 1)*0.9 + 0.16\n",
      "        print 'alpha', alpha\n",
      "        pl.text(0.49+r*np.cos(alpha), 0.5+r*np.sin(alpha), v.get_feature_names()[indexPopular[i]],\n",
      "                {'color' : colors[i%len(colors)], 'fontsize' : size} )\n",
      "    pl.show()\n",
      "    return\n",
      "\n",
      "draw_tag_cloud(v,vs)"
     ],
     "language": "python",
     "metadata": {},
     "outputs": []
    },
    {
     "cell_type": "markdown",
     "metadata": {},
     "source": [
      "https://www.dropbox.com/s/rdyzykch5h8mh00/tags%208000%20%281%29.png?dl=0"
     ]
    },
    {
     "cell_type": "code",
     "collapsed": false,
     "input": [
      "import matplotlib.pyplot as plt\n",
      "from wordcloud import WordCloud\n",
      "from scipy.misc import imread\n",
      "\n",
      "def draw_tag_cloud(text):\n",
      "    \"\"\"Draws tag cloud of found tokens\"\"\"\n",
      "    m_mask = imread(\"logo.png\")\n",
      "    wordcloud = WordCloud(mask = m_mask, background_color=\"white\", max_words=200, font_path='/Library/Fonts/verdana.ttf').generate(text)\n",
      "    wordcloud.to_file(\"twitter.png\")\n",
      "    plt.imshow(wordcloud)\n",
      "    plt.axis(\"off\")\n",
      "    plt.show()\n",
      "    return\n",
      "\n",
      "draw_tag_cloud(text)"
     ],
     "language": "python",
     "metadata": {},
     "outputs": []
    },
    {
     "cell_type": "markdown",
     "metadata": {},
     "source": [
      "https://www.dropbox.com/s/6q0mk4r6nia031w/twitter.png?dl=0"
     ]
    }
   ],
   "metadata": {}
  }
 ]
}