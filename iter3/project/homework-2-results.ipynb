{
 "metadata": {
  "name": ""
 },
 "nbformat": 3,
 "nbformat_minor": 0,
 "worksheets": [
  {
   "cells": [
    {
     "cell_type": "code",
     "collapsed": false,
     "input": [
      "import pandas as pd\n",
      "import numpy as np\n",
      "import pylab as pl\n",
      "import sklearn.preprocessing as sp\n",
      "import csv\n",
      "import re\n",
      "import dateutil\n",
      "\n",
      "np.set_printoptions(linewidth=150, precision=3, suppress=True)\n",
      "\n",
      "# Plotting config\n",
      "%pylab inline"
     ],
     "language": "python",
     "metadata": {},
     "outputs": [
      {
       "output_type": "stream",
       "stream": "stdout",
       "text": [
        "Populating the interactive namespace from numpy and matplotlib\n"
       ]
      }
     ],
     "prompt_number": 1
    },
    {
     "cell_type": "raw",
     "metadata": {},
     "source": [
      "\u0421\u0447\u0438\u0442\u0430\u0435\u043c dataset"
     ]
    },
    {
     "cell_type": "code",
     "collapsed": false,
     "input": [
      "ts_parser = lambda date_str: dateutil.parser.parse(date_str) if pd.notnull(date_str) else None\n",
      "df_users = pd.read_csv(\"files/hw1_out.csv\", sep=\"\\t\", encoding=\"utf-8\", quoting=csv.QUOTE_NONNUMERIC, converters={\"created_at\": ts_parser})\n",
      "# Remove rows with users not found\n",
      "df_users = df_users[pd.notnull(df_users['name'])]\n",
      "df_users[\"lat\"].fillna(value=0, inplace=True)\n",
      "df_users[\"lon\"].fillna(value=0, inplace=True)\n",
      "print df_users.head(1)"
     ],
     "language": "python",
     "metadata": {},
     "outputs": [
      {
       "output_type": "stream",
       "stream": "stdout",
       "text": [
        "     user_id  class            name  screen_name  \\\n",
        "0  984121344      0  Ramona Flowers  ciarradical   \n",
        "\n",
        "                                         description verified location  \\\n",
        "0  \u262fCiarra m.j.\u262f |XV | religion free | music is m...    False  florida   \n",
        "\n",
        "        lat       lon  country                 created_at  followers_count  \\\n",
        "0 -33.83333 -55.91667  Uruguay  2012-12-02 07:46:25+00:00              210   \n",
        "\n",
        "   friends_count  statuses_count  favourites_count  listed_count  \n",
        "0            517            5092              2995             3  \n",
        "\n",
        "[1 rows x 16 columns]\n"
       ]
      }
     ],
     "prompt_number": 4
    },
    {
     "cell_type": "raw",
     "metadata": {},
     "source": [
      "\u0420\u0435\u0434\u0430\u043a\u0442\u0438\u0440\u043e\u0432\u0430\u043d\u0438\u0435 \u043d\u0430\u0431\u043e\u0440\u0430 \u0434\u0430\u043d\u043d\u044b\u0445 inplace"
     ]
    },
    {
     "cell_type": "code",
     "collapsed": false,
     "input": [
      "df_users[\"screen_name_length\"] = df_users[\"screen_name\"].map(lambda n: len(n))\n",
      "print df_users.head(1)"
     ],
     "language": "python",
     "metadata": {},
     "outputs": [
      {
       "output_type": "stream",
       "stream": "stdout",
       "text": [
        "     user_id  class            name  screen_name  \\\n",
        "0  984121344      0  Ramona Flowers  ciarradical   \n",
        "\n",
        "                                         description verified location  \\\n",
        "0  \u262fCiarra m.j.\u262f |XV | religion free | music is m...    False  florida   \n",
        "\n",
        "        lat       lon  country                 created_at  followers_count  \\\n",
        "0 -33.83333 -55.91667  Uruguay  2012-12-02 07:46:25+00:00              210   \n",
        "\n",
        "   friends_count  statuses_count  favourites_count  listed_count  \\\n",
        "0            517            5092              2995             3   \n",
        "\n",
        "   screen_name_length  \n",
        "0                  11  \n",
        "\n",
        "[1 rows x 17 columns]\n"
       ]
      }
     ],
     "prompt_number": 5
    },
    {
     "cell_type": "code",
     "collapsed": false,
     "input": [
      "features = [\"verified\", \"lat\", \"lon\", \"followers_count\", \"friends_count\", \"statuses_count\", \"favourites_count\", \"listed_count\", \"screen_name_length\"]\n",
      "x = df_users[features].values\n",
      "y = df_users[\"class\"].values"
     ],
     "language": "python",
     "metadata": {},
     "outputs": [],
     "prompt_number": 7
    },
    {
     "cell_type": "raw",
     "metadata": {},
     "source": [
      "Enumerate"
     ]
    },
    {
     "cell_type": "code",
     "collapsed": false,
     "input": [
      "for (i, j), corr in np.ndenumerate(np.corrcoef(x, rowvar=0)):\n",
      "    if i < j and np.abs(corr) > 0.25:\n",
      "        print \"Correlated features: %s + %s -> %.2f\" % (features[i], features[j], corr)"
     ],
     "language": "python",
     "metadata": {},
     "outputs": [
      {
       "output_type": "stream",
       "stream": "stdout",
       "text": [
        "Correlated features: verified + followers_count -> 0.35\n",
        "Correlated features: verified + listed_count -> 0.43\n",
        "Correlated features: lat + lon -> -0.66\n",
        "Correlated features: followers_count + listed_count -> 0.71\n",
        "Correlated features: statuses_count + favourites_count -> 0.36\n"
       ]
      }
     ],
     "prompt_number": 8
    },
    {
     "cell_type": "code",
     "collapsed": false,
     "input": [
      "def plot_two_features_scatter(x_i, x_j, y):\n",
      "    t = arange(0.0, 2.0, 0.01)\n",
      "    s = sin(2*pi*t)\n",
      "    pl.plot(t, s)\n",
      "    #pl.scatter(x_j, x_i, color=colors, alpha=0.6, s=2)    \n",
      "\n",
      "    \n",
      "def plot_feature_histogram(x_i, y):\n",
      "    t = arange(0.0, 2.0, 0.01)\n",
      "    s = sin(2*pi*t)\n",
      "    pl.plot(t, s)\n",
      "\n",
      "def plot_dataset(x, y, features):\n",
      "    pl.figure(figsize=(8, 8))\n",
      "\n",
      "    for i, feature_i in enumerate(features):\n",
      "        for j, feature_j in enumerate(features):\n",
      "            pl.subplot(len(features), len(features), len(features) * i + j + 1)\n",
      "            if i == 0:\n",
      "                pl.xlabel(feature_j)\n",
      "            if j == 0:\n",
      "                pl.ylabel(feature_i)\n",
      "            # Do actual plotting\n",
      "            if i != j:\n",
      "                plot_two_features_scatter(x[:, i], x[:, j], y)            \n",
      "            else:\n",
      "                plot_feature_histogram(x[:, i], y)\n",
      "    \n",
      "    pl.show()"
     ],
     "language": "python",
     "metadata": {},
     "outputs": [],
     "prompt_number": 24
    },
    {
     "cell_type": "code",
     "collapsed": false,
     "input": [
      "geo_features = [\"lat\", \"lon\"]\n",
      "geo_feature_ind = [i for i, f in enumerate(features) if f in geo_features]\n",
      "plot_dataset(x[:, geo_feature_ind], y, geo_features)"
     ],
     "language": "python",
     "metadata": {},
     "outputs": [
      {
       "metadata": {},
       "output_type": "display_data",
       "png": "[encoded data removed]",
       "text": [
        "<matplotlib.figure.Figure at 0x7f74b7366a10>"
       ]
      }
     ],
     "prompt_number": 25
    },
    {
     "cell_type": "code",
     "collapsed": false,
     "input": [],
     "language": "python",
     "metadata": {},
     "outputs": []
    }
   ],
   "metadata": {}
  }
 ]
}