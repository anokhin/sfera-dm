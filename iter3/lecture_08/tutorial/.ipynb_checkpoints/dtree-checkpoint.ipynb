{
 "metadata": {
  "name": "",
  "signature": "sha256:5b42fc54aeb0259fc770d6e8ede81cb2f18b67a8c762461ec56e4b66c139c0fb"
 },
 "nbformat": 3,
 "nbformat_minor": 0,
 "worksheets": []
}