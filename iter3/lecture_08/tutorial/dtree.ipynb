{
 "metadata": {
  "name": "",
  "signature": "sha256:7ee17073103a144defb9fb8e6ed6cfa49fde8afd835bc5670cbd5d3897e6e168"
 },
 "nbformat": 3,
 "nbformat_minor": 0,
 "worksheets": [
  {
   "cells": [
    {
     "cell_type": "code",
     "collapsed": false,
     "input": [
      "import pandas as pd"
     ],
     "language": "python",
     "metadata": {},
     "outputs": [],
     "prompt_number": 1
    },
    {
     "cell_type": "code",
     "collapsed": false,
     "input": [
      "column_names=[\n",
      "    'classification', \n",
      "    'cap_shape', \n",
      "    'cap_surface', \n",
      "    'cap_color', \n",
      "    'bruises', \n",
      "    'odor', \n",
      "    'gill_attachment', \n",
      "    'gill_spacing', \n",
      "    'gill_size', \n",
      "    'gill_color', \n",
      "    'stalk_shape', \n",
      "    'stalk_root', \n",
      "    'stalk_surface_above_ring', \n",
      "    'stalk_surface_below_ring', \n",
      "    'stalk_color_above_ring', \n",
      "    'stalk_color_below_ring', \n",
      "    'veil_type', \n",
      "    'veil_color', \n",
      "    'ring_number', \n",
      "    'ring_type', \n",
      "    'spore_print_color',           \n",
      "    'population', \n",
      "    'habitat'\n",
      "]\n",
      "\n",
      "mushrooms_df = pd.read_csv(\n",
      "    \"https://archive.ics.uci.edu/ml/machine-learning-databases/mushroom/agaricus-lepiota.data\",\n",
      "    header=None,\n",
      "    names=column_names,\n",
      "    converters=dict((name, lambda c: ord(c)) for name in column_names)\n",
      ")\n",
      "\n",
      "X = mushrooms_df.values[:, 1:]\n",
      "Y = mushrooms_df.values[:, 0]\n",
      "\n",
      "print \"Successfully read %dx%d X data set for %d objects\" % (X.shape[0], X.shape[1], Y.shape[0])"
     ],
     "language": "python",
     "metadata": {},
     "outputs": [
      {
       "output_type": "stream",
       "stream": "stdout",
       "text": [
        "Successfully read 8124x22 X data set for 8124 objects\n"
       ]
      }
     ],
     "prompt_number": 15
    },
    {
     "cell_type": "code",
     "collapsed": false,
     "input": [],
     "language": "python",
     "metadata": {},
     "outputs": [
      {
       "metadata": {},
       "output_type": "pyout",
       "prompt_number": 14,
       "text": [
        "(array([[120, 115, 110, ..., 107, 115, 117],\n",
        "        [120, 115, 121, ..., 110, 110, 103],\n",
        "        [ 98, 115, 119, ..., 110, 110, 109],\n",
        "        ..., \n",
        "        [102, 115, 110, ...,  98,  99, 108],\n",
        "        [107, 121, 110, ..., 119, 118, 108],\n",
        "        [120, 115, 110, ..., 111,  99, 108]], dtype=int64),\n",
        " array([112, 101, 101, ..., 101, 112, 101], dtype=int64))"
       ]
      }
     ],
     "prompt_number": 14
    }
   ],
   "metadata": {}
  }
 ]
}